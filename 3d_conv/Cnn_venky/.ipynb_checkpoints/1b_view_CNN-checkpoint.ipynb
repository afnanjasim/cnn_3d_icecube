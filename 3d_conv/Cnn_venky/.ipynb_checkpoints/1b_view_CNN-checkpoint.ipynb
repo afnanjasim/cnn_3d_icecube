{
 "cells": [
  {
   "cell_type": "markdown",
   "metadata": {},
   "source": [
    "# Code for Ice-Cube 3D CNN\n",
    "\n",
    "- Oct 29, 2018: This code just makes plots for previously trained CNNs"
   ]
  },
  {
   "cell_type": "code",
   "execution_count": 1,
   "metadata": {
    "scrolled": false
   },
   "outputs": [],
   "source": [
    "import sys\n",
    "import os\n",
    "\n",
    "import matplotlib.pyplot as plt\n",
    "import numpy as np\n",
    "import glob\n",
    "import pickle\n",
    "import time"
   ]
  },
  {
   "cell_type": "code",
   "execution_count": 2,
   "metadata": {},
   "outputs": [],
   "source": [
    "%matplotlib widget\n",
    "# %matplotlib inline"
   ]
  },
  {
   "cell_type": "markdown",
   "metadata": {},
   "source": [
    "Useful blog for keras conv3D: http://learnandshare645.blogspot.com/2016/06/3d-cnn-in-keras-action-recognition.html"
   ]
  },
  {
   "cell_type": "code",
   "execution_count": 3,
   "metadata": {},
   "outputs": [],
   "source": [
    "# keras modules\n",
    "import tensorflow.keras as keras\n",
    "from tensorflow.keras import layers, models, optimizers, callbacks  # or tensorflow.keras as keras\n",
    "import tensorflow as tf\n",
    "from sklearn.utils import shuffle\n",
    "from sklearn.metrics import roc_curve, auc, roc_auc_score\n",
    "from tensorflow.keras.models import load_model\n",
    "\n"
   ]
  },
  {
   "cell_type": "markdown",
   "metadata": {},
   "source": [
    "## Modules"
   ]
  },
  {
   "cell_type": "code",
   "execution_count": 4,
   "metadata": {},
   "outputs": [],
   "source": [
    "def f_get_ydata_and_wts(data_dir,f1,f2):\n",
    "    ''' Load extracted data from files. Just extracting ydata and weights\n",
    "    returns : inpy,weights as arrays\n",
    "    '''\n",
    "\n",
    "    inpy=np.loadtxt(data_dir+f1)\n",
    "    wts=np.loadtxt(data_dir+f2)\n",
    "    \n",
    "    return inpy,wts\n",
    "    \n",
    "    \n",
    "def f_plot_learning(history):\n",
    "    \n",
    "    fig=plt.figure()\n",
    "    # Plot training & validation accuracy values\n",
    "    fig.add_subplot(2,1,1)\n",
    "    plt.plot(history['acc'],label='Train')\n",
    "    plt.plot(history['val_acc'],label='Validation')\n",
    "#     plt.title('Model accuracy')\n",
    "    plt.ylabel('Accuracy')\n",
    "\n",
    "    # Plot loss values\n",
    "    fig.add_subplot(2,1,2)\n",
    "    plt.plot(history['loss'],label='Train')\n",
    "    plt.plot(history['val_loss'],label='Validation')\n",
    "#     plt.title('Model loss')\n",
    "    plt.ylabel('Loss')\n",
    "    plt.xlabel('Epoch')\n",
    "    plt.legend(loc='best')\n",
    "\n",
    "\n",
    "def f_plot_roc_curve(fpr,tpr):\n",
    "    '''\n",
    "    Module for roc plot and printing AUC\n",
    "    '''\n",
    "    plt.figure()\n",
    "    # plt.plot(fpr,tpr)\n",
    "    plt.scatter(fpr,tpr)\n",
    "    plt.semilogx(fpr, tpr)\n",
    "  # Zooms\n",
    "    plt.xlim([10**-7,1.0])\n",
    "    plt.ylim([0,1.0])\n",
    "#     plt.xscale('log')\n",
    "#     plt.xlim(1e-10,1e-5)\n",
    "    plt.show()\n",
    "\n",
    "    # AUC \n",
    "    auc_val = auc(fpr, tpr)\n",
    "    print(\"AUC: \",auc_val)\n",
    "\n",
    "\n",
    "def f_plot_fit(inpy,wts,model_dict,model_loc):\n",
    "    '''\n",
    "    Plot fit results.\n",
    "    '''\n",
    "    \n",
    "    model_save_dir=model_loc\n",
    "    model_name=model_dict['name'] # string for the model\n",
    "    fname_model,fname_history='model_{0}.h5'.format(model_name),'history_{0}.pickle'.format(model_name)\n",
    "    \n",
    "        \n",
    "    ########################\n",
    "    ### Read model and history\n",
    "    \n",
    "    ### Check if files exist\n",
    "    assert os.path.exists(model_save_dir+fname_model),\"Model not saved\"\n",
    "    assert os.path.exists(model_save_dir+fname_history),\"History not saved\"\n",
    "    \n",
    "    model=load_model(model_save_dir+fname_model)\n",
    "    with open(model_save_dir+fname_history,'rb') as f:\n",
    "        history= pickle.load(f)\n",
    "    \n",
    "    ########################\n",
    "    model.summary()\n",
    "    # Plot tested model\n",
    "    f_plot_learning(history)\n",
    "    \n",
    "    ########################\n",
    "    # Get test predictions\n",
    "    \n",
    "    test_file_name=model_save_dir+'y-predict_model-'+str(model_name)+'.pred'\n",
    "    test_y_file_name=model_save_dir+'y-test_model-'+str(model_name)+'.test'\n",
    "    test_weights_file_name=model_save_dir+'wts-test_model-'+str(model_name)+'.test'    \n",
    "    print(\"Using test prediction from previous test\",test_file_name)\n",
    "\n",
    "    assert os.path.exists(test_file_name),\"y-predictions not saved\"\n",
    "    y_pred=np.loadtxt(test_file_name)\n",
    "    ydata=np.loadtxt(test_y_file_name)\n",
    "    wts=np.loadtxt(test_weights_file_name)\n",
    "    assert(test_y.shape==y_pred.shape),\"Data %s and prediction arrays %s are not of the same size\"%(test_y.shape,y_pred.shape)\n",
    "    \n",
    "    fpr,tpr,threshold=roc_curve(ydata,y_pred,sample_weight=wts)\n",
    "    print(fpr.shape,tpr.shape,threshold.shape)\n",
    "    f_plot_roc_curve(fpr,tpr)\n",
    "    \n",
    "    model_dict['model'],model_dict['history']=model,history\n",
    "    \n",
    "    return model_dict\n",
    "\n"
   ]
  },
  {
   "cell_type": "markdown",
   "metadata": {},
   "source": [
    "## Read part of test data"
   ]
  },
  {
   "cell_type": "code",
   "execution_count": 14,
   "metadata": {},
   "outputs": [
    {
     "name": "stdout",
     "output_type": "stream",
     "text": [
      "(376302,) (376302,)\n"
     ]
    }
   ],
   "source": [
    "if __name__=='__main__':\n",
    "    \n",
    "    model_loc='/global/project/projectdirs/dasrepo/vpa/ice_cube/data_for_cnn/Jan11_14_models/'\n",
    "\n",
    "    ###Extract data : Only extract y-data and weights for tests, which has been saved already along with the model.\n",
    "    ### Note!: the test file data is the same for all models, so just pick the first one. ###\n",
    "    f1,f2='y-test_model-1.test','wts-test_model-1.test'\n",
    "    inpy,wts=f_get_ydata_and_wts(model_loc,f1,f2)\n",
    "    test_y,test_wts=inpy[:],wts[:]\n",
    "    print(test_y.shape,test_wts.shape)\n",
    "\n"
   ]
  },
  {
   "cell_type": "markdown",
   "metadata": {},
   "source": [
    "## Plot fits"
   ]
  },
  {
   "cell_type": "code",
   "execution_count": null,
   "metadata": {},
   "outputs": [
    {
     "name": "stdout",
     "output_type": "stream",
     "text": [
      "6 {'name': '6', 'description': None, 'model': None, 'history': None}\n",
      "_________________________________________________________________\n",
      "Layer (type)                 Output Shape              Param #   \n",
      "=================================================================\n",
      "input_6 (InputLayer)         (None, 10, 20, 60, 1)     0         \n",
      "_________________________________________________________________\n",
      "conv3d_14 (Conv3D)           (None, 10, 20, 60, 20)    180       \n",
      "_________________________________________________________________\n",
      "max_pooling3d_14 (MaxPooling (None, 10, 20, 30, 20)    0         \n",
      "_________________________________________________________________\n",
      "dropout_15 (Dropout)         (None, 10, 20, 30, 20)    0         \n",
      "_________________________________________________________________\n",
      "conv3d_15 (Conv3D)           (None, 10, 20, 30, 20)    3220      \n",
      "_________________________________________________________________\n",
      "max_pooling3d_15 (MaxPooling (None, 10, 20, 15, 20)    0         \n",
      "_________________________________________________________________\n",
      "dropout_16 (Dropout)         (None, 10, 20, 15, 20)    0         \n",
      "_________________________________________________________________\n",
      "conv3d_16 (Conv3D)           (None, 10, 20, 15, 20)    3220      \n",
      "_________________________________________________________________\n",
      "max_pooling3d_16 (MaxPooling (None, 10, 20, 7, 20)     0         \n",
      "_________________________________________________________________\n",
      "dropout_17 (Dropout)         (None, 10, 20, 7, 20)     0         \n",
      "_________________________________________________________________\n",
      "conv3d_17 (Conv3D)           (None, 10, 20, 7, 20)     3220      \n",
      "_________________________________________________________________\n",
      "max_pooling3d_17 (MaxPooling (None, 10, 20, 3, 20)     0         \n",
      "_________________________________________________________________\n",
      "dropout_18 (Dropout)         (None, 10, 20, 3, 20)     0         \n",
      "_________________________________________________________________\n",
      "flatten_5 (Flatten)          (None, 12000)             0         \n",
      "_________________________________________________________________\n",
      "dense_10 (Dense)             (None, 120)               1440120   \n",
      "_________________________________________________________________\n",
      "dropout_19 (Dropout)         (None, 120)               0         \n",
      "_________________________________________________________________\n",
      "dense_11 (Dense)             (None, 1)                 121       \n",
      "=================================================================\n",
      "Total params: 1,450,081\n",
      "Trainable params: 1,450,081\n",
      "Non-trainable params: 0\n",
      "_________________________________________________________________\n"
     ]
    },
    {
     "data": {
      "application/vnd.jupyter.widget-view+json": {
       "model_id": "03a40d5dd34a465ca254706cae5b6f1c",
       "version_major": 2,
       "version_minor": 0
      },
      "text/plain": [
       "FigureCanvasNbAgg()"
      ]
     },
     "metadata": {},
     "output_type": "display_data"
    },
    {
     "name": "stdout",
     "output_type": "stream",
     "text": [
      "Using test prediction from previous test /global/project/projectdirs/dasrepo/vpa/ice_cube/data_for_cnn/Jan11_14_models/y-predict_model-6.pred\n",
      "(370820,) (370820,) (370820,)\n"
     ]
    },
    {
     "data": {
      "application/vnd.jupyter.widget-view+json": {
       "model_id": "f6fc0728aaa54cdf9ab46685e64a796f",
       "version_major": 2,
       "version_minor": 0
      },
      "text/plain": [
       "FigureCanvasNbAgg()"
      ]
     },
     "metadata": {},
     "output_type": "display_data"
    },
    {
     "name": "stdout",
     "output_type": "stream",
     "text": [
      "AUC:  0.7732877104467533\n",
      "7 {'name': '7', 'description': None, 'model': None, 'history': None}\n",
      "_________________________________________________________________\n",
      "Layer (type)                 Output Shape              Param #   \n",
      "=================================================================\n",
      "input_7 (InputLayer)         (None, 10, 20, 60, 1)     0         \n",
      "_________________________________________________________________\n",
      "conv3d_18 (Conv3D)           (None, 10, 20, 60, 20)    180       \n",
      "_________________________________________________________________\n",
      "max_pooling3d_18 (MaxPooling (None, 10, 10, 30, 20)    0         \n",
      "_________________________________________________________________\n",
      "dropout_20 (Dropout)         (None, 10, 10, 30, 20)    0         \n",
      "_________________________________________________________________\n",
      "conv3d_19 (Conv3D)           (None, 10, 10, 30, 20)    3220      \n",
      "_________________________________________________________________\n",
      "max_pooling3d_19 (MaxPooling (None, 10, 5, 15, 20)     0         \n",
      "_________________________________________________________________\n",
      "dropout_21 (Dropout)         (None, 10, 5, 15, 20)     0         \n",
      "_________________________________________________________________\n",
      "conv3d_20 (Conv3D)           (None, 10, 5, 15, 20)     3220      \n",
      "_________________________________________________________________\n",
      "max_pooling3d_20 (MaxPooling (None, 10, 2, 7, 20)      0         \n",
      "_________________________________________________________________\n",
      "dropout_22 (Dropout)         (None, 10, 2, 7, 20)      0         \n",
      "_________________________________________________________________\n",
      "conv3d_21 (Conv3D)           (None, 10, 2, 7, 20)      3220      \n",
      "_________________________________________________________________\n",
      "max_pooling3d_21 (MaxPooling (None, 10, 1, 3, 20)      0         \n",
      "_________________________________________________________________\n",
      "dropout_23 (Dropout)         (None, 10, 1, 3, 20)      0         \n",
      "_________________________________________________________________\n",
      "flatten_6 (Flatten)          (None, 600)               0         \n",
      "_________________________________________________________________\n",
      "dense_12 (Dense)             (None, 120)               72120     \n",
      "_________________________________________________________________\n",
      "dropout_24 (Dropout)         (None, 120)               0         \n",
      "_________________________________________________________________\n",
      "dense_13 (Dense)             (None, 1)                 121       \n",
      "=================================================================\n",
      "Total params: 82,081\n",
      "Trainable params: 82,081\n",
      "Non-trainable params: 0\n",
      "_________________________________________________________________\n"
     ]
    },
    {
     "data": {
      "application/vnd.jupyter.widget-view+json": {
       "model_id": "37d4b41ddabb48c1bcd9f7e0dce3ee53",
       "version_major": 2,
       "version_minor": 0
      },
      "text/plain": [
       "FigureCanvasNbAgg()"
      ]
     },
     "metadata": {},
     "output_type": "display_data"
    },
    {
     "name": "stdout",
     "output_type": "stream",
     "text": [
      "Using test prediction from previous test /global/project/projectdirs/dasrepo/vpa/ice_cube/data_for_cnn/Jan11_14_models/y-predict_model-7.pred\n"
     ]
    }
   ],
   "source": [
    "dict_list=[]\n",
    "for i in range(6,11):\n",
    "# for i in range(1,2):\n",
    "    model_dict={'name':str(i),'description':None,'model':None,'history':None}\n",
    "    print(i,model_dict)\n",
    "    model_dict=f_plot_fit(test_y,test_wts,model_dict,model_loc)\n",
    "    dict_list.append(model_dict)"
   ]
  },
  {
   "cell_type": "markdown",
   "metadata": {},
   "source": [
    "### Comparing models"
   ]
  },
  {
   "cell_type": "code",
   "execution_count": 10,
   "metadata": {},
   "outputs": [],
   "source": [
    "# ## Comparing different models:\n",
    "\n",
    "# for md in dict_list:\n",
    "# #     print(md)\n",
    "#     hist=md['history']\n",
    "# #     print(hist)\n",
    "# #     print(md)\n",
    "#     print('Model %s'%(md['name']))\n",
    "#     for key in hist.keys():\n",
    "#         print(key,hist[key])\n",
    "# #     print(md[''])\n",
    "        "
   ]
  },
  {
   "cell_type": "markdown",
   "metadata": {},
   "source": [
    "## -----------------------------------------------"
   ]
  },
  {
   "cell_type": "markdown",
   "metadata": {},
   "source": [
    "#### Notes on Roc curve:\n",
    "- We know y-value depending on signal or background (0 or 1).\n",
    "- The 3D-Cnn gives us a prediction for y, as a float between 0 or 1.\n",
    "- We must use a cut (threshold) to determine what constitues 0 / 1. Eg. 0.5\n",
    "- This gives us a false +ve rate a, true +ve .(fpr and tpr)\n",
    "- Roc curve plots this when varying the threshold\n",
    "- AUC gives area under this curve."
   ]
  },
  {
   "cell_type": "markdown",
   "metadata": {},
   "source": [
    "## View created figures"
   ]
  },
  {
   "cell_type": "code",
   "execution_count": 11,
   "metadata": {},
   "outputs": [],
   "source": [
    "# ## from IPython.display import IFrame\n",
    "\n",
    "\n",
    "# model_loc='/global/project/projectdirs/dasrepo/vpa/ice_cube/data_for_cnn/Jan9_all_10_models/'\n",
    "# fle='learning_model1.'\n",
    "# fname=model_loc+\"%s.pdf\"%(fle)\n",
    "# fname='/global/project/projectdirs/dasrepo/vpa/ice_cube/data_for_cnn/Jan9_all_10_models/roc_curve_model1.eps'\n",
    "# print(fname)\n",
    "# print(os.path.exists(fname))\n",
    "# IFrame(fname, width=600, height=300)"
   ]
  },
  {
   "cell_type": "code",
   "execution_count": 12,
   "metadata": {},
   "outputs": [],
   "source": [
    "# from IPython.display import Image\n",
    "# Image(fname)"
   ]
  },
  {
   "cell_type": "code",
   "execution_count": null,
   "metadata": {},
   "outputs": [],
   "source": []
  },
  {
   "cell_type": "code",
   "execution_count": null,
   "metadata": {},
   "outputs": [],
   "source": [
    "/global/project/projectdirs/dasrepo/vpa/ice_cube/data_for_cnn/Jan11_14_models/"
   ]
  }
 ],
 "metadata": {
  "anaconda-cloud": {},
  "kernelspec": {
   "display_name": "v_py3",
   "language": "python",
   "name": "v_jpt_py3"
  },
  "language_info": {
   "codemirror_mode": {
    "name": "ipython",
    "version": 3
   },
   "file_extension": ".py",
   "mimetype": "text/x-python",
   "name": "python",
   "nbconvert_exporter": "python",
   "pygments_lexer": "ipython3",
   "version": "3.6.6"
  },
  "toc-autonumbering": false,
  "toc-showcode": false,
  "toc-showmarkdowntxt": false,
  "toc-showtags": true
 },
 "nbformat": 4,
 "nbformat_minor": 2
}
