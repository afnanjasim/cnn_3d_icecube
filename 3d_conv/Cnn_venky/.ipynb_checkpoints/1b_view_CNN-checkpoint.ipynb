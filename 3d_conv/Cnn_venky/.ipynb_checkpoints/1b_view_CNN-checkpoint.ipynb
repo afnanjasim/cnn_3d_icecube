{
 "cells": [
  {
   "cell_type": "markdown",
   "metadata": {},
   "source": [
    "# Code for Ice-Cube 3D CNN\n",
    "\n",
    "- Oct 29, 2018: This code just makes plots for previously trained CNNs"
   ]
  },
  {
   "cell_type": "code",
   "execution_count": 1,
   "metadata": {
    "scrolled": false
   },
   "outputs": [],
   "source": [
    "import sys\n",
    "import os\n",
    "\n",
    "import matplotlib.pyplot as plt\n",
    "import numpy as np\n",
    "import glob\n",
    "import pickle\n",
    "import time"
   ]
  },
  {
   "cell_type": "code",
   "execution_count": 2,
   "metadata": {},
   "outputs": [],
   "source": [
    "%matplotlib widget\n",
    "# %matplotlib inline"
   ]
  },
  {
   "cell_type": "markdown",
   "metadata": {},
   "source": [
    "Useful blog for keras conv3D: http://learnandshare645.blogspot.com/2016/06/3d-cnn-in-keras-action-recognition.html"
   ]
  },
  {
   "cell_type": "code",
   "execution_count": 3,
   "metadata": {},
   "outputs": [],
   "source": [
    "# keras modules\n",
    "import tensorflow.keras as keras\n",
    "from tensorflow.keras import layers, models, optimizers, callbacks  # or tensorflow.keras as keras\n",
    "import tensorflow as tf\n",
    "from sklearn.utils import shuffle\n",
    "from sklearn.metrics import roc_curve, auc, roc_auc_score\n",
    "from tensorflow.keras.models import load_model\n",
    "\n"
   ]
  },
  {
   "cell_type": "markdown",
   "metadata": {},
   "source": [
    "## Modules"
   ]
  },
  {
   "cell_type": "code",
   "execution_count": 4,
   "metadata": {},
   "outputs": [],
   "source": [
    "def f_get_ydata_and_wts(data_dir,f1,f2):\n",
    "    ''' Load extracted data from files. Just extracting ydata and weights\n",
    "    returns : inpy,weights as arrays\n",
    "    '''\n",
    "\n",
    "    inpy=np.loadtxt(data_dir+f1)\n",
    "    wts=np.loadtxt(data_dir+f2)\n",
    "    \n",
    "    return inpy,wts\n",
    "    \n",
    "    \n",
    "def f_plot_learning(history):\n",
    "    '''Plot learning curves : Accuracy and Validation'''\n",
    "    fig=plt.figure()\n",
    "    # Plot training & validation accuracy values\n",
    "    fig.add_subplot(2,1,1)\n",
    "    xlim=len(history['acc'])\n",
    "    \n",
    "    plt.plot(history['acc'],label='Train',marker='o')\n",
    "    plt.plot(history['val_acc'],label='Validation',marker='*')\n",
    "#     plt.title('Model accuracy')\n",
    "    plt.ylabel('Accuracy')\n",
    "    plt.xticks(np.arange(0,xlim,2))\n",
    "    \n",
    "    # Plot loss values\n",
    "    fig.add_subplot(2,1,2)\n",
    "    plt.plot(history['loss'],label='Train',marker='o')\n",
    "    plt.plot(history['val_loss'],label='Validation',marker='*')\n",
    "#     plt.title('Model loss')\n",
    "    plt.ylabel('Loss')\n",
    "    plt.xlabel('Epoch')\n",
    "    plt.xticks(np.arange(0,xlim,2))\n",
    "\n",
    "    plt.legend(loc='best')\n",
    "\n",
    "\n",
    "def f_plot_roc_curve(fpr,tpr):\n",
    "    '''\n",
    "    Module for roc plot and printing AUC\n",
    "    '''\n",
    "    plt.figure()\n",
    "    # plt.plot(fpr,tpr)\n",
    "    plt.scatter(fpr,tpr)\n",
    "    plt.semilogx(fpr, tpr)\n",
    "  # Zooms\n",
    "    plt.xlim([10**-7,1.0])\n",
    "    plt.ylim([0,1.0])\n",
    "#     plt.xscale('log')\n",
    "#     plt.xlim(1e-10,1e-5)\n",
    "    plt.show()\n",
    "\n",
    "    # AUC \n",
    "    auc_val = auc(fpr, tpr)\n",
    "    print(\"AUC: \",auc_val)\n",
    "\n",
    "\n",
    "def f_plot_fit(inpy,wts,model_dict,model_loc,verbose=True):\n",
    "    '''\n",
    "    Plot fit results.\n",
    "    '''\n",
    "    \n",
    "    model_save_dir=model_loc\n",
    "    model_name=model_dict['name'] # string for the model\n",
    "    fname_model,fname_history='model_{0}.h5'.format(model_name),'history_{0}.pickle'.format(model_name)\n",
    "    \n",
    "        \n",
    "    ########################\n",
    "    ### Read model and history\n",
    "    \n",
    "    ### Check if files exist\n",
    "    assert os.path.exists(model_save_dir+fname_model),\"Model not saved\"\n",
    "    assert os.path.exists(model_save_dir+fname_history),\"History not saved\"\n",
    "    \n",
    "    model=load_model(model_save_dir+fname_model)\n",
    "    with open(model_save_dir+fname_history,'rb') as f:\n",
    "        history= pickle.load(f)\n",
    "    \n",
    "    ########################\n",
    "    if verbose: model.summary()\n",
    "    # Plot tested model\n",
    "    f_plot_learning(history)\n",
    "    \n",
    "    ########################\n",
    "    # Get test predictions\n",
    "    \n",
    "    test_file_name=model_save_dir+'y-predict_model-'+str(model_name)+'.pred'\n",
    "    test_y_file_name=model_save_dir+'y-test_model-'+str(model_name)+'.test'\n",
    "    test_weights_file_name=model_save_dir+'wts-test_model-'+str(model_name)+'.test'    \n",
    "    print(\"Using test prediction from previous test\",test_file_name)\n",
    "\n",
    "    assert os.path.exists(test_file_name),\"y-predictions not saved\"\n",
    "    y_pred=np.loadtxt(test_file_name)\n",
    "    ydata=np.loadtxt(test_y_file_name)\n",
    "    wts=np.loadtxt(test_weights_file_name)\n",
    "    assert(test_y.shape[0]==y_pred.shape[0]),\"Data %s and prediction arrays %s are not of the same size\"%(test_y.shape,y_pred.shape)\n",
    "    \n",
    "    # Condition for the case when the prediction is a 2column array \n",
    "    if len(y_pred.shape)==2:\n",
    "        y_pred=y_pred[:,1]\n",
    "    \n",
    "    fpr,tpr,threshold=roc_curve(ydata,y_pred,sample_weight=wts)\n",
    "    print(fpr.shape,tpr.shape,threshold.shape)\n",
    "    f_plot_roc_curve(fpr,tpr)\n",
    "    \n",
    "    model_dict['model'],model_dict['history']=model,history\n",
    "    \n",
    "    return model_dict\n",
    "\n"
   ]
  },
  {
   "cell_type": "markdown",
   "metadata": {},
   "source": [
    "## Read part of test data"
   ]
  },
  {
   "cell_type": "code",
   "execution_count": 5,
   "metadata": {},
   "outputs": [
    {
     "name": "stdout",
     "output_type": "stream",
     "text": [
      "(376302,) (376302,)\n"
     ]
    }
   ],
   "source": [
    "if __name__=='__main__':\n",
    "    \n",
    "    model_loc='/global/project/projectdirs/dasrepo/vpa/ice_cube/data_for_cnn/Jan11_14_models/'\n",
    "\n",
    "    ###Extract data : Only extract y-data and weights for tests, which has been saved already along with the model.\n",
    "    ### Note!: the test file data is the same for all models, so just pick the first one. ###\n",
    "    f1,f2='y-test_model-1.test','wts-test_model-1.test'\n",
    "    inpy,wts=f_get_ydata_and_wts(model_loc,f1,f2)\n",
    "    test_y,test_wts=inpy[:],wts[:]\n",
    "    print(test_y.shape,test_wts.shape)\n",
    "\n"
   ]
  },
  {
   "cell_type": "markdown",
   "metadata": {},
   "source": [
    "## Plot fits"
   ]
  },
  {
   "cell_type": "code",
   "execution_count": 6,
   "metadata": {},
   "outputs": [
    {
     "name": "stdout",
     "output_type": "stream",
     "text": [
      "6 {'name': '6', 'description': None, 'model': None, 'history': None}\n",
      "_________________________________________________________________\n",
      "Layer (type)                 Output Shape              Param #   \n",
      "=================================================================\n",
      "input_6 (InputLayer)         (None, 10, 20, 60, 1)     0         \n",
      "_________________________________________________________________\n",
      "conv3d_14 (Conv3D)           (None, 10, 20, 60, 20)    180       \n",
      "_________________________________________________________________\n",
      "max_pooling3d_14 (MaxPooling (None, 10, 20, 30, 20)    0         \n",
      "_________________________________________________________________\n",
      "dropout_15 (Dropout)         (None, 10, 20, 30, 20)    0         \n",
      "_________________________________________________________________\n",
      "conv3d_15 (Conv3D)           (None, 10, 20, 30, 20)    3220      \n",
      "_________________________________________________________________\n",
      "max_pooling3d_15 (MaxPooling (None, 10, 20, 15, 20)    0         \n",
      "_________________________________________________________________\n",
      "dropout_16 (Dropout)         (None, 10, 20, 15, 20)    0         \n",
      "_________________________________________________________________\n",
      "conv3d_16 (Conv3D)           (None, 10, 20, 15, 20)    3220      \n",
      "_________________________________________________________________\n",
      "max_pooling3d_16 (MaxPooling (None, 10, 20, 7, 20)     0         \n",
      "_________________________________________________________________\n",
      "dropout_17 (Dropout)         (None, 10, 20, 7, 20)     0         \n",
      "_________________________________________________________________\n",
      "conv3d_17 (Conv3D)           (None, 10, 20, 7, 20)     3220      \n",
      "_________________________________________________________________\n",
      "max_pooling3d_17 (MaxPooling (None, 10, 20, 3, 20)     0         \n",
      "_________________________________________________________________\n",
      "dropout_18 (Dropout)         (None, 10, 20, 3, 20)     0         \n",
      "_________________________________________________________________\n",
      "flatten_5 (Flatten)          (None, 12000)             0         \n",
      "_________________________________________________________________\n",
      "dense_10 (Dense)             (None, 120)               1440120   \n",
      "_________________________________________________________________\n",
      "dropout_19 (Dropout)         (None, 120)               0         \n",
      "_________________________________________________________________\n",
      "dense_11 (Dense)             (None, 1)                 121       \n",
      "=================================================================\n",
      "Total params: 1,450,081\n",
      "Trainable params: 1,450,081\n",
      "Non-trainable params: 0\n",
      "_________________________________________________________________\n"
     ]
    },
    {
     "data": {
      "application/vnd.jupyter.widget-view+json": {
       "model_id": "990c6c3406b342aeab6ea73474cf25b2",
       "version_major": 2,
       "version_minor": 0
      },
      "text/plain": [
       "FigureCanvasNbAgg()"
      ]
     },
     "metadata": {},
     "output_type": "display_data"
    },
    {
     "name": "stdout",
     "output_type": "stream",
     "text": [
      "Using test prediction from previous test /global/project/projectdirs/dasrepo/vpa/ice_cube/data_for_cnn/Jan11_14_models/y-predict_model-6.pred\n",
      "(370820,) (370820,) (370820,)\n"
     ]
    },
    {
     "data": {
      "application/vnd.jupyter.widget-view+json": {
       "model_id": "5ebb9049360a4ea9baa18b7039a82dd7",
       "version_major": 2,
       "version_minor": 0
      },
      "text/plain": [
       "FigureCanvasNbAgg()"
      ]
     },
     "metadata": {},
     "output_type": "display_data"
    },
    {
     "name": "stdout",
     "output_type": "stream",
     "text": [
      "AUC:  0.7732877104467533\n",
      "7 {'name': '7', 'description': None, 'model': None, 'history': None}\n",
      "_________________________________________________________________\n",
      "Layer (type)                 Output Shape              Param #   \n",
      "=================================================================\n",
      "input_7 (InputLayer)         (None, 10, 20, 60, 1)     0         \n",
      "_________________________________________________________________\n",
      "conv3d_18 (Conv3D)           (None, 10, 20, 60, 20)    180       \n",
      "_________________________________________________________________\n",
      "max_pooling3d_18 (MaxPooling (None, 10, 10, 30, 20)    0         \n",
      "_________________________________________________________________\n",
      "dropout_20 (Dropout)         (None, 10, 10, 30, 20)    0         \n",
      "_________________________________________________________________\n",
      "conv3d_19 (Conv3D)           (None, 10, 10, 30, 20)    3220      \n",
      "_________________________________________________________________\n",
      "max_pooling3d_19 (MaxPooling (None, 10, 5, 15, 20)     0         \n",
      "_________________________________________________________________\n",
      "dropout_21 (Dropout)         (None, 10, 5, 15, 20)     0         \n",
      "_________________________________________________________________\n",
      "conv3d_20 (Conv3D)           (None, 10, 5, 15, 20)     3220      \n",
      "_________________________________________________________________\n",
      "max_pooling3d_20 (MaxPooling (None, 10, 2, 7, 20)      0         \n",
      "_________________________________________________________________\n",
      "dropout_22 (Dropout)         (None, 10, 2, 7, 20)      0         \n",
      "_________________________________________________________________\n",
      "conv3d_21 (Conv3D)           (None, 10, 2, 7, 20)      3220      \n",
      "_________________________________________________________________\n",
      "max_pooling3d_21 (MaxPooling (None, 10, 1, 3, 20)      0         \n",
      "_________________________________________________________________\n",
      "dropout_23 (Dropout)         (None, 10, 1, 3, 20)      0         \n",
      "_________________________________________________________________\n",
      "flatten_6 (Flatten)          (None, 600)               0         \n",
      "_________________________________________________________________\n",
      "dense_12 (Dense)             (None, 120)               72120     \n",
      "_________________________________________________________________\n",
      "dropout_24 (Dropout)         (None, 120)               0         \n",
      "_________________________________________________________________\n",
      "dense_13 (Dense)             (None, 1)                 121       \n",
      "=================================================================\n",
      "Total params: 82,081\n",
      "Trainable params: 82,081\n",
      "Non-trainable params: 0\n",
      "_________________________________________________________________\n"
     ]
    },
    {
     "data": {
      "application/vnd.jupyter.widget-view+json": {
       "model_id": "b6a0ad7738d942b8bd4e40ce0d9bd041",
       "version_major": 2,
       "version_minor": 0
      },
      "text/plain": [
       "FigureCanvasNbAgg()"
      ]
     },
     "metadata": {},
     "output_type": "display_data"
    },
    {
     "name": "stdout",
     "output_type": "stream",
     "text": [
      "Using test prediction from previous test /global/project/projectdirs/dasrepo/vpa/ice_cube/data_for_cnn/Jan11_14_models/y-predict_model-7.pred\n",
      "(370059,) (370059,) (370059,)\n"
     ]
    },
    {
     "data": {
      "application/vnd.jupyter.widget-view+json": {
       "model_id": "b92706a680634e03a7275c17b028793d",
       "version_major": 2,
       "version_minor": 0
      },
      "text/plain": [
       "FigureCanvasNbAgg()"
      ]
     },
     "metadata": {},
     "output_type": "display_data"
    },
    {
     "name": "stdout",
     "output_type": "stream",
     "text": [
      "AUC:  0.9118639196100793\n",
      "8 {'name': '8', 'description': None, 'model': None, 'history': None}\n",
      "_________________________________________________________________\n",
      "Layer (type)                 Output Shape              Param #   \n",
      "=================================================================\n",
      "input_8 (InputLayer)         (None, 10, 20, 60, 1)     0         \n",
      "_________________________________________________________________\n",
      "conv3d_22 (Conv3D)           (None, 10, 20, 60, 20)    560       \n",
      "_________________________________________________________________\n",
      "max_pooling3d_22 (MaxPooling (None, 10, 10, 20, 20)    0         \n",
      "_________________________________________________________________\n",
      "dropout_25 (Dropout)         (None, 10, 10, 20, 20)    0         \n",
      "_________________________________________________________________\n",
      "conv3d_23 (Conv3D)           (None, 10, 10, 20, 20)    10820     \n",
      "_________________________________________________________________\n",
      "max_pooling3d_23 (MaxPooling (None, 10, 5, 6, 20)      0         \n",
      "_________________________________________________________________\n",
      "dropout_26 (Dropout)         (None, 10, 5, 6, 20)      0         \n",
      "_________________________________________________________________\n",
      "conv3d_24 (Conv3D)           (None, 10, 5, 6, 20)      10820     \n",
      "_________________________________________________________________\n",
      "max_pooling3d_24 (MaxPooling (None, 10, 2, 2, 20)      0         \n",
      "_________________________________________________________________\n",
      "dropout_27 (Dropout)         (None, 10, 2, 2, 20)      0         \n",
      "_________________________________________________________________\n",
      "flatten_7 (Flatten)          (None, 800)               0         \n",
      "_________________________________________________________________\n",
      "dense_14 (Dense)             (None, 120)               96120     \n",
      "_________________________________________________________________\n",
      "dropout_28 (Dropout)         (None, 120)               0         \n",
      "_________________________________________________________________\n",
      "dense_15 (Dense)             (None, 1)                 121       \n",
      "=================================================================\n",
      "Total params: 118,441\n",
      "Trainable params: 118,441\n",
      "Non-trainable params: 0\n",
      "_________________________________________________________________\n"
     ]
    },
    {
     "data": {
      "application/vnd.jupyter.widget-view+json": {
       "model_id": "3fb6e7e54eb3468ba2c56aebf02444e7",
       "version_major": 2,
       "version_minor": 0
      },
      "text/plain": [
       "FigureCanvasNbAgg()"
      ]
     },
     "metadata": {},
     "output_type": "display_data"
    },
    {
     "name": "stdout",
     "output_type": "stream",
     "text": [
      "Using test prediction from previous test /global/project/projectdirs/dasrepo/vpa/ice_cube/data_for_cnn/Jan11_14_models/y-predict_model-8.pred\n",
      "(2,) (2,) (2,)\n"
     ]
    },
    {
     "data": {
      "application/vnd.jupyter.widget-view+json": {
       "model_id": "03e94769ceba44578a36bb4cb8e64f75",
       "version_major": 2,
       "version_minor": 0
      },
      "text/plain": [
       "FigureCanvasNbAgg()"
      ]
     },
     "metadata": {},
     "output_type": "display_data"
    },
    {
     "name": "stdout",
     "output_type": "stream",
     "text": [
      "AUC:  0.5\n",
      "9 {'name': '9', 'description': None, 'model': None, 'history': None}\n",
      "_________________________________________________________________\n",
      "Layer (type)                 Output Shape              Param #   \n",
      "=================================================================\n",
      "input_9 (InputLayer)         (None, 10, 20, 60, 1)     0         \n",
      "_________________________________________________________________\n",
      "conv3d_25 (Conv3D)           (None, 10, 20, 60, 20)    180       \n",
      "_________________________________________________________________\n",
      "max_pooling3d_25 (MaxPooling (None, 10, 10, 20, 20)    0         \n",
      "_________________________________________________________________\n",
      "dropout_29 (Dropout)         (None, 10, 10, 20, 20)    0         \n",
      "_________________________________________________________________\n",
      "conv3d_26 (Conv3D)           (None, 10, 10, 20, 20)    3220      \n",
      "_________________________________________________________________\n",
      "max_pooling3d_26 (MaxPooling (None, 10, 5, 6, 20)      0         \n",
      "_________________________________________________________________\n",
      "dropout_30 (Dropout)         (None, 10, 5, 6, 20)      0         \n",
      "_________________________________________________________________\n",
      "conv3d_27 (Conv3D)           (None, 10, 5, 6, 20)      3220      \n",
      "_________________________________________________________________\n",
      "max_pooling3d_27 (MaxPooling (None, 10, 2, 2, 20)      0         \n",
      "_________________________________________________________________\n",
      "dropout_31 (Dropout)         (None, 10, 2, 2, 20)      0         \n",
      "_________________________________________________________________\n",
      "flatten_8 (Flatten)          (None, 800)               0         \n",
      "_________________________________________________________________\n",
      "dense_16 (Dense)             (None, 120)               96120     \n",
      "_________________________________________________________________\n",
      "dropout_32 (Dropout)         (None, 120)               0         \n",
      "_________________________________________________________________\n",
      "dense_17 (Dense)             (None, 1)                 121       \n",
      "=================================================================\n",
      "Total params: 102,861\n",
      "Trainable params: 102,861\n",
      "Non-trainable params: 0\n",
      "_________________________________________________________________\n"
     ]
    },
    {
     "data": {
      "application/vnd.jupyter.widget-view+json": {
       "model_id": "e86e5b0bc6d049cea767e4dfa9c6413f",
       "version_major": 2,
       "version_minor": 0
      },
      "text/plain": [
       "FigureCanvasNbAgg()"
      ]
     },
     "metadata": {},
     "output_type": "display_data"
    },
    {
     "name": "stdout",
     "output_type": "stream",
     "text": [
      "Using test prediction from previous test /global/project/projectdirs/dasrepo/vpa/ice_cube/data_for_cnn/Jan11_14_models/y-predict_model-9.pred\n",
      "(36,) (36,) (36,)\n"
     ]
    },
    {
     "data": {
      "application/vnd.jupyter.widget-view+json": {
       "model_id": "16c541291f7d4b71b0a82c3464776bcc",
       "version_major": 2,
       "version_minor": 0
      },
      "text/plain": [
       "FigureCanvasNbAgg()"
      ]
     },
     "metadata": {},
     "output_type": "display_data"
    },
    {
     "name": "stdout",
     "output_type": "stream",
     "text": [
      "AUC:  0.502301002753164\n",
      "10 {'name': '10', 'description': None, 'model': None, 'history': None}\n",
      "_________________________________________________________________\n",
      "Layer (type)                 Output Shape              Param #   \n",
      "=================================================================\n",
      "input_10 (InputLayer)        (None, 10, 20, 60, 1)     0         \n",
      "_________________________________________________________________\n",
      "conv3d_28 (Conv3D)           (None, 10, 20, 60, 40)    3880      \n",
      "_________________________________________________________________\n",
      "max_pooling3d_28 (MaxPooling (None, 10, 10, 20, 40)    0         \n",
      "_________________________________________________________________\n",
      "dropout_33 (Dropout)         (None, 10, 10, 20, 40)    0         \n",
      "_________________________________________________________________\n",
      "conv3d_29 (Conv3D)           (None, 10, 10, 20, 40)    153640    \n",
      "_________________________________________________________________\n",
      "max_pooling3d_29 (MaxPooling (None, 10, 5, 6, 40)      0         \n",
      "_________________________________________________________________\n",
      "dropout_34 (Dropout)         (None, 10, 5, 6, 40)      0         \n",
      "_________________________________________________________________\n",
      "conv3d_30 (Conv3D)           (None, 10, 5, 6, 40)      153640    \n",
      "_________________________________________________________________\n",
      "max_pooling3d_30 (MaxPooling (None, 10, 2, 2, 40)      0         \n",
      "_________________________________________________________________\n",
      "dropout_35 (Dropout)         (None, 10, 2, 2, 40)      0         \n",
      "_________________________________________________________________\n",
      "flatten_9 (Flatten)          (None, 1600)              0         \n",
      "_________________________________________________________________\n",
      "dense_18 (Dense)             (None, 120)               192120    \n",
      "_________________________________________________________________\n",
      "dropout_36 (Dropout)         (None, 120)               0         \n",
      "_________________________________________________________________\n",
      "dense_19 (Dense)             (None, 1)                 121       \n",
      "=================================================================\n",
      "Total params: 503,401\n",
      "Trainable params: 503,401\n",
      "Non-trainable params: 0\n",
      "_________________________________________________________________\n"
     ]
    },
    {
     "data": {
      "application/vnd.jupyter.widget-view+json": {
       "model_id": "d4d21bb931fe4c0392e5bf018161a66f",
       "version_major": 2,
       "version_minor": 0
      },
      "text/plain": [
       "FigureCanvasNbAgg()"
      ]
     },
     "metadata": {},
     "output_type": "display_data"
    },
    {
     "name": "stdout",
     "output_type": "stream",
     "text": [
      "Using test prediction from previous test /global/project/projectdirs/dasrepo/vpa/ice_cube/data_for_cnn/Jan11_14_models/y-predict_model-10.pred\n",
      "(2,) (2,) (2,)\n"
     ]
    },
    {
     "data": {
      "application/vnd.jupyter.widget-view+json": {
       "model_id": "a3cbf13a026243df923723c5453dffea",
       "version_major": 2,
       "version_minor": 0
      },
      "text/plain": [
       "FigureCanvasNbAgg()"
      ]
     },
     "metadata": {},
     "output_type": "display_data"
    },
    {
     "name": "stdout",
     "output_type": "stream",
     "text": [
      "AUC:  0.5\n"
     ]
    }
   ],
   "source": [
    "dict_list=[]\n",
    "for i in range(6,11):\n",
    "# for i in range(1,2):\n",
    "    model_dict={'name':str(i),'description':None,'model':None,'history':None}\n",
    "    print(i,model_dict)\n",
    "    model_dict=f_plot_fit(test_y,test_wts,model_dict,model_loc)\n",
    "    dict_list.append(model_dict)"
   ]
  },
  {
   "cell_type": "markdown",
   "metadata": {},
   "source": [
    "### Comparing models"
   ]
  },
  {
   "cell_type": "code",
   "execution_count": 7,
   "metadata": {},
   "outputs": [],
   "source": [
    "# ## Comparing different models:\n",
    "\n",
    "# for md in dict_list:\n",
    "# #     print(md)\n",
    "#     hist=md['history']\n",
    "# #     print(hist)\n",
    "# #     print(md)\n",
    "#     print('Model %s'%(md['name']))\n",
    "#     for key in hist.keys():\n",
    "#         print(key,hist[key])\n",
    "# #     print(md[''])\n",
    "        "
   ]
  },
  {
   "cell_type": "markdown",
   "metadata": {},
   "source": [
    "## -----------------------------------------------"
   ]
  },
  {
   "cell_type": "markdown",
   "metadata": {},
   "source": [
    "#### Notes on Roc curve:\n",
    "- We know y-value depending on signal or background (0 or 1).\n",
    "- The 3D-Cnn gives us a prediction for y, as a float between 0 or 1.\n",
    "- We must use a cut (threshold) to determine what constitues 0 / 1. Eg. 0.5\n",
    "- This gives us a false +ve rate a, true +ve .(fpr and tpr)\n",
    "- Roc curve plots this when varying the threshold\n",
    "- AUC gives area under this curve."
   ]
  }
 ],
 "metadata": {
  "anaconda-cloud": {},
  "kernelspec": {
   "display_name": "v_py3",
   "language": "python",
   "name": "v_jpt_py3"
  },
  "language_info": {
   "codemirror_mode": {
    "name": "ipython",
    "version": 3
   },
   "file_extension": ".py",
   "mimetype": "text/x-python",
   "name": "python",
   "nbconvert_exporter": "python",
   "pygments_lexer": "ipython3",
   "version": "3.6.6"
  },
  "toc-autonumbering": false,
  "toc-showcode": false,
  "toc-showmarkdowntxt": false,
  "toc-showtags": true
 },
 "nbformat": 4,
 "nbformat_minor": 2
}
