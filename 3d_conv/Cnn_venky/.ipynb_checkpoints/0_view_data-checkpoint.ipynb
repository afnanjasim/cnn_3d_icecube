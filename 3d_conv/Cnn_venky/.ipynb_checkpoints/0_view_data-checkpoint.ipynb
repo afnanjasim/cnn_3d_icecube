{
 "cells": [
  {
   "cell_type": "markdown",
   "metadata": {},
   "source": [
    "# Code for Ice-Cube 3D CNN\n",
    "\n",
    "- Oct 29, 2018: This code just makes plots for previously trained CNNs"
   ]
  },
  {
   "cell_type": "code",
   "execution_count": 17,
   "metadata": {
    "scrolled": false
   },
   "outputs": [],
   "source": [
    "import sys\n",
    "import os\n",
    "\n",
    "import matplotlib.pyplot as plt\n",
    "import numpy as np\n",
    "import glob\n",
    "import pickle\n",
    "import time\n",
    "\n",
    "from mpl_toolkits.mplot3d import Axes3D\n"
   ]
  },
  {
   "cell_type": "code",
   "execution_count": 2,
   "metadata": {},
   "outputs": [],
   "source": [
    "%matplotlib widget\n",
    "# %matplotlib inline"
   ]
  },
  {
   "cell_type": "markdown",
   "metadata": {},
   "source": [
    "Useful blog for keras conv3D: http://learnandshare645.blogspot.com/2016/06/3d-cnn-in-keras-action-recognition.html"
   ]
  },
  {
   "cell_type": "markdown",
   "metadata": {},
   "source": [
    "## Modules"
   ]
  },
  {
   "cell_type": "code",
   "execution_count": 3,
   "metadata": {},
   "outputs": [],
   "source": [
    "def f_load_data(data_dir,f1,f2,f3,mode=False):\n",
    "    ''' Load extracted data from files. Three files for xdata,ydata,weights.\n",
    "    arguments: data directory, f1,f2,f3 \n",
    "    returns : inpx,inpy,weights as arrays\n",
    "    '''\n",
    "    m='r' if mode else None\n",
    "    inpx=np.load(data_dir+f1+'.npy',mmap_mode=m)\n",
    "    inpy=np.load(data_dir+f2+'.npy',mmap_mode=m)\n",
    "    wts=np.load(data_dir+f3+'.npy',mmap_mode=m)\n",
    "    print(inpx.shape,inpy.shape)\n",
    "    \n",
    "    return inpx,inpy,wts\n"
   ]
  },
  {
   "cell_type": "markdown",
   "metadata": {},
   "source": [
    "## Read train and test data"
   ]
  },
  {
   "cell_type": "code",
   "execution_count": 4,
   "metadata": {},
   "outputs": [],
   "source": [
    "\n",
    "def f_plot_data(title,y,wts):\n",
    "    '''\n",
    "    Plot function for ydata and weights\n",
    "    '''\n",
    "    # Plot y\n",
    "    fig=plt.figure()\n",
    "    ax1=fig.add_subplot(211)\n",
    "    plt.title(\"%s\"%(title))\n",
    "    ax1.plot(y)\n",
    "    ax1.set_ylabel('y-data')\n",
    "    # Plot wts\n",
    "    ax2=fig.add_subplot(212)\n",
    "    ax2.plot(wts)\n",
    "    plt.setp(ax1.get_xticklabels(), visible=False)\n",
    "    ax2.set_ylabel('weights')\n",
    "#     plt.show()\n",
    "\n",
    "def f_sig_bg_summary(y_arr):\n",
    "    \n",
    "    num=y_arr.shape[0]\n",
    "    sig=np.count_nonzero(y_arr) # Signal corresponds to y==1\n",
    "    print(\"Signal %s, %s %s\"%(sig,sig/num *100,'%'))"
   ]
  },
  {
   "cell_type": "markdown",
   "metadata": {},
   "source": [
    "## Extract data"
   ]
  },
  {
   "cell_type": "code",
   "execution_count": 5,
   "metadata": {},
   "outputs": [
    {
     "name": "stdout",
     "output_type": "stream",
     "text": [
      "(130989, 10, 20, 60, 1) (130989,)\n",
      "(737715, 10, 20, 60, 1) (737715,)\n"
     ]
    }
   ],
   "source": [
    "# data_dir='/global/project/projectdirs/dasrepo/vpa/ice_cube/data_for_cnn/extracted_data_v/data/data_hese_cuts_with_event_info_march4/'\n",
    "data_dir='/global/project/projectdirs/dasrepo/vpa/ice_cube/data_for_cnn/extracted_data_v/data/hese_cut_final/'\n",
    "\n",
    "### Extract regular data\n",
    "f1,f2,f3='shuffled_input_regular_x','shuffled_input_regular_y','shuffled_input_regular_wts'\n",
    "f1,f2,f3='processed_input_regular_x','processed_input_regular_y','processed_input_regular_wts'\n",
    "i1x,i1y,i1wts=f_load_data(data_dir,f1,f2,f3,mode=True)\n",
    "\n",
    "### Extract reserved data\n",
    "f1,f2,f3='shuffled_input_reserved_x','shuffled_input_reserved_y','shuffled_input_reserved_wts'\n",
    "f1,f2,f3='processed_input_reserved_x','processed_input_reserved_y','processed_input_reserved_wts'\n",
    "i2x,i2y,i2wts=f_load_data(data_dir,f1,f2,f3,mode=True)\n"
   ]
  },
  {
   "cell_type": "markdown",
   "metadata": {},
   "source": [
    "## Data overview"
   ]
  },
  {
   "cell_type": "code",
   "execution_count": 6,
   "metadata": {},
   "outputs": [
    {
     "name": "stdout",
     "output_type": "stream",
     "text": [
      "Regular data\n",
      "Num samples in regular data 130989\n",
      "Signal 21232, 16.208994648405593 %\n",
      "Reserved\n",
      "Num samples in reserved data 737715\n",
      "Signal 14195, 1.9241848139186544 %\n"
     ]
    }
   ],
   "source": [
    "print(\"Regular data\")\n",
    "print(\"Num samples in regular data\",i1y.shape[0])\n",
    "f_sig_bg_summary(i1y)\n",
    "print(\"Reserved\")\n",
    "print(\"Num samples in reserved data\",i2y.shape[0])\n",
    "f_sig_bg_summary(i2y)"
   ]
  },
  {
   "cell_type": "markdown",
   "metadata": {},
   "source": [
    "## View Y data and weights"
   ]
  },
  {
   "cell_type": "code",
   "execution_count": 7,
   "metadata": {},
   "outputs": [
    {
     "data": {
      "application/vnd.jupyter.widget-view+json": {
       "model_id": "171f5dcab7c94dcd87fbc5b8cfd7c7b3",
       "version_major": 2,
       "version_minor": 0
      },
      "text/plain": [
       "FigureCanvasNbAgg()"
      ]
     },
     "metadata": {},
     "output_type": "display_data"
    },
    {
     "data": {
      "application/vnd.jupyter.widget-view+json": {
       "model_id": "c3568d53d506439b9904072de331a8a8",
       "version_major": 2,
       "version_minor": 0
      },
      "text/plain": [
       "FigureCanvasNbAgg()"
      ]
     },
     "metadata": {},
     "output_type": "display_data"
    }
   ],
   "source": [
    "f_plot_data('regular_data',i1y,i1wts)\n",
    "f_plot_data('reserved_data',i2y,i2wts)"
   ]
  },
  {
   "cell_type": "markdown",
   "metadata": {},
   "source": [
    "## Weights for signal and background"
   ]
  },
  {
   "cell_type": "code",
   "execution_count": 9,
   "metadata": {},
   "outputs": [
    {
     "data": {
      "application/vnd.jupyter.widget-view+json": {
       "model_id": "13fb160347ec43a48d78d5d50d8fdc92",
       "version_major": 2,
       "version_minor": 0
      },
      "text/plain": [
       "FigureCanvasNbAgg()"
      ]
     },
     "metadata": {},
     "output_type": "display_data"
    },
    {
     "data": {
      "application/vnd.jupyter.widget-view+json": {
       "model_id": "12a57d5e75474a0c959238360fbac22f",
       "version_major": 2,
       "version_minor": 0
      },
      "text/plain": [
       "FigureCanvasNbAgg()"
      ]
     },
     "metadata": {},
     "output_type": "display_data"
    }
   ],
   "source": [
    "sig_y=i1y[i1y==1]\n",
    "sig_len=sig_y.shape[0]\n",
    "sig_wts=i1wts[:sig_len]\n",
    "\n",
    "bg_y=i1y[i1y==0]\n",
    "bg_len=bg_y.shape[0]\n",
    "bg_wts=i1wts[sig_len:]\n",
    "\n",
    "\n",
    "fig=plt.figure()\n",
    "plt.title(\"Signal weights\")\n",
    "plt.plot(sig_wts)\n",
    "plt.ylabel('weights')\n",
    "plt.savefig('plt_sig_wts_regular_data')\n",
    "plt.show()\n",
    "# f_plot_data('regular_data',sig_y,sig_wts)\n",
    "\n",
    "\n",
    "fig=plt.figure()\n",
    "plt.title(\"Background weights\")\n",
    "plt.plot(bg_wts)\n",
    "plt.ylabel('weights')\n",
    "plt.savefig('plt_bg_wts_regular_data')\n",
    "plt.show()\n",
    "\n",
    "\n",
    "\n"
   ]
  },
  {
   "cell_type": "code",
   "execution_count": null,
   "metadata": {},
   "outputs": [],
   "source": []
  },
  {
   "cell_type": "markdown",
   "metadata": {},
   "source": [
    "## X data summary"
   ]
  },
  {
   "cell_type": "code",
   "execution_count": 10,
   "metadata": {},
   "outputs": [],
   "source": [
    "def f_gist_xdata(x_arr):\n",
    "    \n",
    "    arr=x_arr[:,:,:,:,0]\n",
    "    num_samples=arr.shape[0]\n",
    "    print(num_samples)\n",
    "\n",
    "    # Find number of non-zero 3D images\n",
    "    non_zero_count_3d=[np.count_nonzero(i) for i in arr]\n",
    "    print(\"Number of 3d images that are zero:\\t\",np.count_nonzero(non_zero_count_3d)-num_samples)\n",
    "\n",
    "    # Find number of non-zero 2D images\n",
    "    img_arr=arr.reshape(num_samples*10,20,60)\n",
    "    num_2d_img=num_samples*10\n",
    "    # print(img_arr.shape)\n",
    "    ## First get the True-False value of whether a 2d array has non-zero values. Then pick the True values. \n",
    "    ## This gives the number of 2d images that have atleast one non-zero values.\n",
    "    non_zero_count_2d=np.count_nonzero(np.array([np.any(i) for i in img_arr]))\n",
    "    zero_count=num_2d_img-non_zero_count_2d\n",
    "    print(\"2d images that are zero:\\t%s\\t%s%s\"%(zero_count,zero_count*100/num_2d_img,'%'))\n",
    "\n"
   ]
  },
  {
   "cell_type": "code",
   "execution_count": 11,
   "metadata": {},
   "outputs": [
    {
     "name": "stdout",
     "output_type": "stream",
     "text": [
      "130989\n",
      "Number of 3d images that are zero:\t 0\n",
      "2d images that are zero:\t355823\t27.164342043988427%\n",
      "737715\n",
      "Number of 3d images that are zero:\t 0\n",
      "2d images that are zero:\t2022882\t27.42091458083406%\n"
     ]
    }
   ],
   "source": [
    "f_gist_xdata(i1x)\n",
    "f_gist_xdata(i2x)"
   ]
  },
  {
   "cell_type": "markdown",
   "metadata": {},
   "source": [
    "## Detailed image analysis"
   ]
  },
  {
   "cell_type": "code",
   "execution_count": 21,
   "metadata": {},
   "outputs": [],
   "source": [
    "# Extract images for a few signal and background cases, for further analysis\n",
    "y1_idx_list=np.where(i1y==1)[0]\n",
    "idx1=y1_idx_list[:10]\n",
    "y0_idx_list=np.where(i1y==0)[0]\n",
    "idx0=y0_idx_list[:10]\n",
    "# Xarrays for signal and background\n",
    "x_0=i1x[idx0][:,:,:,:,0]\n",
    "x_1=i1x[idx1][:,:,:,:,0]"
   ]
  },
  {
   "cell_type": "code",
   "execution_count": 13,
   "metadata": {},
   "outputs": [],
   "source": [
    "### Code to analyze a specific sample in detail\n",
    "\n",
    "def f_analyze_sample(x):\n",
    "    \n",
    "    def f_get_sample_image_info(arr):\n",
    "        ''' Module to find the number of non-zero images in a sample and number of non-zero spots in each image of the sample.\n",
    "        Sample array size is (10,20,60)'''\n",
    "\n",
    "        img_count=[np.count_nonzero(i) for i in arr]\n",
    "        non_zero_count=np.count_nonzero(img_count)\n",
    "\n",
    "        dict_keys=['img_count','non_zero_count']\n",
    "        image_dict={key:val for (key,val) in zip(dict_keys,[img_count,non_zero_count])}\n",
    "\n",
    "        return(image_dict)\n",
    "\n",
    "\n",
    "    def f_plot_images(arr):\n",
    "        ''' Plots 2D images for each of the 10 in the 3rd dimension'''\n",
    "\n",
    "        print(arr.shape)\n",
    "\n",
    "        rows,cols=2,5\n",
    "        fig,axarr=plt.subplots(rows,cols,figsize=(10,2))\n",
    "        for i in range(rows*cols):\n",
    "            row,col=int(i/cols),i%cols\n",
    "        #     print(i,'\\t',row,col)\n",
    "            axarr[row,col].imshow(arr[i,:,:],origin='lower',alpha=0.9)\n",
    "            axarr[row,col].set_xticks(np.arange(0,62,10))\n",
    "            axarr[row,col].set_yticks(np.arange(0,22,10))\n",
    "\n",
    "        fig.subplots_adjust(hspace=0.0)\n",
    "        # Drop axis labels\n",
    "        temp=plt.setp([a.get_xticklabels() for a in axarr[:-1, :].flatten()], visible=False)\n",
    "        temp=plt.setp([a.get_yticklabels() for a in axarr[:,1:].flatten()], visible=False)\n",
    "\n",
    "#         plt.close()\n",
    "\n",
    "        \n",
    "    ### Function begins ###\n",
    "    print(f_get_sample_image_info(x))\n",
    "    f_plot_images(x)\n"
   ]
  },
  {
   "cell_type": "code",
   "execution_count": 43,
   "metadata": {},
   "outputs": [
    {
     "name": "stdout",
     "output_type": "stream",
     "text": [
      "Sample 0 \t\n",
      "{'img_count': [0, 0, 0, 1, 10, 49, 97, 139, 100, 42], 'non_zero_count': 7}\n",
      "(10, 20, 60)\n"
     ]
    },
    {
     "data": {
      "application/vnd.jupyter.widget-view+json": {
       "model_id": "a130c9e221a64305bd4547dfa9547f48",
       "version_major": 2,
       "version_minor": 0
      },
      "text/plain": [
       "FigureCanvasNbAgg()"
      ]
     },
     "metadata": {},
     "output_type": "display_data"
    }
   ],
   "source": [
    "# plt.figure()\n",
    "for sample_no,i in enumerate(x_0[:1]):\n",
    "    print(\"Sample\",sample_no,'\\t')\n",
    "    f_analyze_sample(i)\n",
    "    plt.savefig('grid.pdf')"
   ]
  },
  {
   "cell_type": "markdown",
   "metadata": {},
   "source": [
    "### 3D plot"
   ]
  },
  {
   "cell_type": "code",
   "execution_count": 47,
   "metadata": {},
   "outputs": [
    {
     "name": "stdout",
     "output_type": "stream",
     "text": [
      "(10, 10, 20, 60)\n"
     ]
    },
    {
     "data": {
      "text/plain": [
       "((1, 10, 20, 60), (10, 20, 60))"
      ]
     },
     "execution_count": 47,
     "metadata": {},
     "output_type": "execute_result"
    }
   ],
   "source": [
    "print(x_0.shape)\n",
    "x_0[:1].shape,x_0[0].shape"
   ]
  },
  {
   "cell_type": "code",
   "execution_count": 36,
   "metadata": {},
   "outputs": [
    {
     "data": {
      "text/plain": [
       "\u001b[0;31mSignature:\u001b[0m  \u001b[0mAxes3D\u001b[0m\u001b[0;34m.\u001b[0m\u001b[0mplot\u001b[0m\u001b[0;34m(\u001b[0m\u001b[0mself\u001b[0m\u001b[0;34m,\u001b[0m \u001b[0mxs\u001b[0m\u001b[0;34m,\u001b[0m \u001b[0mys\u001b[0m\u001b[0;34m,\u001b[0m \u001b[0;34m*\u001b[0m\u001b[0margs\u001b[0m\u001b[0;34m,\u001b[0m \u001b[0mzdir\u001b[0m\u001b[0;34m=\u001b[0m\u001b[0;34m'z'\u001b[0m\u001b[0;34m,\u001b[0m \u001b[0;34m**\u001b[0m\u001b[0mkwargs\u001b[0m\u001b[0;34m)\u001b[0m\u001b[0;34m\u001b[0m\u001b[0;34m\u001b[0m\u001b[0m\n",
       "\u001b[0;31mDocstring:\u001b[0m\n",
       "Plot 2D or 3D data.\n",
       "\n",
       "==========  ================================================\n",
       "Argument    Description\n",
       "==========  ================================================\n",
       "*xs*, *ys*  x, y coordinates of vertices\n",
       "\n",
       "*zs*        z value(s), either one for all points or one for\n",
       "            each point.\n",
       "*zdir*      Which direction to use as z ('x', 'y' or 'z')\n",
       "            when plotting a 2D set.\n",
       "==========  ================================================\n",
       "\n",
       "Other arguments are passed on to\n",
       ":func:`~matplotlib.axes.Axes.plot`\n",
       "\u001b[0;31mFile:\u001b[0m      ~/.conda/envs/v_py3/lib/python3.6/site-packages/mpl_toolkits/mplot3d/axes3d.py\n",
       "\u001b[0;31mType:\u001b[0m      function\n"
      ]
     },
     "metadata": {},
     "output_type": "display_data"
    }
   ],
   "source": [
    "? Axes3D.plot"
   ]
  },
  {
   "cell_type": "code",
   "execution_count": 51,
   "metadata": {},
   "outputs": [
    {
     "name": "stdout",
     "output_type": "stream",
     "text": [
      "(10, 20, 60)\n",
      "(10, 60) (10, 60) (10, 60)\n"
     ]
    },
    {
     "ename": "TypeError",
     "evalue": "plot_surface() missing 1 required positional argument: 'self'",
     "output_type": "error",
     "traceback": [
      "\u001b[0;31m---------------------------------------------------------------------------\u001b[0m",
      "\u001b[0;31mTypeError\u001b[0m                                 Traceback (most recent call last)",
      "\u001b[0;32m<ipython-input-51-f034757f0437>\u001b[0m in \u001b[0;36m<module>\u001b[0;34m\u001b[0m\n\u001b[1;32m      3\u001b[0m \u001b[0mxs\u001b[0m\u001b[0;34m,\u001b[0m\u001b[0mys\u001b[0m\u001b[0;34m,\u001b[0m\u001b[0mzs\u001b[0m\u001b[0;34m=\u001b[0m\u001b[0mimg\u001b[0m\u001b[0;34m[\u001b[0m\u001b[0;34m:\u001b[0m\u001b[0;34m,\u001b[0m\u001b[0;36m0\u001b[0m\u001b[0;34m]\u001b[0m\u001b[0;34m,\u001b[0m\u001b[0mimg\u001b[0m\u001b[0;34m[\u001b[0m\u001b[0;34m:\u001b[0m\u001b[0;34m,\u001b[0m\u001b[0;36m1\u001b[0m\u001b[0;34m]\u001b[0m\u001b[0;34m,\u001b[0m\u001b[0mimg\u001b[0m\u001b[0;34m[\u001b[0m\u001b[0;34m:\u001b[0m\u001b[0;34m,\u001b[0m\u001b[0;36m2\u001b[0m\u001b[0;34m]\u001b[0m\u001b[0;34m\u001b[0m\u001b[0;34m\u001b[0m\u001b[0m\n\u001b[1;32m      4\u001b[0m \u001b[0mprint\u001b[0m\u001b[0;34m(\u001b[0m\u001b[0mxs\u001b[0m\u001b[0;34m.\u001b[0m\u001b[0mshape\u001b[0m\u001b[0;34m,\u001b[0m\u001b[0mys\u001b[0m\u001b[0;34m.\u001b[0m\u001b[0mshape\u001b[0m\u001b[0;34m,\u001b[0m\u001b[0mzs\u001b[0m\u001b[0;34m.\u001b[0m\u001b[0mshape\u001b[0m\u001b[0;34m)\u001b[0m\u001b[0;34m\u001b[0m\u001b[0;34m\u001b[0m\u001b[0m\n\u001b[0;32m----> 5\u001b[0;31m \u001b[0mAxes3D\u001b[0m\u001b[0;34m.\u001b[0m\u001b[0mplot_surface\u001b[0m\u001b[0;34m(\u001b[0m\u001b[0mX\u001b[0m\u001b[0;34m=\u001b[0m\u001b[0mxs\u001b[0m\u001b[0;34m,\u001b[0m\u001b[0mY\u001b[0m\u001b[0;34m=\u001b[0m\u001b[0mys\u001b[0m\u001b[0;34m,\u001b[0m\u001b[0mZ\u001b[0m\u001b[0;34m=\u001b[0m\u001b[0mzs\u001b[0m\u001b[0;34m)\u001b[0m\u001b[0;34m\u001b[0m\u001b[0;34m\u001b[0m\u001b[0m\n\u001b[0m",
      "\u001b[0;31mTypeError\u001b[0m: plot_surface() missing 1 required positional argument: 'self'"
     ]
    }
   ],
   "source": [
    "img=x_0[0]\n",
    "print(img.shape)\n",
    "xs,ys,zs=img[:,0],img[:,1],img[:,2]\n",
    "print(xs.shape,ys.shape,zs.shape)\n",
    "Axes3D.plot_surface(X=xs,Y=ys,Z=zs)\n"
   ]
  },
  {
   "cell_type": "code",
   "execution_count": 15,
   "metadata": {},
   "outputs": [
    {
     "name": "stdout",
     "output_type": "stream",
     "text": [
      "non_zero size (4109,), full size (120000,), \n"
     ]
    },
    {
     "data": {
      "application/vnd.jupyter.widget-view+json": {
       "model_id": "bbb1f0f8ee6d49ce99365ab2e724d4dc",
       "version_major": 2,
       "version_minor": 0
      },
      "text/plain": [
       "FigureCanvasNbAgg()"
      ]
     },
     "metadata": {},
     "output_type": "display_data"
    }
   ],
   "source": [
    "def f_view_non_zero(x):\n",
    "    ''' View parts of the data that are non-zero'''\n",
    "    \n",
    "    flt_x=x.flatten()\n",
    "    x_non_zero=flt_x[np.where(flt_x>0.0)[0]]\n",
    "\n",
    "    print(\"non_zero size %s, full size %s, \"%(x_non_zero.shape,flt_x.shape))\n",
    "    plt.figure()\n",
    "    plt.plot(x_non_zero)\n",
    "    plt.show()\n",
    "f_view_non_zero(x_0)"
   ]
  },
  {
   "cell_type": "code",
   "execution_count": null,
   "metadata": {},
   "outputs": [],
   "source": []
  },
  {
   "cell_type": "markdown",
   "metadata": {},
   "source": [
    "Parameters to incorporate\n",
    "- tpr, fpr\n",
    "- y==1, y==0 for predictions"
   ]
  },
  {
   "cell_type": "code",
   "execution_count": null,
   "metadata": {},
   "outputs": [],
   "source": []
  }
 ],
 "metadata": {
  "anaconda-cloud": {},
  "kernelspec": {
   "display_name": "v_py3",
   "language": "python",
   "name": "v_jpt_py3"
  },
  "language_info": {
   "codemirror_mode": {
    "name": "ipython",
    "version": 3
   },
   "file_extension": ".py",
   "mimetype": "text/x-python",
   "name": "python",
   "nbconvert_exporter": "python",
   "pygments_lexer": "ipython3",
   "version": "3.6.8"
  },
  "toc-autonumbering": false,
  "toc-showcode": false,
  "toc-showmarkdowntxt": false,
  "toc-showtags": true
 },
 "nbformat": 4,
 "nbformat_minor": 2
}
