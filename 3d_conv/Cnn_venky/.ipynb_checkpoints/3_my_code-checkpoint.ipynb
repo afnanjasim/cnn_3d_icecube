{
 "cells": [
  {
   "cell_type": "markdown",
   "metadata": {},
   "source": [
    "# Code for Ice-Cube 3D CNN\n",
    "Using Wahid's tutorial keras code on ICE-Cube CNN data.\n",
    "- October 5, 2018: 2D CNN works.\n",
    "- October 6, 2018: got simple 3D CNN to work.\n",
    "- Oct 10, 2018: Changes made:\n",
    "    - Using cross validation and shuffling arguments of the fit function.\n",
    "- Oct 16, 2018: Reading in actual data, which is very large. Saving to files."
   ]
  },
  {
   "cell_type": "code",
   "execution_count": 1,
   "metadata": {
    "scrolled": false
   },
   "outputs": [],
   "source": [
    "import sys\n",
    "import os\n",
    "\n",
    "import matplotlib.pyplot as plt\n",
    "import numpy as np\n",
    "import glob\n",
    "import pickle"
   ]
  },
  {
   "cell_type": "code",
   "execution_count": 49,
   "metadata": {},
   "outputs": [],
   "source": [
    "%matplotlib widget"
   ]
  },
  {
   "cell_type": "markdown",
   "metadata": {},
   "source": [
    "Useful blog for keras conv3D: http://learnandshare645.blogspot.com/2016/06/3d-cnn-in-keras-action-recognition.html"
   ]
  },
  {
   "cell_type": "markdown",
   "metadata": {},
   "source": [
    "### Steps:\n",
    "- Data processing\n",
    "    - Read raw data\n",
    "    - Process data\n",
    "    - Save process data\n",
    "    - Read processed data\n",
    "- Model\n",
    "    - Define model\n",
    "    - Train model\n",
    "    - Validate model\n",
    "    - Plot accuracy and loss\n",
    "    - Save model\n",
    "- Test\n",
    "    - Read model\n",
    "    - Read training data\n",
    "    - Get weights\n",
    "    - Test model\n",
    "    - Plot ROC curve\n"
   ]
  },
  {
   "cell_type": "code",
   "execution_count": null,
   "metadata": {},
   "outputs": [],
   "source": [
    "# keras modules\n",
    "import keras\n",
    "from keras import layers, models, optimizers, callbacks  # or tensorflow.keras as keras\n",
    "import tensorflow as tf\n",
    "from sklearn.utils import shuffle\n",
    "from sklearn.metrics import roc_curve, auc, roc_auc_score\n"
   ]
  },
  {
   "cell_type": "code",
   "execution_count": 4,
   "metadata": {},
   "outputs": [
    {
     "name": "stdout",
     "output_type": "stream",
     "text": [
      "importing Jupyter notebook from load_data.ipynb\n",
      "importing Jupyter notebook from util.ipynb\n"
     ]
    },
    {
     "data": {
      "text/html": [
       "<style>.container { width:100% !important; }</style>"
      ],
      "text/plain": [
       "<IPython.core.display.HTML object>"
      ]
     },
     "metadata": {},
     "output_type": "display_data"
    },
    {
     "name": "stdout",
     "output_type": "stream",
     "text": [
      "importing Jupyter notebook from resnet_util.ipynb\n"
     ]
    }
   ],
   "source": [
    "# Import modules form other nbs\n",
    "from nbfinder import NotebookFinder\n",
    "sys.meta_path.append(NotebookFinder())\n",
    "from load_data import get_data\n",
    "from resnet_util import identity_block,conv_block"
   ]
  },
  {
   "cell_type": "code",
   "execution_count": 5,
   "metadata": {},
   "outputs": [],
   "source": [
    "# import sys; sys.executable\n",
    "# print(keras.__version__)\n",
    "# seed=243\n",
    "# np.random.seed(seed=seed)\n"
   ]
  },
  {
   "cell_type": "markdown",
   "metadata": {},
   "source": [
    "### Extracting data"
   ]
  },
  {
   "cell_type": "code",
   "execution_count": null,
   "metadata": {},
   "outputs": [],
   "source": [
    "sigpath = \"/project/projectdirs/dasrepo/icecube_data/hdf5_out/filtered/nugen/11374/clsim-base-4.0.3.0.99_eff/\"\n",
    "# sig_list=glob.glob(sigpath+'*00.hdf5')\n",
    "sig_list=glob.glob(sigpath+'*.hdf5')\n",
    "bgpath = \"/project/projectdirs/dasrepo/icecube_data/hdf5_out/filtered/corsika/11057/\"\n",
    "bg_list=glob.glob(bgpath+'*.hdf5')\n",
    "\n",
    "inx,iny = get_data(sig_list, bg_list)\n",
    "print(inx.shape,iny.shape)\n",
    "\n",
    "num=inx.shape[0]"
   ]
  },
  {
   "cell_type": "code",
   "execution_count": 51,
   "metadata": {},
   "outputs": [
    {
     "data": {
      "application/vnd.jupyter.widget-view+json": {
       "model_id": "eb9d5bf3cf2d4c60a1222a431d8d6367",
       "version_major": 2,
       "version_minor": 0
      },
      "text/plain": [
       "FigureCanvasNbAgg()"
      ]
     },
     "metadata": {},
     "output_type": "display_data"
    }
   ],
   "source": [
    "plt.figure()\n",
    "plt.plot(iny[:])\n",
    "plt.show()\n"
   ]
  },
  {
   "cell_type": "markdown",
   "metadata": {},
   "source": [
    "### Put data in right format"
   ]
  },
  {
   "cell_type": "code",
   "execution_count": 21,
   "metadata": {},
   "outputs": [
    {
     "name": "stdout",
     "output_type": "stream",
     "text": [
      "((136066, 1, 60, 10, 20), (136066, 10, 20, 60, 1))\n",
      "((136066, 10, 20, 60, 1), (136066,))\n"
     ]
    }
   ],
   "source": [
    "inx2=np.expand_dims(inx,axis=1)\n",
    "inx3=np.transpose(inx2,axes=[0,3,4,2,1])\n",
    "print(inx2.shape,inx3.shape)\n",
    "\n",
    "inpx=inx3.copy()\n",
    "inpy=iny.copy()\n",
    "print(inpx.shape,inpy.shape)"
   ]
  },
  {
   "cell_type": "code",
   "execution_count": 38,
   "metadata": {},
   "outputs": [],
   "source": [
    "# Save data to files\n",
    "f1='input_x'\n",
    "f2='input_y'\n",
    "np.save(f1,inpx)\n",
    "np.save(f2,inpy)"
   ]
  },
  {
   "cell_type": "code",
   "execution_count": 41,
   "metadata": {},
   "outputs": [
    {
     "name": "stdout",
     "output_type": "stream",
     "text": [
      "((136066, 10, 20, 60, 1), (136066,))\n"
     ]
    }
   ],
   "source": [
    "# Load data from files\n",
    "ix=np.load(f1+'.npy')\n",
    "iy=np.load(f2+'.npy')\n",
    "print(ix.shape,iy.shape)"
   ]
  },
  {
   "cell_type": "markdown",
   "metadata": {},
   "source": [
    "## Notes:\n",
    "- model.fit \n",
    "    - batch_size= sample of data used for training (subset of full training set). \n",
    "    - epoch= number of runs over training data\n",
    "    - callbacks=\n",
    "    \n",
    "- for layers.Input need size (x,y,z,1) in channels_last mode."
   ]
  },
  {
   "cell_type": "markdown",
   "metadata": {},
   "source": [
    "## Conv3D"
   ]
  },
  {
   "cell_type": "code",
   "execution_count": 9,
   "metadata": {},
   "outputs": [],
   "source": [
    "\n",
    "def f_plot_learning(history):\n",
    "    # Plot training & validation accuracy values\n",
    "    plt.plot(history.history['acc'],label='Train')\n",
    "    plt.plot(history.history['val_acc'],label='Test')\n",
    "    plt.title('Model accuracy')\n",
    "    plt.ylabel('Accuracy')\n",
    "    plt.xlabel('Epoch')\n",
    "    plt.legend(loc='upper left')\n",
    "    plt.show()\n",
    "\n",
    "    # Plot training & validation loss values\n",
    "    plt.plot(history.history['loss'],label='Train')\n",
    "    plt.plot(history.history['val_loss'],label='Test')\n",
    "    plt.title('Model loss')\n",
    "    plt.ylabel('Loss')\n",
    "    plt.xlabel('Epoch')\n",
    "    plt.legend(loc='upper left')\n",
    "    plt.show()\n",
    "\n",
    "def f_roc_curve(fpr,tpr):\n",
    "    '''\n",
    "    Module for roc plot and printing AUC\n",
    "    '''\n",
    "    plt.figure()\n",
    "    # plt.plot(fpr,tpr)\n",
    "    plt.scatter(fpr,tpr)\n",
    "    plt.show()\n",
    "\n",
    "    \n",
    "    # AUC \n",
    "    auc_val = auc(fpr, tpr)\n",
    "    print(\"AUC: \",auc_val)"
   ]
  },
  {
   "cell_type": "markdown",
   "metadata": {},
   "source": [
    "## Two different models defined"
   ]
  },
  {
   "cell_type": "code",
   "execution_count": 10,
   "metadata": {},
   "outputs": [],
   "source": [
    "\n",
    "\n",
    "def f_define_model(inpx):\n",
    "    '''\n",
    "    Function that defines the model and compiles it.\n",
    "    '''\n",
    "    \n",
    "    inputs = layers.Input(shape=inpx.shape[1:])\n",
    "    h = inputs\n",
    "\n",
    "    # Convolutional layers\n",
    "    conv_sizes=[10, 10, 10]\n",
    "    conv_args = dict(kernel_size=(3, 3, 3), activation='relu', padding='same')\n",
    "    for conv_size in conv_sizes:\n",
    "        h = layers.Conv3D(conv_size, **conv_args)(h)\n",
    "        h = layers.MaxPooling3D(pool_size=(2, 2, 2))(h)\n",
    "#         h = layers.Dropout(0.5)(h)\n",
    "    h = layers.Flatten()(h)\n",
    "\n",
    "    # Fully connected  layers\n",
    "    h = layers.Dense(10, activation='relu')(h)\n",
    "    #    h = layers.Dropout(0.5)(h)\n",
    "\n",
    "    # Ouptut layer\n",
    "    outputs = layers.Dense(1, activation='sigmoid')(h)\n",
    "    \n",
    "    \n",
    "    \n",
    "    model = models.Model(inputs, outputs)\n",
    "    model.compile(optimizer=optimizers.Adam(lr=0.001), loss='binary_crossentropy', metrics=['accuracy'])\n",
    "    model.summary()\n",
    "\n",
    "    \n",
    "    return model\n",
    "\n",
    "\n",
    "def f_define_model2(inpx):\n",
    "    '''\n",
    "    Function that defines the model and compiles it.\n",
    "    '''\n",
    "    \n",
    "    inputs = layers.Input(shape=inpx.shape[1:])\n",
    "    h = inputs\n",
    "\n",
    "    # Convolutional layers\n",
    "    conv_sizes=[10,10,10]\n",
    "    conv_args = dict(kernel_size=(3, 3, 3), activation='relu', padding='same')\n",
    "    for conv_size in conv_sizes:\n",
    "        h = layers.Conv3D(conv_size, **conv_args)(h)\n",
    "        h = layers.MaxPooling3D(pool_size=(2, 2, 2))(h)\n",
    "        h = layers.Dropout(0.5)(h)\n",
    "    h = layers.Flatten()(h)\n",
    "\n",
    "    # Fully connected  layers\n",
    "    h = layers.Dense(64, activation='relu')(h)\n",
    "    h = layers.Dropout(0.5)(h)\n",
    "\n",
    "    # Ouptut layer\n",
    "    outputs = layers.Dense(1, activation='sigmoid')(h)\n",
    "    \n",
    "    \n",
    "    \n",
    "    model = models.Model(inputs, outputs)\n",
    "    model.compile(optimizer=optimizers.Adam(lr=0.001), loss='binary_crossentropy', metrics=['accuracy'])\n",
    "    model.summary()\n",
    "\n",
    "    \n",
    "    return model\n",
    "\n"
   ]
  },
  {
   "cell_type": "markdown",
   "metadata": {},
   "source": [
    "### Train 1"
   ]
  },
  {
   "cell_type": "code",
   "execution_count": 11,
   "metadata": {},
   "outputs": [
    {
     "name": "stdout",
     "output_type": "stream",
     "text": [
      "_________________________________________________________________\n",
      "Layer (type)                 Output Shape              Param #   \n",
      "=================================================================\n",
      "input_1 (InputLayer)         (None, 10, 20, 60, 1)     0         \n",
      "_________________________________________________________________\n",
      "conv3d_1 (Conv3D)            (None, 10, 20, 60, 10)    280       \n",
      "_________________________________________________________________\n",
      "max_pooling3d_1 (MaxPooling3 (None, 5, 10, 30, 10)     0         \n",
      "_________________________________________________________________\n",
      "conv3d_2 (Conv3D)            (None, 5, 10, 30, 10)     2710      \n",
      "_________________________________________________________________\n",
      "max_pooling3d_2 (MaxPooling3 (None, 2, 5, 15, 10)      0         \n",
      "_________________________________________________________________\n",
      "conv3d_3 (Conv3D)            (None, 2, 5, 15, 10)      2710      \n",
      "_________________________________________________________________\n",
      "max_pooling3d_3 (MaxPooling3 (None, 1, 2, 7, 10)       0         \n",
      "_________________________________________________________________\n",
      "flatten_1 (Flatten)          (None, 140)               0         \n",
      "_________________________________________________________________\n",
      "dense_1 (Dense)              (None, 10)                1410      \n",
      "_________________________________________________________________\n",
      "dense_2 (Dense)              (None, 1)                 11        \n",
      "=================================================================\n",
      "Total params: 7,121\n",
      "Trainable params: 7,121\n",
      "Non-trainable params: 0\n",
      "_________________________________________________________________\n",
      "Train on 1110 samples, validate on 278 samples\n",
      "Epoch 1/20\n",
      "1110/1110 [==============================] - 7s 6ms/step - loss: 1.9747 - acc: 0.6928 - val_loss: 0.4402 - val_acc: 0.8237\n",
      "Epoch 2/20\n",
      "1110/1110 [==============================] - 6s 5ms/step - loss: 0.8655 - acc: 0.7748 - val_loss: 0.2911 - val_acc: 0.8885\n",
      "Epoch 3/20\n",
      "1110/1110 [==============================] - 5s 5ms/step - loss: 0.6861 - acc: 0.8036 - val_loss: 0.4442 - val_acc: 0.8597\n",
      "Epoch 4/20\n",
      "1110/1110 [==============================] - 5s 5ms/step - loss: 0.5307 - acc: 0.8387 - val_loss: 0.2945 - val_acc: 0.8957\n",
      "Epoch 5/20\n",
      "1110/1110 [==============================] - 6s 5ms/step - loss: 0.4712 - acc: 0.8577 - val_loss: 0.2742 - val_acc: 0.9101\n",
      "Epoch 6/20\n",
      "1110/1110 [==============================] - 8s 7ms/step - loss: 0.4205 - acc: 0.8676 - val_loss: 0.3051 - val_acc: 0.9065\n",
      "Epoch 7/20\n",
      "1110/1110 [==============================] - 6s 5ms/step - loss: 0.3699 - acc: 0.8820 - val_loss: 0.2854 - val_acc: 0.8921\n",
      "Epoch 8/20\n",
      "1110/1110 [==============================] - 6s 5ms/step - loss: 0.3366 - acc: 0.9036 - val_loss: 0.3779 - val_acc: 0.8741\n",
      "Epoch 9/20\n",
      "1110/1110 [==============================] - 6s 5ms/step - loss: 0.3159 - acc: 0.9108 - val_loss: 0.2864 - val_acc: 0.9029\n",
      "Epoch 10/20\n",
      "1110/1110 [==============================] - 6s 5ms/step - loss: 0.2810 - acc: 0.9180 - val_loss: 0.2903 - val_acc: 0.9101\n",
      "Epoch 11/20\n",
      "1110/1110 [==============================] - 5s 5ms/step - loss: 0.2576 - acc: 0.9315 - val_loss: 0.2434 - val_acc: 0.9245\n",
      "Epoch 12/20\n",
      "1110/1110 [==============================] - 7s 6ms/step - loss: 0.2452 - acc: 0.9333 - val_loss: 0.2586 - val_acc: 0.9209\n",
      "Epoch 13/20\n",
      "1110/1110 [==============================] - 5s 5ms/step - loss: 0.2305 - acc: 0.9459 - val_loss: 0.3084 - val_acc: 0.8921\n",
      "Epoch 14/20\n",
      "1110/1110 [==============================] - 6s 5ms/step - loss: 0.2211 - acc: 0.9477 - val_loss: 0.2900 - val_acc: 0.9209\n",
      "Epoch 15/20\n",
      "1110/1110 [==============================] - 6s 5ms/step - loss: 0.2139 - acc: 0.9523 - val_loss: 0.3436 - val_acc: 0.9101\n",
      "Epoch 16/20\n",
      "1110/1110 [==============================] - 6s 5ms/step - loss: 0.2017 - acc: 0.9541 - val_loss: 0.3007 - val_acc: 0.9245\n",
      "Epoch 17/20\n",
      "1110/1110 [==============================] - 6s 5ms/step - loss: 0.3440 - acc: 0.9081 - val_loss: 0.2437 - val_acc: 0.9353\n",
      "Epoch 18/20\n",
      "1110/1110 [==============================] - 6s 5ms/step - loss: 0.3425 - acc: 0.9000 - val_loss: 0.2241 - val_acc: 0.9281\n",
      "Epoch 19/20\n",
      "1110/1110 [==============================] - 6s 5ms/step - loss: 0.2712 - acc: 0.9144 - val_loss: 0.3785 - val_acc: 0.8885\n",
      "Epoch 20/20\n",
      "1110/1110 [==============================] - 5s 5ms/step - loss: 0.2096 - acc: 0.9378 - val_loss: 0.3598 - val_acc: 0.8885\n"
     ]
    }
   ],
   "source": [
    "# model.summary()\n",
    "model1=f_define_model(inpx)\n",
    "\n",
    "history1=model1.fit(x=inpx, y=inpy,\n",
    "                    batch_size=32,\n",
    "                    epochs=20,\n",
    "                    verbose=1,\n",
    "                    callbacks = [\n",
    "                    callbacks.ModelCheckpoint('./rpv_weights.h5')],\n",
    "                    validation_split=0.20,\n",
    "                    shuffle=True\n",
    "                )"
   ]
  },
  {
   "cell_type": "code",
   "execution_count": 12,
   "metadata": {},
   "outputs": [
    {
     "data": {
      "image/png": "[encoded data removed]",
      "text/plain": [
       "<Figure size 432x288 with 1 Axes>"
      ]
     },
     "metadata": {
      "needs_background": "light"
     },
     "output_type": "display_data"
    },
    {
     "data": {
      "image/png": "[encoded data removed]",
      "text/plain": [
       "<Figure size 432x288 with 1 Axes>"
      ]
     },
     "metadata": {
      "needs_background": "light"
     },
     "output_type": "display_data"
    }
   ],
   "source": [
    "f_plot_learning(history1)"
   ]
  },
  {
   "cell_type": "code",
   "execution_count": 13,
   "metadata": {},
   "outputs": [],
   "source": [
    "# dir(history1)\n",
    "# np.array(history1.validation_data[0]).shape\n",
    "# history1.history\n",
    "\n",
    "\n",
    "# history1.params\n"
   ]
  },
  {
   "cell_type": "code",
   "execution_count": 14,
   "metadata": {},
   "outputs": [
    {
     "ename": "NameError",
     "evalue": "name 'model' is not defined",
     "output_type": "error",
     "traceback": [
      "\u001b[0;31m\u001b[0m",
      "\u001b[0;31mNameError\u001b[0mTraceback (most recent call last)",
      "\u001b[0;32m<ipython-input-14-2bb267bd1e73>\u001b[0m in \u001b[0;36m<module>\u001b[0;34m()\u001b[0m\n\u001b[1;32m      1\u001b[0m \u001b[0;31m# score = model.evaluate(inpx[num/2:],  inpy[num/2:]); print (\"Validation Accuracy: \" + str(score[1] ))\u001b[0m\u001b[0;34m\u001b[0m\u001b[0;34m\u001b[0m\u001b[0m\n\u001b[0;32m----> 2\u001b[0;31m \u001b[0my_pred\u001b[0m\u001b[0;34m=\u001b[0m\u001b[0mmodel\u001b[0m\u001b[0;34m.\u001b[0m\u001b[0mpredict\u001b[0m\u001b[0;34m(\u001b[0m\u001b[0minpx\u001b[0m\u001b[0;34m,\u001b[0m\u001b[0mverbose\u001b[0m\u001b[0;34m=\u001b[0m\u001b[0;36m1\u001b[0m\u001b[0;34m)\u001b[0m\u001b[0;34m\u001b[0m\u001b[0m\n\u001b[0m\u001b[1;32m      3\u001b[0m \u001b[0mfpr\u001b[0m\u001b[0;34m,\u001b[0m\u001b[0mtpr\u001b[0m\u001b[0;34m,\u001b[0m\u001b[0mthreshold\u001b[0m\u001b[0;34m=\u001b[0m\u001b[0mroc_curve\u001b[0m\u001b[0;34m(\u001b[0m\u001b[0minpy\u001b[0m\u001b[0;34m,\u001b[0m\u001b[0my_pred\u001b[0m\u001b[0;34m)\u001b[0m\u001b[0;34m\u001b[0m\u001b[0m\n\u001b[1;32m      4\u001b[0m \u001b[0;32mprint\u001b[0m\u001b[0;34m(\u001b[0m\u001b[0mfpr\u001b[0m\u001b[0;34m.\u001b[0m\u001b[0mshape\u001b[0m\u001b[0;34m,\u001b[0m\u001b[0mtpr\u001b[0m\u001b[0;34m.\u001b[0m\u001b[0mshape\u001b[0m\u001b[0;34m,\u001b[0m\u001b[0mthreshold\u001b[0m\u001b[0;34m.\u001b[0m\u001b[0mshape\u001b[0m\u001b[0;34m)\u001b[0m\u001b[0;34m\u001b[0m\u001b[0m\n\u001b[1;32m      5\u001b[0m \u001b[0mf_roc_curve\u001b[0m\u001b[0;34m(\u001b[0m\u001b[0mfpr\u001b[0m\u001b[0;34m,\u001b[0m\u001b[0mtpr\u001b[0m\u001b[0;34m)\u001b[0m\u001b[0;34m\u001b[0m\u001b[0m\n",
      "\u001b[0;31mNameError\u001b[0m: name 'model' is not defined"
     ]
    }
   ],
   "source": [
    "# score = model.evaluate(inpx[num/2:],  inpy[num/2:]); print (\"Validation Accuracy: \" + str(score[1] ))\n",
    "y_pred=model.predict(inpx,verbose=1)\n",
    "fpr,tpr,threshold=roc_curve(inpy,y_pred)\n",
    "print(fpr.shape,tpr.shape,threshold.shape)\n",
    "f_roc_curve(fpr,tpr)"
   ]
  },
  {
   "cell_type": "markdown",
   "metadata": {},
   "source": [
    "### Train 2"
   ]
  },
  {
   "cell_type": "code",
   "execution_count": null,
   "metadata": {},
   "outputs": [],
   "source": [
    "# model.summary()\n",
    "model2=f_define_model(inpx)\n",
    "\n",
    "history2=model2.fit(x=inpx, y=inpy,\n",
    "                    batch_size=32,\n",
    "                    epochs=20,\n",
    "                    verbose=1,\n",
    "                    callbacks = [callbacks.ModelCheckpoint('./rpv_weights.h5')],\n",
    "                    validation_split=0.20,\n",
    "                    shuffle=True\n",
    "                )"
   ]
  },
  {
   "cell_type": "code",
   "execution_count": null,
   "metadata": {},
   "outputs": [],
   "source": [
    "f_plot_learning(history2)"
   ]
  },
  {
   "cell_type": "code",
   "execution_count": null,
   "metadata": {},
   "outputs": [],
   "source": [
    "y_pred2=model2.predict(inpx,verbose=1)\n",
    "fpr2,tpr2,threshold2=roc_curve(inpy,y_pred2)\n",
    "\n",
    "f_roc_curve(fpr2,tpr2)"
   ]
  },
  {
   "cell_type": "code",
   "execution_count": null,
   "metadata": {},
   "outputs": [],
   "source": [
    "print(fpr2.shape,tpr2,threshold2.shape)\n",
    "inpy[inpy>0.0].shape,y_pred[y_pred>0.0].shape"
   ]
  },
  {
   "cell_type": "markdown",
   "metadata": {},
   "source": [
    "## Test"
   ]
  },
  {
   "cell_type": "code",
   "execution_count": null,
   "metadata": {},
   "outputs": [],
   "source": [
    "# import h5py\n",
    "\n",
    "# with h5py.File('weight0.h5', 'r') as hf:\n",
    "#     ls2_array = hf['weighthdf5'][:]"
   ]
  },
  {
   "cell_type": "markdown",
   "metadata": {},
   "source": [
    "## ROC plots"
   ]
  },
  {
   "cell_type": "code",
   "execution_count": null,
   "metadata": {},
   "outputs": [],
   "source": [
    "## Gather reserve data\n",
    "\n",
    "sigpath = \"/project/projectdirs/dasrepo/icecube_data/reserved_data/filtered/nugen/11374/clsim-base-4.0.3.0.99_eff/\"\n",
    "sig_list=glob.glob(sigpath+'*00.hdf5')\n",
    "bgpath = \"/global/project/projectdirs/dasrepo/icecube_data/reserved_data/filtered/corsika/11057/\"\n",
    "bg_list=glob.glob(bgpath+'*00.hdf5')\n",
    "\n",
    "inx_res,iny_res = get_data(sig_list, bg_list)\n",
    "print(inx_res.shape,iny_res.shape)\n",
    "\n",
    "num=inx_res.shape[0]\n",
    "\n",
    "\n",
    "\n",
    "inx2=np.expand_dims(inx_res,axis=1)\n",
    "inx3=np.transpose(inx2,axes=[0,3,4,2,1])\n",
    "print(inx2.shape,inx3.shape)\n",
    "\n",
    "inpx_res=inx3.copy()\n",
    "inpy_res=iny_res.copy()\n",
    "\n"
   ]
  },
  {
   "cell_type": "code",
   "execution_count": null,
   "metadata": {},
   "outputs": [],
   "source": [
    "y_pred=model1.predict(inpx_res,verbose=1)\n",
    "fpr,tpr,threshold=roc_curve(inpy_res,y_pred)\n",
    "\n",
    "f_roc_curve(fpr,tpr)"
   ]
  },
  {
   "cell_type": "markdown",
   "metadata": {},
   "source": [
    "### Gather Nick's data"
   ]
  },
  {
   "cell_type": "code",
   "execution_count": null,
   "metadata": {},
   "outputs": [],
   "source": [
    "# ## Gather Nick's data\n",
    "# def f_read_file(fname):\n",
    "# #     print(os.path.isfile(fname),os.path.exists(fname))\n",
    "\n",
    "#     with open(fname,'rb') as f:\n",
    "#         X, y, weights, event_id, filenames = pickle.load(f)\n",
    "\n",
    "#     print(X.shape,y.shape,filenames[0])\n",
    "#     return X,y,weights,event_id,filenames\n",
    "\n",
    "\n",
    "\n",
    "# data_dir='/global/project/projectdirs/dasrepo/vpa/project/ice_cube/data_for_cnn/nick_choma_files/'\n",
    "\n",
    "# for i in ['train.pickle','val.pickle','test.pickle']:\n",
    "#     f_read_file(data_dir+i)\n",
    "\n",
    "\n",
    "# X,y,weights,event_id,filenames=f_read_file(data_dir+'train.pickle')"
   ]
  },
  {
   "cell_type": "code",
   "execution_count": null,
   "metadata": {},
   "outputs": [],
   "source": [
    "print(X.shape,y.shape,weights.shape,event_id.shape,filenames.shape)\n",
    "\n",
    "print(X[0].shape,y[0].shape,weights[0],event_id[0],filenames[0])\n",
    "print(X.shape,X[0].shape)\n",
    "print(X[0][0])"
   ]
  },
  {
   "cell_type": "code",
   "execution_count": null,
   "metadata": {},
   "outputs": [],
   "source": [
    "## Predict using model\n",
    "# y_pred=model.predict(inpx_res)"
   ]
  },
  {
   "cell_type": "code",
   "execution_count": null,
   "metadata": {},
   "outputs": [],
   "source": [
    "## Compute roc quantities\n",
    "\n",
    "print (roc_auc_score(iny, y_pred[:,1]), sample_weight = ls2_array)\n",
    "\n",
    "false_positive_rate, true_positive_rate, thresholds = roc_curve(iny, y_pred[:,1], sample_weight = ls2_array)\n",
    "\n",
    "# np.savetxt('truepredweight0.csv', np.transpose([iny[i],y_pred[:,1][i],ls2_array[i]]))\n",
    "\n",
    "roc_auc = auc(false_positive_rate, true_positive_rate, reorder=True)\n",
    "print(auc(false_positive_rate, true_positive_rate))\n",
    "\n",
    "\n"
   ]
  },
  {
   "cell_type": "markdown",
   "metadata": {},
   "source": [
    "To do:\n",
    "- Get weights for reserved data.\n",
    "- Understand the Roc curve code and roc_auc_score"
   ]
  },
  {
   "cell_type": "markdown",
   "metadata": {},
   "source": [
    "# \n",
    "- Plot loss curve to check convergence\n",
    "- loss curve and accuracy curve\n",
    "- do this for each different CNN, from simple to complex(adding Dropout).\n",
    "- use synthetic data for this."
   ]
  },
  {
   "cell_type": "code",
   "execution_count": null,
   "metadata": {},
   "outputs": [],
   "source": []
  }
 ],
 "metadata": {
  "anaconda-cloud": {},
  "kernelspec": {
   "display_name": "v_python2",
   "language": "python",
   "name": "v_jpt_py2"
  },
  "language_info": {
   "codemirror_mode": {
    "name": "ipython",
    "version": 2
   },
   "file_extension": ".py",
   "mimetype": "text/x-python",
   "name": "python",
   "nbconvert_exporter": "python",
   "pygments_lexer": "ipython2",
   "version": "2.7.15"
  },
  "toc-autonumbering": false,
  "toc-showcode": false,
  "toc-showmarkdowntxt": false,
  "toc-showtags": true
 },
 "nbformat": 4,
 "nbformat_minor": 2
}
