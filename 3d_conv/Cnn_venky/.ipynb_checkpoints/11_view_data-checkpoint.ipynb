{
 "cells": [
  {
   "cell_type": "markdown",
   "metadata": {},
   "source": [
    "# Code for Ice-Cube 3D CNN\n",
    "\n",
    "- Oct 29, 2018: This code just makes plots for previously trained CNNs"
   ]
  },
  {
   "cell_type": "code",
   "execution_count": 1,
   "metadata": {
    "scrolled": false
   },
   "outputs": [],
   "source": [
    "import sys\n",
    "import os\n",
    "\n",
    "import matplotlib.pyplot as plt\n",
    "import numpy as np\n",
    "import glob\n",
    "import pickle\n",
    "import time"
   ]
  },
  {
   "cell_type": "code",
   "execution_count": 2,
   "metadata": {},
   "outputs": [],
   "source": [
    "%matplotlib widget\n",
    "# %matplotlib inline"
   ]
  },
  {
   "cell_type": "markdown",
   "metadata": {},
   "source": [
    "Useful blog for keras conv3D: http://learnandshare645.blogspot.com/2016/06/3d-cnn-in-keras-action-recognition.html"
   ]
  },
  {
   "cell_type": "markdown",
   "metadata": {},
   "source": [
    "## Modules"
   ]
  },
  {
   "cell_type": "code",
   "execution_count": 3,
   "metadata": {},
   "outputs": [],
   "source": [
    "def f_load_data(data_dir,f1,f2,f3):\n",
    "    ''' Load extracted data from files. Three files for xdata,ydata,weights.\n",
    "    arguments: data directory, f1,f2,f3 \n",
    "    returns : inpx,inpy,weights as arrays\n",
    "    '''\n",
    "\n",
    "    inpx=np.load(data_dir+f1+'.npy')\n",
    "    inpy=np.load(data_dir+f2+'.npy')\n",
    "    wts=np.load(data_dir+f3+'.npy')\n",
    "    print(inpx.shape,inpy.shape)\n",
    "    \n",
    "    return inpx,inpy,wts\n",
    "\n",
    "\n",
    "def f_get_ydata_and_wts(data_dir,f1,f2):\n",
    "    ''' Load extracted data from files. Just extracting ydata and weights\n",
    "    returns : inpy,weights as arrays\n",
    "    '''\n",
    "    inpy=np.load(data_dir+f1+'.npy')\n",
    "    wts=np.load(data_dir+f2+'.npy')\n",
    "    \n",
    "    return inpy,wts"
   ]
  },
  {
   "cell_type": "markdown",
   "metadata": {},
   "source": [
    "## Read train and test data"
   ]
  },
  {
   "cell_type": "code",
   "execution_count": 4,
   "metadata": {},
   "outputs": [],
   "source": [
    "def f_get_data(dir_name):    \n",
    "    ### Extract regular data\n",
    "    f1,f2='processed_input_regular_y','processed_input_regular_wts'\n",
    "    i1y,i1wts=f_get_ydata_and_wts(data_dir,f1,f2)\n",
    "    print(\"Num samples in regular data\",i1y.shape[0])\n",
    "    ### Extract reserved data\n",
    "    f1,f2='processed_input_reserved_y','processed_input_reserved_wts'\n",
    "    i2y,i2wts=f_get_ydata_and_wts(data_dir,f1,f2)\n",
    "    print(\"Num samples in reserved data\",i2y.shape[0])\n",
    "\n",
    "    train_y,train_wts=i1y,i1wts\n",
    "    test_y,test_wts=i2y,i2wts\n",
    "    del(i1y,i1wts,i2y,i2wts)\n",
    "    \n",
    "    print(\"Number of signal events in train\",train_y[train_y>0].shape[0])\n",
    "    print(\"Number of signal events in test\",test_y[test_y>0].shape[0])\n",
    "    return(train_y,train_wts,test_y,test_wts)\n",
    "\n",
    "def f_plot_data(title,y,wts):\n",
    "    # Plot y\n",
    "    fig=plt.figure()\n",
    "    ax1=fig.add_subplot(211)\n",
    "    plt.title(\"%s\"%(title))\n",
    "    ax1.plot(y)\n",
    "    ax1.set_ylabel('y-data')\n",
    "    # Plot wts\n",
    "    ax2=fig.add_subplot(212)\n",
    "    ax2.plot(wts)\n",
    "    plt.setp(ax1.get_xticklabels(), visible=False)\n",
    "    ax2.set_ylabel('weights')\n",
    "#     plt.show()\n",
    "\n"
   ]
  },
  {
   "cell_type": "markdown",
   "metadata": {},
   "source": [
    "## Regular data"
   ]
  },
  {
   "cell_type": "code",
   "execution_count": 5,
   "metadata": {},
   "outputs": [
    {
     "name": "stdout",
     "output_type": "stream",
     "text": [
      "Num samples in regular data 136066\n",
      "Num samples in reserved data 752604\n",
      "Number of signal events in train 26237\n",
      "Number of signal events in test 17617\n"
     ]
    },
    {
     "data": {
      "application/vnd.jupyter.widget-view+json": {
       "model_id": "600e48a4da324a258fd113f627f54429",
       "version_major": 2,
       "version_minor": 0
      },
      "text/plain": [
       "FigureCanvasNbAgg()"
      ]
     },
     "metadata": {},
     "output_type": "display_data"
    },
    {
     "data": {
      "application/vnd.jupyter.widget-view+json": {
       "model_id": "96ab80b60d6c43968d5e69744125541c",
       "version_major": 2,
       "version_minor": 0
      },
      "text/plain": [
       "FigureCanvasNbAgg()"
      ]
     },
     "metadata": {},
     "output_type": "display_data"
    }
   ],
   "source": [
    "\n",
    "data_dir='/global/project/projectdirs/dasrepo/vpa/ice_cube/data_for_cnn/extracted_data_v/data/data_regular/'\n",
    "train_y,train_wts,test_y,test_wts=f_get_data(data_dir)\n",
    "f_plot_data('train_data',train_y,train_wts)\n",
    "f_plot_data('test_data',test_y,test_wts)"
   ]
  },
  {
   "cell_type": "markdown",
   "metadata": {},
   "source": [
    "## Hesse cuts"
   ]
  },
  {
   "cell_type": "code",
   "execution_count": 9,
   "metadata": {},
   "outputs": [
    {
     "name": "stdout",
     "output_type": "stream",
     "text": [
      "Num samples in regular data 110081\n",
      "Num samples in reserved data 735142\n",
      "Number of signal events in train 252\n",
      "Number of signal events in test 155\n"
     ]
    },
    {
     "data": {
      "application/vnd.jupyter.widget-view+json": {
       "model_id": "521f49b2664c491dbaf2e7db3923de32",
       "version_major": 2,
       "version_minor": 0
      },
      "text/plain": [
       "FigureCanvasNbAgg()"
      ]
     },
     "metadata": {},
     "output_type": "display_data"
    },
    {
     "data": {
      "application/vnd.jupyter.widget-view+json": {
       "model_id": "c4fef8815da24fc388b2338e58bc0247",
       "version_major": 2,
       "version_minor": 0
      },
      "text/plain": [
       "FigureCanvasNbAgg()"
      ]
     },
     "metadata": {},
     "output_type": "display_data"
    }
   ],
   "source": [
    "data_dir='/global/project/projectdirs/dasrepo/vpa/ice_cube/data_for_cnn/extracted_data_v/data/data_hesse_cuts/'\n",
    "\n",
    "train_y,train_wts,test_y,test_wts=f_get_data(data_dir)\n",
    "f_plot_data('train_data',train_y[:300],train_wts[:300])\n",
    "f_plot_data('test_data',test_y[:300],test_wts[:300])\n"
   ]
  },
  {
   "cell_type": "code",
   "execution_count": null,
   "metadata": {},
   "outputs": [],
   "source": []
  }
 ],
 "metadata": {
  "anaconda-cloud": {},
  "kernelspec": {
   "display_name": "v_py3",
   "language": "python",
   "name": "v_jpt_py3"
  },
  "language_info": {
   "codemirror_mode": {
    "name": "ipython",
    "version": 3
   },
   "file_extension": ".py",
   "mimetype": "text/x-python",
   "name": "python",
   "nbconvert_exporter": "python",
   "pygments_lexer": "ipython3",
   "version": "3.6.6"
  },
  "toc-autonumbering": false,
  "toc-showcode": false,
  "toc-showmarkdowntxt": false,
  "toc-showtags": true
 },
 "nbformat": 4,
 "nbformat_minor": 2
}
