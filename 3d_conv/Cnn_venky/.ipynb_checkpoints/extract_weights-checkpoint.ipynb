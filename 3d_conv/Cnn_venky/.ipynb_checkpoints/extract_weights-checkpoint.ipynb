{
 "cells": [
  {
   "cell_type": "markdown",
   "metadata": {},
   "source": [
    "# Read in the weights from hdf5 files "
   ]
  },
  {
   "cell_type": "code",
   "execution_count": 4,
   "metadata": {},
   "outputs": [],
   "source": [
    "import h5py\n",
    "import numpy as np\n",
    "import glob"
   ]
  },
  {
   "cell_type": "code",
   "execution_count": 6,
   "metadata": {},
   "outputs": [
    {
     "data": {
      "text/plain": [
       "'/project/projectdirs/dasrepo/icecube_data/hdf5_out/filtered/nugen/11374/clsim-base-4.0.3.0.99_eff/tfilter.Level2_nugen_numu_IC86.2012.011374.015500.hdf5'"
      ]
     },
     "execution_count": 6,
     "metadata": {},
     "output_type": "execute_result"
    }
   ],
   "source": [
    "sig_list[0]"
   ]
  },
  {
   "cell_type": "code",
   "execution_count": 5,
   "metadata": {},
   "outputs": [],
   "source": [
    "sigpath = \"/project/projectdirs/dasrepo/icecube_data/hdf5_out/filtered/nugen/11374/clsim-base-4.0.3.0.99_eff/\"\n",
    "sig_list=glob.glob(sigpath+'*00.hdf5')\n",
    "bgpath = \"/project/projectdirs/dasrepo/icecube_data/hdf5_out/filtered/corsika/11057/\"\n",
    "bg_list=glob.glob(bgpath+'*00.hdf5')"
   ]
  },
  {
   "cell_type": "code",
   "execution_count": 6,
   "metadata": {},
   "outputs": [
    {
     "name": "stdout",
     "output_type": "stream",
     "text": [
      "Keys: KeysView(<HDF5 file \"tfilter.Level2_IC86.2012_corsika.011057.008200.hdf5\" (mode r)>)\n"
     ]
    }
   ],
   "source": [
    "filename = bg_list[0]\n",
    "data= h5py.File(filename, 'r')\n",
    "\n",
    "# List all groups\n",
    "print(\"Keys: %s\" % data.keys())\n",
    "a_group_key = list(data.keys())[0]\n",
    "\n",
    "# Get the data\n",
    "# data = list(data[a_group_key])"
   ]
  },
  {
   "cell_type": "code",
   "execution_count": 27,
   "metadata": {},
   "outputs": [
    {
     "data": {
      "text/plain": [
       "u'events'"
      ]
     },
     "execution_count": 27,
     "metadata": {},
     "output_type": "execute_result"
    }
   ],
   "source": []
  },
  {
   "cell_type": "code",
   "execution_count": 13,
   "metadata": {},
   "outputs": [
    {
     "name": "stdout",
     "output_type": "stream",
     "text": [
      "<HDF5 group \"/events\" (17 members)>\n"
     ]
    },
    {
     "ename": "TypeError",
     "evalue": "'KeysView' object does not support indexing",
     "output_type": "error",
     "traceback": [
      "\u001b[0;31m---------------------------------------------------------------------------\u001b[0m",
      "\u001b[0;31mTypeError\u001b[0m                                 Traceback (most recent call last)",
      "\u001b[0;32m<ipython-input-13-a0b3e64b13e1>\u001b[0m in \u001b[0;36m<module>\u001b[0;34m\u001b[0m\n\u001b[1;32m      3\u001b[0m \u001b[0mprint\u001b[0m\u001b[0;34m(\u001b[0m\u001b[0mgroup\u001b[0m\u001b[0;34m)\u001b[0m\u001b[0;34m\u001b[0m\u001b[0m\n\u001b[1;32m      4\u001b[0m \u001b[0;34m\u001b[0m\u001b[0m\n\u001b[0;32m----> 5\u001b[0;31m \u001b[0msub_grp_key\u001b[0m\u001b[0;34m=\u001b[0m\u001b[0mgroup\u001b[0m\u001b[0;34m.\u001b[0m\u001b[0mkeys\u001b[0m\u001b[0;34m(\u001b[0m\u001b[0;34m)\u001b[0m\u001b[0;34m[\u001b[0m\u001b[0;36m0\u001b[0m\u001b[0;34m]\u001b[0m\u001b[0;34m\u001b[0m\u001b[0m\n\u001b[0m\u001b[1;32m      6\u001b[0m \u001b[0mprint\u001b[0m\u001b[0;34m(\u001b[0m\u001b[0msub_grp_key\u001b[0m\u001b[0;34m)\u001b[0m\u001b[0;34m\u001b[0m\u001b[0m\n\u001b[1;32m      7\u001b[0m \u001b[0;34m\u001b[0m\u001b[0m\n",
      "\u001b[0;31mTypeError\u001b[0m: 'KeysView' object does not support indexing"
     ]
    }
   ],
   "source": [
    "#Get the HDF5 group\n",
    "group = data[a_group_key]\n",
    "print(group)\n",
    "\n",
    "sub_grp_key=group.keys()[0]\n",
    "print(sub_grp_key)\n",
    "\n",
    "sub_grp=group[sub_grp_key]\n",
    "print(type(sub_grp))\n",
    "print(sub_grp)\n",
    "#Checkout what keys are inside that group.\n",
    "# for key in group.keys(): print(key)\n",
    "# print group.items()\n",
    "# group[key].value\n",
    "# data = group['corsika_0_1562_0'].value\n",
    "# #Do whatever you want with data"
   ]
  },
  {
   "cell_type": "code",
   "execution_count": 40,
   "metadata": {},
   "outputs": [
    {
     "data": {
      "text/plain": [
       "list"
      ]
     },
     "execution_count": 40,
     "metadata": {},
     "output_type": "execute_result"
    }
   ],
   "source": [
    "type(group.keys())"
   ]
  },
  {
   "cell_type": "code",
   "execution_count": 11,
   "metadata": {},
   "outputs": [
    {
     "name": "stdout",
     "output_type": "stream",
     "text": [
      "corsika_0_1562_0 <HDF5 dataset \"corsika_0_1562_0\": shape (1,), type \"|V72\">\n",
      "<class 'numpy.ndarray'>\n",
      "corsika_0_248_0 <HDF5 dataset \"corsika_0_248_0\": shape (1,), type \"|V72\">\n",
      "<class 'numpy.ndarray'>\n",
      "corsika_0_2821_0 <HDF5 dataset \"corsika_0_2821_0\": shape (1,), type \"|V72\">\n",
      "<class 'numpy.ndarray'>\n",
      "corsika_0_3041_0 <HDF5 dataset \"corsika_0_3041_0\": shape (1,), type \"|V72\">\n",
      "<class 'numpy.ndarray'>\n",
      "corsika_0_3065_0 <HDF5 dataset \"corsika_0_3065_0\": shape (1,), type \"|V72\">\n",
      "<class 'numpy.ndarray'>\n",
      "corsika_0_3108_0 <HDF5 dataset \"corsika_0_3108_0\": shape (1,), type \"|V72\">\n",
      "<class 'numpy.ndarray'>\n",
      "corsika_0_3289_0 <HDF5 dataset \"corsika_0_3289_0\": shape (1,), type \"|V72\">\n",
      "<class 'numpy.ndarray'>\n",
      "corsika_0_3670_0 <HDF5 dataset \"corsika_0_3670_0\": shape (1,), type \"|V72\">\n",
      "<class 'numpy.ndarray'>\n",
      "corsika_0_3824_0 <HDF5 dataset \"corsika_0_3824_0\": shape (1,), type \"|V72\">\n",
      "<class 'numpy.ndarray'>\n",
      "corsika_0_408_0 <HDF5 dataset \"corsika_0_408_0\": shape (1,), type \"|V72\">\n",
      "<class 'numpy.ndarray'>\n",
      "corsika_0_4096_0 <HDF5 dataset \"corsika_0_4096_0\": shape (1,), type \"|V72\">\n",
      "<class 'numpy.ndarray'>\n",
      "corsika_0_4281_0 <HDF5 dataset \"corsika_0_4281_0\": shape (1,), type \"|V72\">\n",
      "<class 'numpy.ndarray'>\n",
      "corsika_0_4603_0 <HDF5 dataset \"corsika_0_4603_0\": shape (1,), type \"|V72\">\n",
      "<class 'numpy.ndarray'>\n",
      "corsika_0_4635_0 <HDF5 dataset \"corsika_0_4635_0\": shape (1,), type \"|V72\">\n",
      "<class 'numpy.ndarray'>\n",
      "corsika_0_547_0 <HDF5 dataset \"corsika_0_547_0\": shape (1,), type \"|V72\">\n",
      "<class 'numpy.ndarray'>\n",
      "corsika_0_607_0 <HDF5 dataset \"corsika_0_607_0\": shape (1,), type \"|V72\">\n",
      "<class 'numpy.ndarray'>\n",
      "corsika_0_633_0 <HDF5 dataset \"corsika_0_633_0\": shape (1,), type \"|V72\">\n",
      "<class 'numpy.ndarray'>\n"
     ]
    }
   ],
   "source": [
    "for key in group.keys():\n",
    "    print(key,group[key])\n",
    "    sub_grp=group[key].value\n",
    "    print(type(sub_grp))\n",
    "#     for sub_key in sub_grp.keys():\n",
    "#         print(sub_key)"
   ]
  },
  {
   "cell_type": "code",
   "execution_count": 15,
   "metadata": {},
   "outputs": [],
   "source": [
    "# import pandas as pd\n",
    "\n",
    "# bg = pd.HDFStore('/project/projectdirs/dasrepo/icecube_data/hdf5_out/filtered/corsika/11057/tfilter.Level2_IC86.2012_corsika.011057.000800.hdf5')\n",
    "# print(bg.keys())\n",
    "# # bg['/events/corsika_0_1249_0'].keys()"
   ]
  },
  {
   "cell_type": "code",
   "execution_count": null,
   "metadata": {},
   "outputs": [],
   "source": [
    "def make_dataset(filename, sig_or_bg):\n",
    "    hf = h5py.File(filename)\n",
    "    pulse_array_keys = get_nonempty_pulses(hf)\n",
    "    num_events = len(pulse_array_keys)\n",
    "    \n",
    "    \n",
    "    tens = np.zeros((num_events, total_doms, total_height, total_width))\n",
    "    \n",
    "    \n",
    "    for ex_num, pulse_array_key in enumerate(pulse_array_keys):\n",
    "        pulse_array = get_pulse_array(hf, pulse_array_key)\n",
    "        add_pulse_to_inp_tensor(tens, ex_num, pulse_array)\n",
    "        \n",
    "    lbls = np.ones((num_events,)) if sig_or_bg == \"sig\" else np.zeros((num_events,))\n",
    "    \n",
    "    return tens, lbls\n",
    "\n",
    "\n",
    "def get_data(sig_filename_list, bg_filename_list):\n",
    "    x, y = make_dataset(sig_filename_list[0], \"sig\")\n",
    "    for fn in sig_filename_list[1:]:\n",
    "    #for fn in sig_filename_list:\n",
    "        xs,ys = make_dataset(fn, \"sig\")\n",
    "        x = np.vstack((x,xs))\n",
    "        y = np.concatenate((y,ys))\n",
    "    for fn in bg_filename_list:\n",
    "        xb,yb = make_dataset(fn, \"bg\")\n",
    "        x = np.vstack((x,xb))\n",
    "        y = np.concatenate((y,yb))\n",
    "    \n",
    "    return x,y"
   ]
  }
 ],
 "metadata": {
  "kernelspec": {
   "display_name": "Python [default]",
   "language": "python",
   "name": "python3"
  },
  "language_info": {
   "codemirror_mode": {
    "name": "ipython",
    "version": 3
   },
   "file_extension": ".py",
   "mimetype": "text/x-python",
   "name": "python",
   "nbconvert_exporter": "python",
   "pygments_lexer": "ipython3",
   "version": "3.6.5"
  }
 },
 "nbformat": 4,
 "nbformat_minor": 2
}
