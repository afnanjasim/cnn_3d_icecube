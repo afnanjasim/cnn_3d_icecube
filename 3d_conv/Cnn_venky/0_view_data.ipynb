{
 "cells": [
  {
   "cell_type": "markdown",
   "metadata": {},
   "source": [
    "# Code for Ice-Cube 3D CNN\n",
    "\n",
    "- Oct 29, 2018: This code just makes plots for previously trained CNNs"
   ]
  },
  {
   "cell_type": "code",
   "execution_count": 14,
   "metadata": {
    "scrolled": false
   },
   "outputs": [],
   "source": [
    "import sys\n",
    "import os\n",
    "\n",
    "import matplotlib.pyplot as plt\n",
    "import numpy as np\n",
    "import glob\n",
    "import pickle\n",
    "import time"
   ]
  },
  {
   "cell_type": "code",
   "execution_count": 15,
   "metadata": {},
   "outputs": [],
   "source": [
    "%matplotlib widget\n",
    "# %matplotlib inline"
   ]
  },
  {
   "cell_type": "markdown",
   "metadata": {},
   "source": [
    "Useful blog for keras conv3D: http://learnandshare645.blogspot.com/2016/06/3d-cnn-in-keras-action-recognition.html"
   ]
  },
  {
   "cell_type": "markdown",
   "metadata": {},
   "source": [
    "## Modules"
   ]
  },
  {
   "cell_type": "code",
   "execution_count": 16,
   "metadata": {},
   "outputs": [],
   "source": [
    "def f_load_data(data_dir,f1,f2,f3,mode=False):\n",
    "    ''' Load extracted data from files. Three files for xdata,ydata,weights.\n",
    "    arguments: data directory, f1,f2,f3 \n",
    "    returns : inpx,inpy,weights as arrays\n",
    "    '''\n",
    "    m='r' if mode else None\n",
    "    inpx=np.load(data_dir+f1+'.npy',mmap_mode=m)\n",
    "    inpy=np.load(data_dir+f2+'.npy',mmap_mode=m)\n",
    "    wts=np.load(data_dir+f3+'.npy',mmap_mode=m)\n",
    "    print(inpx.shape,inpy.shape)\n",
    "    \n",
    "    return inpx,inpy,wts\n"
   ]
  },
  {
   "cell_type": "markdown",
   "metadata": {},
   "source": [
    "## Read train and test data"
   ]
  },
  {
   "cell_type": "code",
   "execution_count": 17,
   "metadata": {},
   "outputs": [],
   "source": [
    "\n",
    "def f_plot_data(title,y,wts):\n",
    "    '''\n",
    "    Plot function for ydata and weights\n",
    "    '''\n",
    "    # Plot y\n",
    "    fig=plt.figure()\n",
    "    ax1=fig.add_subplot(211)\n",
    "    plt.title(\"%s\"%(title))\n",
    "    ax1.plot(y)\n",
    "    ax1.set_ylabel('y-data')\n",
    "    # Plot wts\n",
    "    ax2=fig.add_subplot(212)\n",
    "    ax2.plot(wts)\n",
    "    plt.setp(ax1.get_xticklabels(), visible=False)\n",
    "    ax2.set_ylabel('weights')\n",
    "#     plt.show()\n",
    "\n",
    "def f_sig_bg_summary(y_arr):\n",
    "    \n",
    "    num=y_arr.shape[0]\n",
    "    sig=np.count_nonzero(y_arr) # Signal corresponds to y==1\n",
    "    print(\"Signal %s, %s %s\"%(sig,sig/num,'%'))"
   ]
  },
  {
   "cell_type": "markdown",
   "metadata": {},
   "source": [
    "## Extract data"
   ]
  },
  {
   "cell_type": "code",
   "execution_count": 18,
   "metadata": {},
   "outputs": [
    {
     "name": "stdout",
     "output_type": "stream",
     "text": [
      "(136066, 10, 20, 60, 1) (136066,)\n",
      "(752604, 10, 20, 60, 1) (752604,)\n"
     ]
    }
   ],
   "source": [
    "data_dir='/global/project/projectdirs/dasrepo/vpa/ice_cube/data_for_cnn/extracted_data_v/data/data_regular/'\n",
    "\n",
    "\n",
    "### Extract regular data\n",
    "f1,f2,f3='shuffled_input_regular_x','shuffled_input_regular_y','shuffled_input_regular_wts'\n",
    "f1,f2,f3='processed_input_regular_x','processed_input_regular_y','processed_input_regular_wts'\n",
    "i1x,i1y,i1wts=f_load_data(data_dir,f1,f2,f3,mode=True)\n",
    "\n",
    "### Extract reserved data\n",
    "f1,f2,f3='shuffled_input_reserved_x','shuffled_input_reserved_y','shuffled_input_reserved_wts'\n",
    "f1,f2,f3='processed_input_reserved_x','processed_input_reserved_y','processed_input_reserved_wts'\n",
    "i2x,i2y,i2wts=f_load_data(data_dir,f1,f2,f3,mode=True)\n"
   ]
  },
  {
   "cell_type": "markdown",
   "metadata": {},
   "source": [
    "## Data overview"
   ]
  },
  {
   "cell_type": "code",
   "execution_count": 19,
   "metadata": {},
   "outputs": [
    {
     "name": "stdout",
     "output_type": "stream",
     "text": [
      "Regular data\n",
      "Num samples in regular data 136066\n",
      "Signal 26237, 0.1928255405464995 %\n",
      "Reserved\n",
      "Num samples in reserved data 752604\n",
      "Signal 17617, 0.023408060547113755 %\n"
     ]
    }
   ],
   "source": [
    "print(\"Regular data\")\n",
    "print(\"Num samples in regular data\",i1y.shape[0])\n",
    "f_sig_bg_summary(i1y)\n",
    "print(\"Reserved\")\n",
    "print(\"Num samples in reserved data\",i2y.shape[0])\n",
    "f_sig_bg_summary(i2y)"
   ]
  },
  {
   "cell_type": "markdown",
   "metadata": {},
   "source": [
    "## View Y data and weights"
   ]
  },
  {
   "cell_type": "code",
   "execution_count": 20,
   "metadata": {},
   "outputs": [
    {
     "data": {
      "application/vnd.jupyter.widget-view+json": {
       "model_id": "e0ab2f888b6a441bba478973f285a151",
       "version_major": 2,
       "version_minor": 0
      },
      "text/plain": [
       "FigureCanvasNbAgg()"
      ]
     },
     "metadata": {},
     "output_type": "display_data"
    },
    {
     "data": {
      "application/vnd.jupyter.widget-view+json": {
       "model_id": "ec67ab7d9272499fb3441ed3187eecd7",
       "version_major": 2,
       "version_minor": 0
      },
      "text/plain": [
       "FigureCanvasNbAgg()"
      ]
     },
     "metadata": {},
     "output_type": "display_data"
    }
   ],
   "source": [
    "\n",
    "data_dir='/global/project/projectdirs/dasrepo/vpa/ice_cube/data_for_cnn/extracted_data_v/data/temp_data/'\n",
    "f_plot_data('regular_data',i1y,i1wts)\n",
    "f_plot_data('reserved_data',i2y,i2wts)"
   ]
  },
  {
   "cell_type": "markdown",
   "metadata": {},
   "source": [
    "## X data summary"
   ]
  },
  {
   "cell_type": "code",
   "execution_count": 21,
   "metadata": {},
   "outputs": [],
   "source": [
    "def f_gist_xdata(x_arr):\n",
    "    \n",
    "    arr=x_arr[:,:,:,:,0]\n",
    "    num_samples=arr.shape[0]\n",
    "    print(num_samples)\n",
    "\n",
    "    # Find number of non-zero 3D images\n",
    "    non_zero_count_3d=[np.count_nonzero(i) for i in arr]\n",
    "    print(\"Number of 3d images that are zero:\\t\",np.count_nonzero(non_zero_count_3d)-num_samples)\n",
    "\n",
    "    # Find number of non-zero 2D images\n",
    "    img_arr=arr.reshape(num_samples*10,20,60)\n",
    "    num_2d_img=num_samples*10\n",
    "    # print(img_arr.shape)\n",
    "    ## First get the True-False value of whether a 2d array has non-zero values. Then pick the True values. \n",
    "    ## This gives the number of 2d images that have atleast one non-zero values.\n",
    "    non_zero_count_2d=np.count_nonzero(np.array([np.any(i) for i in img_arr]))\n",
    "    zero_count=num_2d_img-non_zero_count_2d\n",
    "    print(\"2d images that are zero:\\t%s\\t%s%s\"%(zero_count,zero_count*100/num_2d_img,'%'))\n",
    "\n"
   ]
  },
  {
   "cell_type": "code",
   "execution_count": 22,
   "metadata": {},
   "outputs": [
    {
     "name": "stdout",
     "output_type": "stream",
     "text": [
      "136066\n",
      "Number of 3d images that are zero:\t 0\n",
      "2d images that are zero:\t369847\t27.18144135934032%\n",
      "752604\n",
      "Number of 3d images that are zero:\t 0\n",
      "2d images that are zero:\t2063841\t27.42266849498541%\n"
     ]
    }
   ],
   "source": [
    "f_gist_xdata(i1x)\n",
    "f_gist_xdata(i2x)"
   ]
  },
  {
   "cell_type": "markdown",
   "metadata": {},
   "source": [
    "## Detailed image analysis"
   ]
  },
  {
   "cell_type": "code",
   "execution_count": 23,
   "metadata": {},
   "outputs": [],
   "source": [
    "# Extract images for a few signal and background cases, for further analysis\n",
    "y1_idx_list=np.where(i1y==1)[0]\n",
    "idx1=y1_idx_list[:10]\n",
    "y0_idx_list=np.where(i1y==0)[0]\n",
    "idx0=y0_idx_list[:10]\n",
    "# Xarrays for signal and background\n",
    "x_0=i1x[idx0][:,:,:,:,0]\n",
    "x_1=i1x[idx1][:,:,:,:,0]"
   ]
  },
  {
   "cell_type": "code",
   "execution_count": 24,
   "metadata": {},
   "outputs": [],
   "source": [
    "### Code to analyze a specific sample in detail\n",
    "\n",
    "def f_analyze_sample(x):\n",
    "    \n",
    "    def f_get_sample_image_info(arr):\n",
    "        ''' Module to find the number of non-zero images in a sample and number of non-zero spots in each image of the sample.\n",
    "        Sample array size is (10,20,60)'''\n",
    "\n",
    "        img_count=[np.count_nonzero(i) for i in arr]\n",
    "        non_zero_count=np.count_nonzero(img_count)\n",
    "\n",
    "        dict_keys=['img_count','non_zero_count']\n",
    "        image_dict={key:val for (key,val) in zip(dict_keys,[img_count,non_zero_count])}\n",
    "\n",
    "        return(image_dict)\n",
    "\n",
    "\n",
    "    def f_plot_images(arr):\n",
    "        ''' Plots 2D images for each of the 10 in the 3rd dimension'''\n",
    "\n",
    "        print(arr.shape)\n",
    "\n",
    "        rows,cols=2,5\n",
    "        fig,axarr=plt.subplots(rows,cols,figsize=(10,2))\n",
    "        for i in range(rows*cols):\n",
    "            row,col=int(i/cols),i%cols\n",
    "        #     print(i,'\\t',row,col)\n",
    "            axarr[row,col].imshow(arr[i,:,:],origin='lower',alpha=0.9)\n",
    "            axarr[row,col].set_xticks(np.arange(0,62,10))\n",
    "            axarr[row,col].set_yticks(np.arange(0,22,10))\n",
    "\n",
    "        fig.subplots_adjust(hspace=0.0)\n",
    "        # Drop axis labels\n",
    "        temp=plt.setp([a.get_xticklabels() for a in axarr[:-1, :].flatten()], visible=False)\n",
    "        temp=plt.setp([a.get_yticklabels() for a in axarr[:,1:].flatten()], visible=False)\n",
    "\n",
    "        plt.close()\n",
    "\n",
    "        \n",
    "    ### Function begins ###\n",
    "    print(f_get_sample_image_info(x))\n",
    "    f_plot_images(x)\n"
   ]
  },
  {
   "cell_type": "code",
   "execution_count": 25,
   "metadata": {},
   "outputs": [
    {
     "name": "stdout",
     "output_type": "stream",
     "text": [
      "{'img_count': [0, 0, 0, 1, 10, 49, 97, 139, 100, 42], 'non_zero_count': 7}\n",
      "(10, 20, 60)\n"
     ]
    },
    {
     "data": {
      "application/vnd.jupyter.widget-view+json": {
       "model_id": "",
       "version_major": 2,
       "version_minor": 0
      },
      "text/plain": [
       "FigureCanvasNbAgg()"
      ]
     },
     "metadata": {},
     "output_type": "display_data"
    },
    {
     "name": "stdout",
     "output_type": "stream",
     "text": [
      "Sample 0 \t None\n",
      "{'img_count': [0, 0, 1, 28, 87, 213, 249, 231, 188, 112], 'non_zero_count': 8}\n",
      "(10, 20, 60)\n"
     ]
    },
    {
     "data": {
      "application/vnd.jupyter.widget-view+json": {
       "model_id": "",
       "version_major": 2,
       "version_minor": 0
      },
      "text/plain": [
       "FigureCanvasNbAgg()"
      ]
     },
     "metadata": {},
     "output_type": "display_data"
    },
    {
     "name": "stdout",
     "output_type": "stream",
     "text": [
      "Sample 1 \t None\n",
      "{'img_count': [2, 22, 57, 109, 154, 102, 26, 0, 0, 0], 'non_zero_count': 7}\n",
      "(10, 20, 60)\n"
     ]
    },
    {
     "data": {
      "application/vnd.jupyter.widget-view+json": {
       "model_id": "",
       "version_major": 2,
       "version_minor": 0
      },
      "text/plain": [
       "FigureCanvasNbAgg()"
      ]
     },
     "metadata": {},
     "output_type": "display_data"
    },
    {
     "name": "stdout",
     "output_type": "stream",
     "text": [
      "Sample 2 \t None\n",
      "{'img_count': [1, 8, 20, 31, 34, 30, 18, 14, 5, 0], 'non_zero_count': 9}\n",
      "(10, 20, 60)\n"
     ]
    },
    {
     "data": {
      "application/vnd.jupyter.widget-view+json": {
       "model_id": "",
       "version_major": 2,
       "version_minor": 0
      },
      "text/plain": [
       "FigureCanvasNbAgg()"
      ]
     },
     "metadata": {},
     "output_type": "display_data"
    },
    {
     "name": "stdout",
     "output_type": "stream",
     "text": [
      "Sample 3 \t None\n",
      "{'img_count': [0, 9, 25, 41, 63, 70, 39, 11, 1, 0], 'non_zero_count': 8}\n",
      "(10, 20, 60)\n"
     ]
    },
    {
     "data": {
      "application/vnd.jupyter.widget-view+json": {
       "model_id": "",
       "version_major": 2,
       "version_minor": 0
      },
      "text/plain": [
       "FigureCanvasNbAgg()"
      ]
     },
     "metadata": {},
     "output_type": "display_data"
    },
    {
     "name": "stdout",
     "output_type": "stream",
     "text": [
      "Sample 4 \t None\n",
      "{'img_count': [0, 0, 0, 0, 0, 2, 12, 51, 83, 127], 'non_zero_count': 5}\n",
      "(10, 20, 60)\n"
     ]
    },
    {
     "data": {
      "application/vnd.jupyter.widget-view+json": {
       "model_id": "",
       "version_major": 2,
       "version_minor": 0
      },
      "text/plain": [
       "FigureCanvasNbAgg()"
      ]
     },
     "metadata": {},
     "output_type": "display_data"
    },
    {
     "name": "stdout",
     "output_type": "stream",
     "text": [
      "Sample 5 \t None\n",
      "{'img_count': [0, 0, 0, 0, 0, 0, 1, 45, 110, 162], 'non_zero_count': 4}\n",
      "(10, 20, 60)\n"
     ]
    },
    {
     "data": {
      "application/vnd.jupyter.widget-view+json": {
       "model_id": "",
       "version_major": 2,
       "version_minor": 0
      },
      "text/plain": [
       "FigureCanvasNbAgg()"
      ]
     },
     "metadata": {},
     "output_type": "display_data"
    },
    {
     "name": "stdout",
     "output_type": "stream",
     "text": [
      "Sample 6 \t None\n",
      "{'img_count': [0, 8, 44, 99, 122, 73, 14, 0, 0, 0], 'non_zero_count': 6}\n",
      "(10, 20, 60)\n"
     ]
    },
    {
     "data": {
      "application/vnd.jupyter.widget-view+json": {
       "model_id": "",
       "version_major": 2,
       "version_minor": 0
      },
      "text/plain": [
       "FigureCanvasNbAgg()"
      ]
     },
     "metadata": {},
     "output_type": "display_data"
    },
    {
     "name": "stdout",
     "output_type": "stream",
     "text": [
      "Sample 7 \t None\n",
      "{'img_count': [64, 68, 39, 7, 0, 0, 0, 0, 0, 0], 'non_zero_count': 4}\n",
      "(10, 20, 60)\n"
     ]
    },
    {
     "data": {
      "application/vnd.jupyter.widget-view+json": {
       "model_id": "",
       "version_major": 2,
       "version_minor": 0
      },
      "text/plain": [
       "FigureCanvasNbAgg()"
      ]
     },
     "metadata": {},
     "output_type": "display_data"
    },
    {
     "name": "stdout",
     "output_type": "stream",
     "text": [
      "Sample 8 \t None\n",
      "{'img_count': [49, 125, 149, 130, 72, 14, 0, 0, 0, 0], 'non_zero_count': 6}\n",
      "(10, 20, 60)\n"
     ]
    },
    {
     "data": {
      "application/vnd.jupyter.widget-view+json": {
       "model_id": "",
       "version_major": 2,
       "version_minor": 0
      },
      "text/plain": [
       "FigureCanvasNbAgg()"
      ]
     },
     "metadata": {},
     "output_type": "display_data"
    },
    {
     "name": "stdout",
     "output_type": "stream",
     "text": [
      "Sample 9 \t None\n"
     ]
    }
   ],
   "source": [
    "for sample_no,i in enumerate(x_0):\n",
    "    print(\"Sample\",sample_no,'\\t',f_analyze_sample(i))"
   ]
  },
  {
   "cell_type": "code",
   "execution_count": 26,
   "metadata": {},
   "outputs": [
    {
     "name": "stdout",
     "output_type": "stream",
     "text": [
      "non_zero size (4109,), full size (120000,), \n"
     ]
    },
    {
     "data": {
      "application/vnd.jupyter.widget-view+json": {
       "model_id": "ad163ac6157e4cff8e6ab6974f6eb06f",
       "version_major": 2,
       "version_minor": 0
      },
      "text/plain": [
       "FigureCanvasNbAgg()"
      ]
     },
     "metadata": {},
     "output_type": "display_data"
    }
   ],
   "source": [
    "def f_view_non_zero(x):\n",
    "    ''' View parts of the data that are non-zero'''\n",
    "    \n",
    "    flt_x=x.flatten()\n",
    "    x_non_zero=x.flatten()[np.where(x.flatten()>0.0)[0]]\n",
    "\n",
    "    print(\"non_zero size %s, full size %s, \"%(x_non_zero.shape,flt_x.shape))\n",
    "    plt.figure()\n",
    "    plt.plot(x_non_zero)\n",
    "    plt.show()\n",
    "f_view_non_zero(x_0)"
   ]
  },
  {
   "cell_type": "code",
   "execution_count": null,
   "metadata": {},
   "outputs": [],
   "source": []
  },
  {
   "cell_type": "markdown",
   "metadata": {},
   "source": [
    "Parameters to incorporate\n",
    "- tpr, fpr\n",
    "- y==1, y==0 for predictions"
   ]
  },
  {
   "cell_type": "code",
   "execution_count": null,
   "metadata": {},
   "outputs": [],
   "source": []
  }
 ],
 "metadata": {
  "anaconda-cloud": {},
  "kernelspec": {
   "display_name": "v_py3",
   "language": "python",
   "name": "v_jpt_py3"
  },
  "language_info": {
   "codemirror_mode": {
    "name": "ipython",
    "version": 3
   },
   "file_extension": ".py",
   "mimetype": "text/x-python",
   "name": "python",
   "nbconvert_exporter": "python",
   "pygments_lexer": "ipython3",
   "version": "3.6.6"
  },
  "toc-autonumbering": false,
  "toc-showcode": false,
  "toc-showmarkdowntxt": false,
  "toc-showtags": true
 },
 "nbformat": 4,
 "nbformat_minor": 2
}
