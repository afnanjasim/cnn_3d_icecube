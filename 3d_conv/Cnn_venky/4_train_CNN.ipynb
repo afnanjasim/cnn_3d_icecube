{
 "cells": [
  {
   "cell_type": "markdown",
   "metadata": {},
   "source": [
    "# Code for Ice-Cube 3D CNN\n",
    "Using Wahid's tutorial keras code on ICE-Cube CNN data.\n",
    "- October 5, 2018: 2D CNN works.\n",
    "- October 6, 2018: got simple 3D CNN to work.\n",
    "- Oct 10, 2018: Changes made:\n",
    "    - Using cross validation and shuffling arguments of the fit function.\n",
    "- Oct 16, 2018: Reading in actual data, which is very large. Saving to files. Split code into 2 parts: process data and train. Putting back shuffle and test options.\n",
    "- Oct 18, 2018: This notebook does the entire workflow (except processing raw data) for 4 different models, in modular way, without classes.\n",
    "The data formatting is still not modular.\n",
    "- Oct 22, 2018: Saving model and history to project space. history files are 12GB!"
   ]
  },
  {
   "cell_type": "code",
   "execution_count": 1,
   "metadata": {
    "scrolled": false
   },
   "outputs": [],
   "source": [
    "import sys\n",
    "import os\n",
    "\n",
    "import matplotlib.pyplot as plt\n",
    "import numpy as np\n",
    "import glob\n",
    "import pickle\n",
    "import time"
   ]
  },
  {
   "cell_type": "code",
   "execution_count": 2,
   "metadata": {},
   "outputs": [],
   "source": [
    "# %matplotlib widget\n",
    "%matplotlib inline"
   ]
  },
  {
   "cell_type": "markdown",
   "metadata": {},
   "source": [
    "Useful blog for keras conv3D: http://learnandshare645.blogspot.com/2016/06/3d-cnn-in-keras-action-recognition.html"
   ]
  },
  {
   "cell_type": "code",
   "execution_count": 3,
   "metadata": {},
   "outputs": [
    {
     "name": "stderr",
     "output_type": "stream",
     "text": [
      "Using TensorFlow backend.\n"
     ]
    }
   ],
   "source": [
    "# keras modules\n",
    "import keras\n",
    "from keras import layers, models, optimizers, callbacks  # or tensorflow.keras as keras\n",
    "import tensorflow as tf\n",
    "from sklearn.utils import shuffle\n",
    "from sklearn.metrics import roc_curve, auc, roc_auc_score\n",
    "from keras.models import load_model\n",
    "\n"
   ]
  },
  {
   "cell_type": "markdown",
   "metadata": {},
   "source": [
    "### Steps:\n",
    "- Data processing\n",
    "    - Read raw data\n",
    "    - Process data\n",
    "    - Save process data\n",
    "    - Read processed data\n",
    "- Model\n",
    "    - Define model\n",
    "    - Train model\n",
    "    - Validate model\n",
    "    - Plot accuracy and loss\n",
    "    - Save model\n",
    "- Test\n",
    "    - Read model\n",
    "    - Read training data\n",
    "    - Get weights\n",
    "    - Test model\n",
    "    - Plot ROC curve\n"
   ]
  },
  {
   "cell_type": "markdown",
   "metadata": {},
   "source": [
    "### Process data \n",
    "#### Get data from the .hdf5 files. This takes a long time. Do this only once.\n",
    "\n"
   ]
  },
  {
   "cell_type": "markdown",
   "metadata": {},
   "source": [
    "Run this is in bash\n",
    "\n",
    "%%bash\n",
    "conda activate v_python2\n",
    "cd extract_data\n",
    "python process_data.py\n",
    "conda deactivate\n"
   ]
  },
  {
   "cell_type": "markdown",
   "metadata": {},
   "source": [
    "## Modules"
   ]
  },
  {
   "cell_type": "markdown",
   "metadata": {
    "toc-hr-collapsed": false
   },
   "source": [
    "### Extracting data"
   ]
  },
  {
   "cell_type": "code",
   "execution_count": 4,
   "metadata": {},
   "outputs": [],
   "source": [
    "# Load data from files\n",
    "def f_load_data():\n",
    "    ''' Load raw data from files\n",
    "    '''\n",
    "    data_dir='/global/project/projectdirs/dasrepo/vpa/ice_cube/data_for_cnn/extracted_data_v/extract_data/'\n",
    "    f1='processed_input_x'\n",
    "    f2='processed_input_y'\n",
    "    inpx=np.load(data_dir+f1+'.npy')\n",
    "    inpy=np.load(data_dir+f2+'.npy')\n",
    "    print(inpx.shape,inpy.shape)\n",
    "    return inpx,inpy\n"
   ]
  },
  {
   "cell_type": "markdown",
   "metadata": {
    "toc-hr-collapsed": false
   },
   "source": [
    "### Format data\n"
   ]
  },
  {
   "cell_type": "code",
   "execution_count": 5,
   "metadata": {},
   "outputs": [],
   "source": [
    "#### Shuffle and split data ####\n",
    "\n",
    "def f_shuffle_data(inpx,inpy):\n",
    "    ## Shuffle data\n",
    "    \n",
    "    # Setting seed\n",
    "    seed=243\n",
    "    np.random.seed(seed=seed)\n",
    "\n",
    "    ## Get shuffled array of indices\n",
    "    shuffle_arr=np.arange(inpx.shape[0])\n",
    "    np.random.shuffle(shuffle_arr)\n",
    "    inpx=inpx[shuffle_arr]\n",
    "    inpy=inpy[shuffle_arr]\n",
    "\n",
    "    return inpx,inpy\n",
    "\n",
    "def f_drop_data(inpx,inpy,data_size):\n",
    "    # Drop data for quick training.\n",
    "    \n",
    "    full_size=inpy.shape[0]\n",
    "    assert(data_size<=full_size),\"data_size: %s in f_drop_data is more than full data size: %s\"%(data_size,full_size)\n",
    "        \n",
    "    temp=inpx[:data_size]\n",
    "    del(inpx)\n",
    "    inpx=temp.copy()\n",
    "    temp=inpy[:data_size]\n",
    "    del(inpy)\n",
    "    inpy=temp.copy()\n",
    "    del(temp)    \n",
    "    return (inpx,inpy)        \n",
    "        \n",
    "       \n",
    "\n",
    "def f_split_data(inpx,inpy,test_fraction):\n",
    "    '''\n",
    "    Split data for training and test. validation from training piece of data.\n",
    "    !! Warning this code deletes inpx,inpy inside the function. can't help it because the arrays are too big!!\n",
    "    '''\n",
    "    \n",
    "    num=inpx.shape[0]\n",
    "    test_idx=int(test_fraction*num)\n",
    "    train_idx=num-test_idx\n",
    "\n",
    "    train_x=inpx[:train_idx]\n",
    "    train_y=inpy[:train_idx]\n",
    "    \n",
    "    test_x=inpx[train_idx:]\n",
    "    test_y=inpy[train_idx:]\n",
    "\n",
    "    return train_x,train_y,test_x,test_y\n",
    "\n",
    "\n",
    "def f_format_data(inpx,inpy,shuffle_flag=True,drop_data=True,data_size=1000,test_fraction=0.25):\n",
    "    ''' Shuffle, drop and split data for train-test\n",
    "    '''\n",
    "    # Shuffle data\n",
    "    if shuffle_flag: inpx,inpy=f_shuffle_data(inpx,inpy)\n",
    "    # Drop data\n",
    "    if drop_data: inpx,inpy=f_drop_data(inpx,inpy,data_size)\n",
    "\n",
    "#     print(inpy[inpy==0.0].shape,inpy[inpy>0.0].shape,inpy.shape)\n",
    "    \n",
    "#     # Plot data\n",
    "#     plt.figure()\n",
    "#     plt.plot(inpy[:],linestyle='',marker='*',markersize=1)\n",
    "#     plt.title(\"Plot of y data after shuffle\")\n",
    "#     plt.show() \n",
    "    \n",
    "    # Split data into train-test.\n",
    "    train_x,train_y,test_x,test_y=f_split_data(inpx,inpy,test_fraction)\n",
    "    \n",
    "    print('Data sizes: train_x{0},train_y{1},test_x{2},test_y{3}'.format(train_x.shape,train_y.shape,test_x.shape,test_y.shape))\n",
    "    \n",
    "    return train_x,train_y,test_x,test_y\n",
    "\n",
    "    "
   ]
  },
  {
   "cell_type": "markdown",
   "metadata": {
    "toc-hr-collapsed": true
   },
   "source": [
    "### Model details"
   ]
  },
  {
   "cell_type": "code",
   "execution_count": 6,
   "metadata": {},
   "outputs": [],
   "source": [
    "### Defining all the models tried in the study\n",
    "\n",
    "def f_define_model(inpx,name):\n",
    "    '''\n",
    "    Function that defines the model and compiles it.\n",
    "    '''\n",
    "    \n",
    "    inputs = layers.Input(shape=inpx.shape[1:])\n",
    "    h = inputs\n",
    "    \n",
    "    # Choose model\n",
    "    if name=='1':\n",
    "        print(\"model %s\"%name)\n",
    "        # Convolutional layers\n",
    "        conv_sizes=[10, 10, 10]\n",
    "        conv_args = dict(kernel_size=(3, 3, 3), activation='relu', padding='same')\n",
    "        for conv_size in conv_sizes:\n",
    "            h = layers.Conv3D(conv_size, **conv_args)(h)\n",
    "            h = layers.MaxPooling3D(pool_size=(2, 2, 2))(h)\n",
    "    #         h = layers.Dropout(0.5)(h)\n",
    "        h = layers.Flatten()(h)\n",
    "\n",
    "        # Fully connected  layers\n",
    "        h = layers.Dense(10, activation='relu')(h)\n",
    "        #    h = layers.Dropout(0.5)(h)\n",
    "\n",
    "        # Ouptut layer\n",
    "        outputs = layers.Dense(1, activation='sigmoid')(h)\n",
    "    \n",
    "    \n",
    "    elif name=='2':\n",
    "        print(\"model %s\"%name)\n",
    "        # Convolutional layers\n",
    "        conv_sizes=[10,10,10]\n",
    "        conv_args = dict(kernel_size=(3, 3, 3), activation='relu', padding='same')\n",
    "        for conv_size in conv_sizes:\n",
    "            h = layers.Conv3D(conv_size, **conv_args)(h)\n",
    "            h = layers.MaxPooling3D(pool_size=(2, 2, 2))(h)\n",
    "            h = layers.Dropout(0.5)(h)\n",
    "        h = layers.Flatten()(h)\n",
    "\n",
    "        # Fully connected  layers\n",
    "        h = layers.Dense(64, activation='relu')(h)\n",
    "        h = layers.Dropout(0.5)(h)\n",
    "\n",
    "        # Ouptut layer\n",
    "        outputs = layers.Dense(1, activation='sigmoid')(h)\n",
    "        \n",
    "    elif name=='3':\n",
    "        print(\"model %s\"%name)\n",
    "        # Convolutional layers\n",
    "        conv_sizes=[6,6,6]\n",
    "        conv_args = dict(kernel_size=(3, 3, 3), activation='relu', padding='same')\n",
    "        for conv_size in conv_sizes:\n",
    "            h = layers.Conv3D(conv_size, **conv_args)(h)\n",
    "            h = layers.MaxPooling3D(pool_size=(2, 2, 2))(h)\n",
    "            h = layers.Dropout(0.5)(h)\n",
    "        h = layers.Flatten()(h)\n",
    "\n",
    "        # Fully connected  layers\n",
    "        h = layers.Dense(64, activation='relu')(h)\n",
    "        h = layers.Dropout(0.5)(h)\n",
    "\n",
    "        # Ouptut layer\n",
    "        outputs = layers.Dense(1, activation='sigmoid')(h)\n",
    "    \n",
    "    elif name=='4':\n",
    "        print(\"model %s\"%name)\n",
    "        # Convolutional layers\n",
    "        conv_sizes=[6,6,6]\n",
    "        conv_args = dict(kernel_size=(3, 3, 3), activation='relu', padding='same')\n",
    "        for conv_size in conv_sizes:\n",
    "            h = layers.Conv3D(conv_size, **conv_args)(h)\n",
    "            h = layers.MaxPooling3D(pool_size=(2, 2, 2))(h)\n",
    "            h = layers.Dropout(0.5)(h)\n",
    "        h = layers.Flatten()(h)\n",
    "\n",
    "        # Fully connected  layers\n",
    "        h = layers.Dense(120, activation='relu')(h)\n",
    "        h = layers.Dropout(0.5)(h)\n",
    "\n",
    "        # Ouptut layer\n",
    "        outputs = layers.Dense(1, activation='sigmoid')(h)\n",
    "        \n",
    "    elif name=='5':\n",
    "        print(\"model %s\"%name)\n",
    "        # Convolutional layers\n",
    "        conv_sizes=[6,6]\n",
    "        conv_args = dict(kernel_size=(3, 3, 3), activation='relu', padding='same')\n",
    "        for conv_size in conv_sizes:\n",
    "            h = layers.Conv3D(conv_size, **conv_args)(h)\n",
    "            h = layers.MaxPooling3D(pool_size=(3, 3, 3))(h)\n",
    "            h = layers.Dropout(0.5)(h)\n",
    "        h = layers.Flatten()(h)\n",
    "\n",
    "        # Fully connected  layers\n",
    "        h = layers.Dense(120, activation='relu')(h)\n",
    "        h = layers.Dropout(0.5)(h)\n",
    "\n",
    "        # Ouptut layer\n",
    "        outputs = layers.Dense(1, activation='sigmoid')(h)\n",
    "        \n",
    "    \n",
    "    ############################################\n",
    "    ####### Compile model ######################\n",
    "    ############################################\n",
    "    \n",
    "    model = models.Model(inputs, outputs)\n",
    "    model.compile(optimizer=optimizers.Adam(lr=0.001), loss='binary_crossentropy', metrics=['accuracy'])\n",
    "#     model.summary()\n",
    "\n",
    "    return model\n"
   ]
  },
  {
   "cell_type": "markdown",
   "metadata": {},
   "source": [
    "### Train and perform fit"
   ]
  },
  {
   "cell_type": "code",
   "execution_count": 14,
   "metadata": {},
   "outputs": [],
   "source": [
    "\n",
    "def f_train_model(model,inpx,inpy):\n",
    "    \n",
    "    # Train model and get history\n",
    "    history=model.fit(x=inpx, y=inpy,\n",
    "                    batch_size=32,\n",
    "                    epochs=5,\n",
    "                    verbose=1,\n",
    "#                     callbacks = [callbacks.ModelCheckpoint('./rpv_weights.h5')],\n",
    "                    validation_split=0.33,\n",
    "                    shuffle=True\n",
    "                )\n",
    "    \n",
    "    print(\"Number of parameters\",model.count_params())\n",
    "    return history\n",
    "\n",
    "\n",
    "def f_test_model(xdata,ydata,model):\n",
    "    ## Test model and make ROC plot\n",
    "    y_pred=model.predict(xdata,verbose=1)\n",
    "#     print(y_pred)\n",
    "    fpr,tpr,threshold=roc_curve(ydata,y_pred)\n",
    "    print(fpr.shape,tpr.shape,threshold.shape)\n",
    "    f_roc_curve(fpr,tpr)\n",
    "\n",
    "\n",
    "    \n",
    "\n",
    "def f_plot_learning(history):\n",
    "    \n",
    "    plt.figure()\n",
    "    # Plot training & validation accuracy values\n",
    "    plt.plot(history.history['acc'],label='Train')\n",
    "    plt.plot(history.history['val_acc'],label='Validation')\n",
    "    plt.title('Model accuracy')\n",
    "    plt.ylabel('Accuracy')\n",
    "    plt.xlabel('Epoch')\n",
    "    plt.legend(loc='upper left')\n",
    "    plt.show()\n",
    "\n",
    "    # Plot training & validation loss values\n",
    "    plt.figure()\n",
    "    plt.plot(history.history['loss'],label='Train')\n",
    "    plt.plot(history.history['val_loss'],label='Validation')\n",
    "    plt.title('Model loss')\n",
    "    plt.ylabel('Loss')\n",
    "    plt.xlabel('Epoch')\n",
    "    plt.legend(loc='upper left')\n",
    "    plt.show()\n",
    "\n",
    "def f_roc_curve(fpr,tpr):\n",
    "    '''\n",
    "    Module for roc plot and printing AUC\n",
    "    '''\n",
    "    plt.figure()\n",
    "    # plt.plot(fpr,tpr)\n",
    "    plt.scatter(fpr,tpr)\n",
    "    plt.show()\n",
    "\n",
    "    \n",
    "    # AUC \n",
    "    auc_val = auc(fpr, tpr)\n",
    "    print(\"AUC: \",auc_val)\n",
    "    \n",
    "\n",
    "    \n",
    "\n",
    "def f_perform_fit(train_,train_y,test_x,test_y,model_dict,train_status=False):\n",
    "    '''\n",
    "    Compile, train, save and test the model.\n",
    "    Steps:\n",
    "    - Compile\n",
    "    - Train\n",
    "    - Save\n",
    "    - Read\n",
    "    - Plot\n",
    "    - Test\n",
    "    '''\n",
    "    \n",
    "    model_save_dir='/global/project/projectdirs/dasrepo/vpa/ice_cube/data_for_cnn/saved_models/'\n",
    "    model_name=model_dict['name'] # string for the model\n",
    "    fname_model,fname_history='model_{0}.h5'.format(model_name),'history_{0}.pickle'.format(model_name)\n",
    "    \n",
    "    if not train_status: # If not trained before, start to train the model\n",
    "\n",
    "        ########################\n",
    "        # Compile model\n",
    "        model=f_define_model(train_x,model_name)\n",
    "        # Train model\n",
    "        history=f_train_model(model,train_x,train_y)\n",
    "\n",
    "        ########################\n",
    "        # Save model and history\n",
    "        model.save(model_save_dir+fname_model)\n",
    "        with open(model_save_dir+fname_history, 'wb') as f:\n",
    "                pickle.dump(history, f)\n",
    "    \n",
    "    else:\n",
    "        print(\"Using trained model\")\n",
    "\n",
    "        \n",
    "    ########################\n",
    "    ### Read model and history\n",
    "    \n",
    "    ### Check if files exist\n",
    "    assert os.path.exists(model_save_dir+fname_model),\"Model not saved\"\n",
    "    assert os.path.exists(model_save_dir+fname_history),\"History not saved\"\n",
    "    \n",
    "    model=load_model(model_save_dir+fname_model)\n",
    "    with open(model_save_dir+fname_history,'rb') as f:\n",
    "        history= pickle.load(f)\n",
    "    \n",
    "    ########################\n",
    "    model.summary()\n",
    "    # Plot tested model\n",
    "    f_plot_learning(history)\n",
    "    \n",
    "    ########################\n",
    "    # Test model\n",
    "    f_test_model(test_x,test_y,model)\n",
    "      \n",
    "    model_dict['model'],model_dict['history']=model,history\n",
    "\n",
    "    \n",
    "    return model_dict"
   ]
  },
  {
   "cell_type": "markdown",
   "metadata": {},
   "source": [
    "## Execution starts"
   ]
  },
  {
   "cell_type": "markdown",
   "metadata": {},
   "source": [
    "### Get Data"
   ]
  },
  {
   "cell_type": "code",
   "execution_count": 8,
   "metadata": {},
   "outputs": [
    {
     "name": "stdout",
     "output_type": "stream",
     "text": [
      "((136066, 10, 20, 60, 1), (136066,))\n",
      "Data sizes: train_x(102050, 10, 20, 60, 1),train_y(102050,),test_x(34016, 10, 20, 60, 1),test_y(34016,)\n"
     ]
    }
   ],
   "source": [
    "# ##Extract data\n",
    "inpx,inpy=f_load_data()\n",
    "# print(sys.getsizeof(inpx))\n",
    "\n",
    "# ##Format data\n",
    "train_x,train_y,test_x,test_y=f_format_data(inpx,inpy,shuffle_flag=True,drop_data=False,data_size=10000,test_fraction=0.25)\n"
   ]
  },
  {
   "cell_type": "markdown",
   "metadata": {},
   "source": [
    "### Model 1"
   ]
  },
  {
   "cell_type": "code",
   "execution_count": 9,
   "metadata": {},
   "outputs": [
    {
     "name": "stdout",
     "output_type": "stream",
     "text": [
      "Using trained model\n",
      "_________________________________________________________________\n",
      "Layer (type)                 Output Shape              Param #   \n",
      "=================================================================\n",
      "input_1 (InputLayer)         (None, 10, 20, 60, 1)     0         \n",
      "_________________________________________________________________\n",
      "conv3d_1 (Conv3D)            (None, 10, 20, 60, 10)    280       \n",
      "_________________________________________________________________\n",
      "max_pooling3d_1 (MaxPooling3 (None, 5, 10, 30, 10)     0         \n",
      "_________________________________________________________________\n",
      "conv3d_2 (Conv3D)            (None, 5, 10, 30, 10)     2710      \n",
      "_________________________________________________________________\n",
      "max_pooling3d_2 (MaxPooling3 (None, 2, 5, 15, 10)      0         \n",
      "_________________________________________________________________\n",
      "conv3d_3 (Conv3D)            (None, 2, 5, 15, 10)      2710      \n",
      "_________________________________________________________________\n",
      "max_pooling3d_3 (MaxPooling3 (None, 1, 2, 7, 10)       0         \n",
      "_________________________________________________________________\n",
      "flatten_1 (Flatten)          (None, 140)               0         \n",
      "_________________________________________________________________\n",
      "dense_1 (Dense)              (None, 10)                1410      \n",
      "_________________________________________________________________\n",
      "dense_2 (Dense)              (None, 1)                 11        \n",
      "=================================================================\n",
      "Total params: 7,121\n",
      "Trainable params: 7,121\n",
      "Non-trainable params: 0\n",
      "_________________________________________________________________\n"
     ]
    },
    {
     "data": {
      "image/png": "[encoded data removed]",
      "text/plain": [
       "<Figure size 432x288 with 1 Axes>"
      ]
     },
     "metadata": {
      "needs_background": "light"
     },
     "output_type": "display_data"
    },
    {
     "data": {
      "image/png": "[encoded data removed]",
      "text/plain": [
       "<Figure size 432x288 with 1 Axes>"
      ]
     },
     "metadata": {
      "needs_background": "light"
     },
     "output_type": "display_data"
    },
    {
     "name": "stdout",
     "output_type": "stream",
     "text": [
      "34016/34016 [==============================] - 75s 2ms/step\n",
      "((4479,), (4479,), (4479,))\n"
     ]
    },
    {
     "data": {
      "image/png": "[encoded data removed]",
      "text/plain": [
       "<Figure size 432x288 with 1 Axes>"
      ]
     },
     "metadata": {
      "needs_background": "light"
     },
     "output_type": "display_data"
    },
    {
     "name": "stdout",
     "output_type": "stream",
     "text": [
      "('AUC: ', 0.9368554084027532)\n"
     ]
    }
   ],
   "source": [
    "train_status=True\n",
    "# train_status=False\n",
    "\n",
    "model_dict={'name':'1','description':'simplest','model':None,'history':None}\n",
    "model_dict1=f_perform_fit(train_x,train_y,test_x,test_y,model_dict,train_status)\n"
   ]
  },
  {
   "cell_type": "markdown",
   "metadata": {},
   "source": [
    "### Model 2"
   ]
  },
  {
   "cell_type": "code",
   "execution_count": 15,
   "metadata": {},
   "outputs": [
    {
     "name": "stdout",
     "output_type": "stream",
     "text": [
      "Using trained model\n",
      "_________________________________________________________________\n",
      "Layer (type)                 Output Shape              Param #   \n",
      "=================================================================\n",
      "input_2 (InputLayer)         (None, 10, 20, 60, 1)     0         \n",
      "_________________________________________________________________\n",
      "conv3d_4 (Conv3D)            (None, 10, 20, 60, 10)    280       \n",
      "_________________________________________________________________\n",
      "max_pooling3d_4 (MaxPooling3 (None, 5, 10, 30, 10)     0         \n",
      "_________________________________________________________________\n",
      "dropout_1 (Dropout)          (None, 5, 10, 30, 10)     0         \n",
      "_________________________________________________________________\n",
      "conv3d_5 (Conv3D)            (None, 5, 10, 30, 10)     2710      \n",
      "_________________________________________________________________\n",
      "max_pooling3d_5 (MaxPooling3 (None, 2, 5, 15, 10)      0         \n",
      "_________________________________________________________________\n",
      "dropout_2 (Dropout)          (None, 2, 5, 15, 10)      0         \n",
      "_________________________________________________________________\n",
      "conv3d_6 (Conv3D)            (None, 2, 5, 15, 10)      2710      \n",
      "_________________________________________________________________\n",
      "max_pooling3d_6 (MaxPooling3 (None, 1, 2, 7, 10)       0         \n",
      "_________________________________________________________________\n",
      "dropout_3 (Dropout)          (None, 1, 2, 7, 10)       0         \n",
      "_________________________________________________________________\n",
      "flatten_2 (Flatten)          (None, 140)               0         \n",
      "_________________________________________________________________\n",
      "dense_3 (Dense)              (None, 64)                9024      \n",
      "_________________________________________________________________\n",
      "dropout_4 (Dropout)          (None, 64)                0         \n",
      "_________________________________________________________________\n",
      "dense_4 (Dense)              (None, 1)                 65        \n",
      "=================================================================\n",
      "Total params: 14,789\n",
      "Trainable params: 14,789\n",
      "Non-trainable params: 0\n",
      "_________________________________________________________________\n"
     ]
    },
    {
     "data": {
      "image/png": "[encoded data removed]",
      "text/plain": [
       "<Figure size 432x288 with 1 Axes>"
      ]
     },
     "metadata": {
      "needs_background": "light"
     },
     "output_type": "display_data"
    },
    {
     "data": {
      "image/png": "[encoded data removed]",
      "text/plain": [
       "<Figure size 432x288 with 1 Axes>"
      ]
     },
     "metadata": {
      "needs_background": "light"
     },
     "output_type": "display_data"
    },
    {
     "name": "stdout",
     "output_type": "stream",
     "text": [
      "34016/34016 [==============================] - 76s 2ms/step\n",
      "((6093,), (6093,), (6093,))\n"
     ]
    },
    {
     "data": {
      "image/png": "[encoded data removed]",
      "text/plain": [
       "<Figure size 432x288 with 1 Axes>"
      ]
     },
     "metadata": {
      "needs_background": "light"
     },
     "output_type": "display_data"
    },
    {
     "name": "stdout",
     "output_type": "stream",
     "text": [
      "('AUC: ', 0.8965769000099703)\n"
     ]
    }
   ],
   "source": [
    "train_status=True\n",
    "# train_status=False\n",
    "\n",
    "model_dict={'name':'2','description':'simplest','model':None,'history':None}\n",
    "model_dict2=f_perform_fit(train_x,train_y,test_x,test_y,model_dict,train_status)\n"
   ]
  },
  {
   "cell_type": "markdown",
   "metadata": {},
   "source": [
    "### Model 3"
   ]
  },
  {
   "cell_type": "code",
   "execution_count": null,
   "metadata": {},
   "outputs": [],
   "source": [
    "# train_status=True\n",
    "train_status=False\n",
    "\n",
    "model_dict={'name':'3','description':'6conv size, extra dropout','model':None,'history':None}\n",
    "model_dict3=f_perform_fit(train_x,train_y,test_x,test_y,model_dict,train_status)\n"
   ]
  },
  {
   "cell_type": "markdown",
   "metadata": {},
   "source": [
    "### Model 4"
   ]
  },
  {
   "cell_type": "code",
   "execution_count": null,
   "metadata": {},
   "outputs": [],
   "source": [
    "# train_status=True\n",
    "train_status=False\n",
    "\n",
    "model_dict={'name':'4','description':'6conv size, extra dropout','model':None,'history':None}\n",
    "model_dict4=f_perform_fit(train_x,train_y,test_x,test_y,model_dict,train_status)\n",
    "\n"
   ]
  },
  {
   "cell_type": "markdown",
   "metadata": {},
   "source": [
    "### Model 5"
   ]
  },
  {
   "cell_type": "code",
   "execution_count": null,
   "metadata": {},
   "outputs": [],
   "source": [
    "# train_status=True\n",
    "train_status=False\n",
    "\n",
    "model_dict={'name':'4','description':'6conv size, extra dropout','model':None,'history':None}\n",
    "model_dict4=f_perform_fit(train_x,train_y,test_x,test_y,model_dict,train_status)\n",
    "\n",
    "\n"
   ]
  },
  {
   "cell_type": "markdown",
   "metadata": {},
   "source": [
    "### Comparing models"
   ]
  },
  {
   "cell_type": "code",
   "execution_count": null,
   "metadata": {},
   "outputs": [],
   "source": [
    "### Comparing different models:\n",
    "\n",
    "for num,md in enumerate([model_dict1,model_dict2,model_dict3,model_dict4,model_dict]):\n",
    "    hist=md['history'].history\n",
    "    print('Model %s'%(num+1))\n",
    "    for key in hist.keys():\n",
    "        print(key,hist[key])\n",
    "        "
   ]
  },
  {
   "cell_type": "markdown",
   "metadata": {},
   "source": [
    "### Re-plot"
   ]
  },
  {
   "cell_type": "code",
   "execution_count": null,
   "metadata": {},
   "outputs": [],
   "source": [
    "# # Re-plot\n",
    "# m=model_dict1\n",
    "# f_plot_learning(m['history'])\n",
    "# f_test_model(test_x,test_y,m['model'])"
   ]
  },
  {
   "cell_type": "markdown",
   "metadata": {},
   "source": [
    "## -----------------------------------------------"
   ]
  },
  {
   "cell_type": "markdown",
   "metadata": {},
   "source": [
    "### Questions:\n",
    "- Why are fpr and tpr different for 2 different models?\n"
   ]
  },
  {
   "cell_type": "code",
   "execution_count": null,
   "metadata": {},
   "outputs": [],
   "source": [
    "# ## Gather Nick's data\n",
    "# def f_read_file(fname):\n",
    "# #     print(os.path.isfile(fname),os.path.exists(fname))\n",
    "\n",
    "#     with open(fname,'rb') as f:\n",
    "#         X, y, weights, event_id, filenames = pickle.load(f)\n",
    "\n",
    "#     print(X.shape,y.shape,filenames[0])\n",
    "#     return X,y,weights,event_id,filenames\n",
    "\n",
    "# data_dir='/global/project/projectdirs/dasrepo/vpa/project/ice_cube/data_for_cnn/nick_choma_files/'\n",
    "# for i in ['train.pickle','val.pickle','test.pickle']:\n",
    "#     f_read_file(data_dir+i)\n",
    "# X,y,weights,event_id,filenames=f_read_file(data_dir+'train.pickle')"
   ]
  },
  {
   "cell_type": "markdown",
   "metadata": {},
   "source": [
    "#### Notes:\n",
    "- model.fit \n",
    "    - batch_size= sample of data used for training (subset of full training set). \n",
    "    - epoch= number of runs over training data\n",
    "    - callbacks=\n",
    "    \n",
    "- for layers.Input need size (x,y,z,1) in channels_last mode."
   ]
  },
  {
   "cell_type": "markdown",
   "metadata": {},
   "source": [
    "### To do:\n",
    "- Try deleting inpx,inpy to save memory.\n",
    "- Get weights for reserved data.\n",
    "- Understand the Roc curve code and roc_auc_score"
   ]
  },
  {
   "cell_type": "code",
   "execution_count": null,
   "metadata": {},
   "outputs": [],
   "source": []
  },
  {
   "cell_type": "code",
   "execution_count": null,
   "metadata": {},
   "outputs": [],
   "source": []
  }
 ],
 "metadata": {
  "anaconda-cloud": {},
  "kernelspec": {
   "display_name": "v_python2",
   "language": "python",
   "name": "v_jpt_py2"
  },
  "language_info": {
   "codemirror_mode": {
    "name": "ipython",
    "version": 2
   },
   "file_extension": ".py",
   "mimetype": "text/x-python",
   "name": "python",
   "nbconvert_exporter": "python",
   "pygments_lexer": "ipython2",
   "version": "2.7.15"
  },
  "toc-autonumbering": false,
  "toc-showcode": false,
  "toc-showmarkdowntxt": false,
  "toc-showtags": true
 },
 "nbformat": 4,
 "nbformat_minor": 2
}
