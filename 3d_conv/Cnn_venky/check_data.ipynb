{
 "cells": [
  {
   "cell_type": "markdown",
   "metadata": {},
   "source": [
    "# Code for Ice-Cube 3D CNN\n",
    "\n",
    "- Oct 29, 2018: This code just makes plots for previously trained CNNs"
   ]
  },
  {
   "cell_type": "code",
   "execution_count": 1,
   "metadata": {
    "scrolled": false
   },
   "outputs": [],
   "source": [
    "import sys\n",
    "import os\n",
    "\n",
    "import matplotlib.pyplot as plt\n",
    "import numpy as np\n",
    "import glob\n",
    "import pickle\n",
    "import time"
   ]
  },
  {
   "cell_type": "code",
   "execution_count": 2,
   "metadata": {},
   "outputs": [],
   "source": [
    "%matplotlib widget\n",
    "# %matplotlib inline"
   ]
  },
  {
   "cell_type": "markdown",
   "metadata": {},
   "source": [
    "Useful blog for keras conv3D: http://learnandshare645.blogspot.com/2016/06/3d-cnn-in-keras-action-recognition.html"
   ]
  },
  {
   "cell_type": "markdown",
   "metadata": {},
   "source": [
    "## Modules"
   ]
  },
  {
   "cell_type": "code",
   "execution_count": 3,
   "metadata": {},
   "outputs": [],
   "source": [
    "def f_load_data(data_dir,f1,f2,f3):\n",
    "    ''' Load extracted data from files. Three files for xdata,ydata,weights.\n",
    "    arguments: data directory, f1,f2,f3 \n",
    "    returns : inpx,inpy,weights as arrays\n",
    "    '''\n",
    "\n",
    "    inpx=np.load(data_dir+f1+'.npy')\n",
    "    inpy=np.load(data_dir+f2+'.npy')\n",
    "    wts=np.load(data_dir+f3+'.npy')\n",
    "    print(inpx.shape,inpy.shape)\n",
    "    \n",
    "    return inpx,inpy,wts\n",
    "\n",
    "\n",
    "def f_get_ydata_and_wts(data_dir,f1,f2):\n",
    "    ''' Load extracted data from files. Just extracting ydata and weights\n",
    "    returns : inpy,weights as arrays\n",
    "    '''\n",
    "    inpy=np.load(data_dir+f1+'.npy')\n",
    "    wts=np.load(data_dir+f2+'.npy')\n",
    "    \n",
    "    return inpy,wts"
   ]
  },
  {
   "cell_type": "markdown",
   "metadata": {},
   "source": [
    "## Read train and test data"
   ]
  },
  {
   "cell_type": "code",
   "execution_count": 4,
   "metadata": {},
   "outputs": [],
   "source": [
    "def f_get_data(dir_name):    \n",
    "    ### Extract regular data\n",
    "    f1,f2='processed_input_regular_y','processed_input_regular_wts'\n",
    "    i1y,i1wts=f_get_ydata_and_wts(data_dir,f1,f2)\n",
    "    print(\"Num samples in regular data\",i1y.shape[0])\n",
    "    ### Extract reserved data\n",
    "    f1,f2='processed_input_reserved_y','processed_input_reserved_wts'\n",
    "    i2y,i2wts=f_get_ydata_and_wts(data_dir,f1,f2)\n",
    "    print(\"Num samples in reserved data\",i2y.shape[0])\n",
    "\n",
    "    train_y,train_wts=i1y,i1wts\n",
    "    test_y,test_wts=i2y,i2wts\n",
    "    del(i1y,i1wts,i2y,i2wts)\n",
    "    \n",
    "    print(\"Number of signal events in train\",train_y[train_y>0].shape[0])\n",
    "    print(\"Number of signal events in test\",test_y[test_y>0].shape[0])\n",
    "    return(train_y,train_wts,test_y,test_wts)\n",
    "\n",
    "def f_plot_data(title,y,wts):\n",
    "    # Plot y\n",
    "    fig=plt.figure()\n",
    "    ax1=fig.add_subplot(211)\n",
    "    plt.title(\"%s\"%(title))\n",
    "    ax1.plot(y)\n",
    "    ax1.set_ylabel('y-data')\n",
    "    # Plot wts\n",
    "    ax2=fig.add_subplot(212)\n",
    "    ax2.plot(wts)\n",
    "    plt.setp(ax1.get_xticklabels(), visible=False)\n",
    "    ax2.set_ylabel('weights')\n",
    "#     plt.show()\n",
    "\n"
   ]
  },
  {
   "cell_type": "markdown",
   "metadata": {},
   "source": [
    "## Regular data"
   ]
  },
  {
   "cell_type": "code",
   "execution_count": 5,
   "metadata": {},
   "outputs": [
    {
     "name": "stdout",
     "output_type": "stream",
     "text": [
      "Num samples in regular data 136066\n",
      "Num samples in reserved data 752604\n",
      "Number of signal events in train 26237\n",
      "Number of signal events in test 17617\n"
     ]
    },
    {
     "data": {
      "application/vnd.jupyter.widget-view+json": {
       "model_id": "735766d326a64a0da6b9964c8d0a26fe",
       "version_major": 2,
       "version_minor": 0
      },
      "text/plain": [
       "FigureCanvasNbAgg()"
      ]
     },
     "metadata": {},
     "output_type": "display_data"
    },
    {
     "data": {
      "application/vnd.jupyter.widget-view+json": {
       "model_id": "45a86de178114667886721ea11752957",
       "version_major": 2,
       "version_minor": 0
      },
      "text/plain": [
       "FigureCanvasNbAgg()"
      ]
     },
     "metadata": {},
     "output_type": "display_data"
    }
   ],
   "source": [
    "\n",
    "data_dir='/global/project/projectdirs/dasrepo/vpa/ice_cube/data_for_cnn/extracted_data_v/data/temp_data/'\n",
    "train_y,train_wts,test_y,test_wts=f_get_data(data_dir)\n",
    "f_plot_data('train_data',train_y,train_wts)\n",
    "f_plot_data('test_data',test_y,test_wts)"
   ]
  },
  {
   "cell_type": "markdown",
   "metadata": {},
   "source": [
    "### Checking shuffled data\n"
   ]
  },
  {
   "cell_type": "code",
   "execution_count": 6,
   "metadata": {},
   "outputs": [
    {
     "name": "stdout",
     "output_type": "stream",
     "text": [
      "(136066, 10, 20, 60, 1) (136066,)\n",
      "(752604, 10, 20, 60, 1) (752604,)\n"
     ]
    },
    {
     "data": {
      "application/vnd.jupyter.widget-view+json": {
       "model_id": "deff288a88f04b8984a67d2972e62d7f",
       "version_major": 2,
       "version_minor": 0
      },
      "text/plain": [
       "FigureCanvasNbAgg()"
      ]
     },
     "metadata": {},
     "output_type": "display_data"
    },
    {
     "data": {
      "application/vnd.jupyter.widget-view+json": {
       "model_id": "944fc9e2e10b40609bf9a0d1eb8b2840",
       "version_major": 2,
       "version_minor": 0
      },
      "text/plain": [
       "FigureCanvasNbAgg()"
      ]
     },
     "metadata": {},
     "output_type": "display_data"
    }
   ],
   "source": [
    "\n",
    "data_dir='/global/project/projectdirs/dasrepo/vpa/ice_cube/data_for_cnn/extracted_data_v/data/temp_data/'\n",
    "f1,f2,f3='shuffled_input_regular_x','shuffled_input_regular_y','shuffled_input_regular_wts'\n",
    "i1x,i1y,i1wts=f_load_data(data_dir,f1,f2,f3)\n",
    "f1,f2,f3='shuffled_input_reserved_x','shuffled_input_reserved_y','shuffled_input_reserved_wts'\n",
    "i2x,i2y,i2wts=f_load_data(data_dir,f1,f2,f3)\n",
    "\n",
    "f_plot_data('shuffled_data_regular',i1y,i1wts)\n",
    "f_plot_data('shuffled_data_reserved',i2y,i2wts)\n",
    "\n"
   ]
  },
  {
   "cell_type": "markdown",
   "metadata": {},
   "source": [
    "## Hesse cuts"
   ]
  },
  {
   "cell_type": "code",
   "execution_count": 7,
   "metadata": {},
   "outputs": [
    {
     "name": "stdout",
     "output_type": "stream",
     "text": [
      "Num samples in regular data 136066\n",
      "Num samples in reserved data 752604\n",
      "Number of signal events in train 26237\n",
      "Number of signal events in test 17617\n"
     ]
    },
    {
     "data": {
      "application/vnd.jupyter.widget-view+json": {
       "model_id": "6fcadf64774348689d039df7865b79b7",
       "version_major": 2,
       "version_minor": 0
      },
      "text/plain": [
       "FigureCanvasNbAgg()"
      ]
     },
     "metadata": {},
     "output_type": "display_data"
    },
    {
     "data": {
      "application/vnd.jupyter.widget-view+json": {
       "model_id": "83ec9e271ac64c87a5c09c9b3bb7b54e",
       "version_major": 2,
       "version_minor": 0
      },
      "text/plain": [
       "FigureCanvasNbAgg()"
      ]
     },
     "metadata": {},
     "output_type": "display_data"
    }
   ],
   "source": [
    "data_dir='/global/project/projectdirs/dasrepo/vpa/ice_cube/data_for_cnn/extracted_data_v/data/data_hesse_cuts/'\n",
    "\n",
    "train_y,train_wts,test_y,test_wts=f_get_data(data_dir)\n",
    "f_plot_data('train_data',train_y[:],train_wts[:])\n",
    "f_plot_data('test_data',test_y[:],test_wts[:])\n"
   ]
  },
  {
   "cell_type": "markdown",
   "metadata": {},
   "source": [
    "### Checking shuffled data\n"
   ]
  },
  {
   "cell_type": "code",
   "execution_count": 8,
   "metadata": {},
   "outputs": [
    {
     "ename": "FileNotFoundError",
     "evalue": "[Errno 2] No such file or directory: '/global/project/projectdirs/dasrepo/vpa/ice_cube/data_for_cnn/extracted_data_v/data/data_hesse_cuts_dec_25/shuffled_input_regular_x.npy'",
     "output_type": "error",
     "traceback": [
      "\u001b[0;31m---------------------------------------------------------------------------\u001b[0m",
      "\u001b[0;31mFileNotFoundError\u001b[0m                         Traceback (most recent call last)",
      "\u001b[0;32m<ipython-input-8-af2896cc29eb>\u001b[0m in \u001b[0;36m<module>\u001b[0;34m\u001b[0m\n\u001b[1;32m      2\u001b[0m \u001b[0mdata_dir\u001b[0m\u001b[0;34m=\u001b[0m\u001b[0;34m'/global/project/projectdirs/dasrepo/vpa/ice_cube/data_for_cnn/extracted_data_v/data/data_hesse_cuts_dec_25/'\u001b[0m\u001b[0;34m\u001b[0m\u001b[0m\n\u001b[1;32m      3\u001b[0m \u001b[0mf1\u001b[0m\u001b[0;34m,\u001b[0m\u001b[0mf2\u001b[0m\u001b[0;34m,\u001b[0m\u001b[0mf3\u001b[0m\u001b[0;34m=\u001b[0m\u001b[0;34m'shuffled_input_regular_x'\u001b[0m\u001b[0;34m,\u001b[0m\u001b[0;34m'shuffled_input_regular_y'\u001b[0m\u001b[0;34m,\u001b[0m\u001b[0;34m'shuffled_input_regular_wts'\u001b[0m\u001b[0;34m\u001b[0m\u001b[0m\n\u001b[0;32m----> 4\u001b[0;31m \u001b[0mi1x\u001b[0m\u001b[0;34m,\u001b[0m\u001b[0mi1y\u001b[0m\u001b[0;34m,\u001b[0m\u001b[0mi1wts\u001b[0m\u001b[0;34m=\u001b[0m\u001b[0mf_load_data\u001b[0m\u001b[0;34m(\u001b[0m\u001b[0mdata_dir\u001b[0m\u001b[0;34m,\u001b[0m\u001b[0mf1\u001b[0m\u001b[0;34m,\u001b[0m\u001b[0mf2\u001b[0m\u001b[0;34m,\u001b[0m\u001b[0mf3\u001b[0m\u001b[0;34m)\u001b[0m\u001b[0;34m\u001b[0m\u001b[0m\n\u001b[0m\u001b[1;32m      5\u001b[0m \u001b[0mf1\u001b[0m\u001b[0;34m,\u001b[0m\u001b[0mf2\u001b[0m\u001b[0;34m,\u001b[0m\u001b[0mf3\u001b[0m\u001b[0;34m=\u001b[0m\u001b[0;34m'shuffled_input_reserved_x'\u001b[0m\u001b[0;34m,\u001b[0m\u001b[0;34m'shuffled_input_reserved_y'\u001b[0m\u001b[0;34m,\u001b[0m\u001b[0;34m'shuffled_input_reserved_wts'\u001b[0m\u001b[0;34m\u001b[0m\u001b[0m\n\u001b[1;32m      6\u001b[0m \u001b[0mi2x\u001b[0m\u001b[0;34m,\u001b[0m\u001b[0mi2y\u001b[0m\u001b[0;34m,\u001b[0m\u001b[0mi2wts\u001b[0m\u001b[0;34m=\u001b[0m\u001b[0mf_load_data\u001b[0m\u001b[0;34m(\u001b[0m\u001b[0mdata_dir\u001b[0m\u001b[0;34m,\u001b[0m\u001b[0mf1\u001b[0m\u001b[0;34m,\u001b[0m\u001b[0mf2\u001b[0m\u001b[0;34m,\u001b[0m\u001b[0mf3\u001b[0m\u001b[0;34m)\u001b[0m\u001b[0;34m\u001b[0m\u001b[0m\n",
      "\u001b[0;32m<ipython-input-3-6d3ea767a8a0>\u001b[0m in \u001b[0;36mf_load_data\u001b[0;34m(data_dir, f1, f2, f3)\u001b[0m\n\u001b[1;32m      5\u001b[0m     '''\n\u001b[1;32m      6\u001b[0m \u001b[0;34m\u001b[0m\u001b[0m\n\u001b[0;32m----> 7\u001b[0;31m     \u001b[0minpx\u001b[0m\u001b[0;34m=\u001b[0m\u001b[0mnp\u001b[0m\u001b[0;34m.\u001b[0m\u001b[0mload\u001b[0m\u001b[0;34m(\u001b[0m\u001b[0mdata_dir\u001b[0m\u001b[0;34m+\u001b[0m\u001b[0mf1\u001b[0m\u001b[0;34m+\u001b[0m\u001b[0;34m'.npy'\u001b[0m\u001b[0;34m)\u001b[0m\u001b[0;34m\u001b[0m\u001b[0m\n\u001b[0m\u001b[1;32m      8\u001b[0m     \u001b[0minpy\u001b[0m\u001b[0;34m=\u001b[0m\u001b[0mnp\u001b[0m\u001b[0;34m.\u001b[0m\u001b[0mload\u001b[0m\u001b[0;34m(\u001b[0m\u001b[0mdata_dir\u001b[0m\u001b[0;34m+\u001b[0m\u001b[0mf2\u001b[0m\u001b[0;34m+\u001b[0m\u001b[0;34m'.npy'\u001b[0m\u001b[0;34m)\u001b[0m\u001b[0;34m\u001b[0m\u001b[0m\n\u001b[1;32m      9\u001b[0m     \u001b[0mwts\u001b[0m\u001b[0;34m=\u001b[0m\u001b[0mnp\u001b[0m\u001b[0;34m.\u001b[0m\u001b[0mload\u001b[0m\u001b[0;34m(\u001b[0m\u001b[0mdata_dir\u001b[0m\u001b[0;34m+\u001b[0m\u001b[0mf3\u001b[0m\u001b[0;34m+\u001b[0m\u001b[0;34m'.npy'\u001b[0m\u001b[0;34m)\u001b[0m\u001b[0;34m\u001b[0m\u001b[0m\n",
      "\u001b[0;32m~/.conda/envs/v_py3/lib/python3.6/site-packages/numpy/lib/npyio.py\u001b[0m in \u001b[0;36mload\u001b[0;34m(file, mmap_mode, allow_pickle, fix_imports, encoding)\u001b[0m\n\u001b[1;32m    382\u001b[0m     \u001b[0mown_fid\u001b[0m \u001b[0;34m=\u001b[0m \u001b[0;32mFalse\u001b[0m\u001b[0;34m\u001b[0m\u001b[0m\n\u001b[1;32m    383\u001b[0m     \u001b[0;32mif\u001b[0m \u001b[0misinstance\u001b[0m\u001b[0;34m(\u001b[0m\u001b[0mfile\u001b[0m\u001b[0;34m,\u001b[0m \u001b[0mbasestring\u001b[0m\u001b[0;34m)\u001b[0m\u001b[0;34m:\u001b[0m\u001b[0;34m\u001b[0m\u001b[0m\n\u001b[0;32m--> 384\u001b[0;31m         \u001b[0mfid\u001b[0m \u001b[0;34m=\u001b[0m \u001b[0mopen\u001b[0m\u001b[0;34m(\u001b[0m\u001b[0mfile\u001b[0m\u001b[0;34m,\u001b[0m \u001b[0;34m\"rb\"\u001b[0m\u001b[0;34m)\u001b[0m\u001b[0;34m\u001b[0m\u001b[0m\n\u001b[0m\u001b[1;32m    385\u001b[0m         \u001b[0mown_fid\u001b[0m \u001b[0;34m=\u001b[0m \u001b[0;32mTrue\u001b[0m\u001b[0;34m\u001b[0m\u001b[0m\n\u001b[1;32m    386\u001b[0m     \u001b[0;32melif\u001b[0m \u001b[0mis_pathlib_path\u001b[0m\u001b[0;34m(\u001b[0m\u001b[0mfile\u001b[0m\u001b[0;34m)\u001b[0m\u001b[0;34m:\u001b[0m\u001b[0;34m\u001b[0m\u001b[0m\n",
      "\u001b[0;31mFileNotFoundError\u001b[0m: [Errno 2] No such file or directory: '/global/project/projectdirs/dasrepo/vpa/ice_cube/data_for_cnn/extracted_data_v/data/data_hesse_cuts_dec_25/shuffled_input_regular_x.npy'"
     ]
    }
   ],
   "source": [
    "\n",
    "data_dir='/global/project/projectdirs/dasrepo/vpa/ice_cube/data_for_cnn/extracted_data_v/data/data_hesse_cuts_dec_25/'\n",
    "f1,f2,f3='shuffled_input_regular_x','shuffled_input_regular_y','shuffled_input_regular_wts'\n",
    "i1x,i1y,i1wts=f_load_data(data_dir,f1,f2,f3)\n",
    "f1,f2,f3='shuffled_input_reserved_x','shuffled_input_reserved_y','shuffled_input_reserved_wts'\n",
    "i2x,i2y,i2wts=f_load_data(data_dir,f1,f2,f3)\n",
    "\n",
    "f_plot_data('shuffled_data_regular',i1y,i1wts)\n",
    "f_plot_data('shuffled_data_reserved',i2y,i2wts)"
   ]
  },
  {
   "cell_type": "markdown",
   "metadata": {},
   "source": [
    "### Checking raw data with shuffled data "
   ]
  },
  {
   "cell_type": "code",
   "execution_count": null,
   "metadata": {},
   "outputs": [],
   "source": [
    "data_dir='/global/project/projectdirs/dasrepo/vpa/ice_cube/data_for_cnn/extracted_data_v/data/temp_data/'\n",
    "f1,f2,f3='shuffled_input_regular_x','shuffled_input_regular_y','shuffled_input_regular_wts'\n",
    "i1x,i1y,i1wts=f_load_data(data_dir,f1,f2,f3)\n",
    "\n",
    "f1,f2,f3='processed_input_regular_x','processed_input_regular_y','processed_input_regular_wts'\n",
    "i2x,i2y,i2wts=f_load_data(data_dir,f1,f2,f3)\n",
    "\n",
    "\n",
    "print(np.mean(i1x),np.mean(i2x),'\\n',np.mean(i1y),np.mean(i2y),'\\n',np.mean(i1wts),np.mean(i2wts))"
   ]
  },
  {
   "cell_type": "markdown",
   "metadata": {},
   "source": [
    "The means agree to a good extent. I'm convinced the shuffling works fine."
   ]
  },
  {
   "cell_type": "markdown",
   "metadata": {},
   "source": [
    "## Checking shuffled data for two different runs"
   ]
  },
  {
   "cell_type": "code",
   "execution_count": 11,
   "metadata": {},
   "outputs": [
    {
     "name": "stdout",
     "output_type": "stream",
     "text": [
      "(136066, 10, 20, 60, 1) (136066,)\n",
      "(136066, 10, 20, 60, 1) (136066,)\n",
      "1.3285437059286471 1.3285437059286471 \n",
      " 0.1928255405464995 0.1928255405464995 \n",
      " 0.0012851776562493081 0.0012851776562493081\n"
     ]
    }
   ],
   "source": [
    "data_dir='/global/project/projectdirs/dasrepo/vpa/ice_cube/data_for_cnn/extracted_data_v/data/data_regular/'\n",
    "f1,f2,f3='shuffled_input_regular_x','shuffled_input_regular_y','shuffled_input_regular_wts'\n",
    "i1x,i1y,i1wts=f_load_data(data_dir,f1,f2,f3)\n",
    "\n",
    "\n",
    "data_dir='/global/project/projectdirs/dasrepo/vpa/ice_cube/data_for_cnn/extracted_data_v/data/new_data_regular/'\n",
    "f1,f2,f3='shuffled_input_regular_x','shuffled_input_regular_y','shuffled_input_regular_wts'\n",
    "i2x,i2y,i2wts=f_load_data(data_dir,f1,f2,f3)\n",
    "\n",
    "\n",
    "print(np.mean(i1x),np.mean(i2x),'\\n',np.mean(i1y),np.mean(i2y),'\\n',np.mean(i1wts),np.mean(i2wts))"
   ]
  },
  {
   "cell_type": "code",
   "execution_count": 12,
   "metadata": {},
   "outputs": [
    {
     "name": "stdout",
     "output_type": "stream",
     "text": [
      "(136066, 10, 20, 60, 1) (136066,)\n",
      "(136066, 10, 20, 60, 1) (136066,)\n",
      "1.3285437059286471 1.3285437059286471 \n",
      " 0.1928255405464995 0.1928255405464995 \n",
      " 0.0012851776562493081 0.0012851776562493081\n"
     ]
    }
   ],
   "source": [
    "data_dir='/global/project/projectdirs/dasrepo/vpa/ice_cube/data_for_cnn/extracted_data_v/data/data_hesse_cuts/'\n",
    "f1,f2,f3='shuffled_input_regular_x','shuffled_input_regular_y','shuffled_input_regular_wts'\n",
    "i1x,i1y,i1wts=f_load_data(data_dir,f1,f2,f3)\n",
    "\n",
    "\n",
    "data_dir='/global/project/projectdirs/dasrepo/vpa/ice_cube/data_for_cnn/extracted_data_v/data/new_data_hesse_cuts/'\n",
    "f1,f2,f3='shuffled_input_regular_x','shuffled_input_regular_y','shuffled_input_regular_wts'\n",
    "i2x,i2y,i2wts=f_load_data(data_dir,f1,f2,f3)\n",
    "\n",
    "\n",
    "print(np.mean(i1x),np.mean(i2x),'\\n',np.mean(i1y),np.mean(i2y),'\\n',np.mean(i1wts),np.mean(i2wts))"
   ]
  },
  {
   "cell_type": "code",
   "execution_count": null,
   "metadata": {},
   "outputs": [],
   "source": []
  }
 ],
 "metadata": {
  "anaconda-cloud": {},
  "kernelspec": {
   "display_name": "v_py3",
   "language": "python",
   "name": "v_jpt_py3"
  },
  "language_info": {
   "codemirror_mode": {
    "name": "ipython",
    "version": 3
   },
   "file_extension": ".py",
   "mimetype": "text/x-python",
   "name": "python",
   "nbconvert_exporter": "python",
   "pygments_lexer": "ipython3",
   "version": "3.6.8"
  },
  "toc-autonumbering": false,
  "toc-showcode": false,
  "toc-showmarkdowntxt": false,
  "toc-showtags": true
 },
 "nbformat": 4,
 "nbformat_minor": 2
}
