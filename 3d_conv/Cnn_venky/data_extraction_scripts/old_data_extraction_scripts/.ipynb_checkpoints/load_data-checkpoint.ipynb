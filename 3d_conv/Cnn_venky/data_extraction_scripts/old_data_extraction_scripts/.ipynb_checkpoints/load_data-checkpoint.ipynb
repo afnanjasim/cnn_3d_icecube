{
 "cells": [
  {
   "cell_type": "code",
   "execution_count": 5,
   "metadata": {},
   "outputs": [],
   "source": [
    "import numpy as np\n",
    "import h5py\n",
    "# from nbfinder import NotebookFinder\n",
    "import sys\n",
    "# sys.meta_path.append(NotebookFinder())\n",
    "from util import add_pulse_to_inp_tensor, get_nonempty_pulses, total_doms, total_height, total_width, get_pulse_array, get_nonempty_events"
   ]
  },
  {
   "cell_type": "code",
   "execution_count": 6,
   "metadata": {
    "collapsed": true
   },
   "outputs": [],
   "source": [
    "\n",
    "def make_dataset(filename, sig_or_bg):\n",
    "    \n",
    "    hf = h5py.File(filename,'r')\n",
    "    pulse_array_keys = get_nonempty_pulses(hf)\n",
    "    num_events = len(pulse_array_keys)\n",
    "    \n",
    "    ####### Added by Venkitesh, Oct 24, 2018. \n",
    "    ## Extracting the weights\n",
    "    event_array_keys=get_nonempty_events(hf)\n",
    "    assert len(pulse_array_keys)==len(event_array_keys), \"Pulse and event array keys have different sizes\"\n",
    "    # Computing the weights\n",
    "    wgts=np.array([hf['events'][event_key]['weight'][0] for event_key in event_array_keys])\n",
    "    \n",
    "    # Checking whether the event_array_keys and pulse_array_keys are in order and identical\n",
    "#     print(np.array_equal(pulse_array_keys,event_array_keys))    \n",
    "    assert np.array_equal(pulse_array_keys,event_array_keys), \"Pulse array %s and Event array %s are not identical. Possibility of mismatch\"%(pulse_array_keys,event_array_keys)\n",
    "    #######\n",
    "        \n",
    "    tens = np.zeros((num_events, total_doms, total_height, total_width))\n",
    "    \n",
    "    for ex_num, pulse_array_key in enumerate(pulse_array_keys):\n",
    "        pulse_array = get_pulse_array(hf, pulse_array_key)\n",
    "        add_pulse_to_inp_tensor(tens, ex_num, pulse_array)\n",
    "        \n",
    "    lbls = np.ones((num_events,)) if sig_or_bg == \"sig\" else np.zeros((num_events,))\n",
    "        \n",
    "    return tens, lbls, wgts\n",
    "\n",
    "\n",
    "def get_data(sig_filename_list, bg_filename_list):\n",
    "    \n",
    "    ### Changes made by Venkitesh, 10/24/2018\n",
    "    x, y, wt = make_dataset(sig_filename_list[0], \"sig\")\n",
    "    \n",
    "    for fn in sig_filename_list[1:]:\n",
    "    #for fn in sig_filename_list:\n",
    "        xs,ys,wts = make_dataset(fn, \"sig\")\n",
    "        x = np.vstack((x,xs))\n",
    "        y = np.concatenate((y,ys))\n",
    "        wt = np.concatenate((wt,wts))\n",
    "\n",
    "    for fn in bg_filename_list:\n",
    "        xb,yb,wtb = make_dataset(fn, \"bg\")\n",
    "        x = np.vstack((x,xb))\n",
    "        y = np.concatenate((y,yb))\n",
    "        wt= np.concatenate((wt,wtb))\n",
    "    return x,y,wt\n"
   ]
  },
  {
   "cell_type": "code",
   "execution_count": 9,
   "metadata": {},
   "outputs": [
    {
     "name": "stdout",
     "output_type": "stream",
     "text": [
      "[NbConvertApp] Converting notebook load_data.ipynb to script\n",
      "[NbConvertApp] Writing 2528 bytes to load_data.py\n"
     ]
    }
   ],
   "source": [
    "!jupyter nbconvert --to script load_data.ipynb\n"
   ]
  },
  {
   "cell_type": "code",
   "execution_count": 8,
   "metadata": {},
   "outputs": [],
   "source": [
    "# import glob\n",
    "\n",
    "# sigpath = \"/project/projectdirs/dasrepo/icecube_data/hdf5_out/filtered/nugen/11374/clsim-base-4.0.3.0.99_eff/\"\n",
    "# sig_list=glob.glob(sigpath+'*00.hdf5')\n",
    "# bgpath = \"/project/projectdirs/dasrepo/icecube_data/hdf5_out/filtered/corsika/11057/\"\n",
    "# bg_list=glob.glob(bgpath+'*00.hdf5')\n",
    "\n",
    "# inx,inpy,wts = get_data(sig_list, bg_list)\n",
    "\n"
   ]
  },
  {
   "cell_type": "code",
   "execution_count": null,
   "metadata": {},
   "outputs": [],
   "source": []
  },
  {
   "cell_type": "code",
   "execution_count": null,
   "metadata": {},
   "outputs": [],
   "source": []
  }
 ],
 "metadata": {
  "anaconda-cloud": {},
  "kernelspec": {
   "display_name": "v_python2",
   "language": "python",
   "name": "v_jpt_py2"
  },
  "language_info": {
   "codemirror_mode": {
    "name": "ipython",
    "version": 2
   },
   "file_extension": ".py",
   "mimetype": "text/x-python",
   "name": "python",
   "nbconvert_exporter": "python",
   "pygments_lexer": "ipython2",
   "version": "2.7.15"
  }
 },
 "nbformat": 4,
 "nbformat_minor": 2
}
