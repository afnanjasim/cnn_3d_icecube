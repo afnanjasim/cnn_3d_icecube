{
 "cells": [
  {
   "cell_type": "markdown",
   "metadata": {},
   "source": [
    "# Code to view data inside hdf5 files\n",
    "- Nov 27, 2018"
   ]
  },
  {
   "cell_type": "code",
   "execution_count": 1,
   "metadata": {},
   "outputs": [],
   "source": [
    "import h5py\n",
    "import numpy as np\n",
    "import glob"
   ]
  },
  {
   "cell_type": "markdown",
   "metadata": {},
   "source": [
    "### General description of data:\n",
    "- There are two major keys : 'events' and 'pulses'.\n",
    "- The x-input is obtained from 'pulses'. The y-input and weights come from 'events'."
   ]
  },
  {
   "cell_type": "code",
   "execution_count": 5,
   "metadata": {},
   "outputs": [
    {
     "name": "stdout",
     "output_type": "stream",
     "text": [
      "108 102\n"
     ]
    }
   ],
   "source": [
    "sigpath = \"/project/projectdirs/dasrepo/icecube_data/hdf5_out/filtered/nugen/11374/clsim-base-4.0.3.0.99_eff/\"\n",
    "sig_list=glob.glob(sigpath+'*00.hdf5')\n",
    "bgpath = \"/project/projectdirs/dasrepo/icecube_data/hdf5_out/filtered/corsika/11057/\"\n",
    "bg_list=glob.glob(bgpath+'*00.hdf5')\n",
    "print(len(sig_list),len(bg_list))"
   ]
  },
  {
   "cell_type": "code",
   "execution_count": 37,
   "metadata": {},
   "outputs": [
    {
     "name": "stdout",
     "output_type": "stream",
     "text": [
      "Group names: ['events', 'pulses']\n",
      "Events: ['nugen_1137415500_49580_0', 'nugen_1137415500_55336_0', 'nugen_1137415500_60843_0']\n",
      "nugen_1137415500_49580_0\n",
      "[('qtot', '<f4'), ('reco_azi', '<f4'), ('reco_energy', '<f4'), ('reco_x', '<f4'), ('reco_y', '<f4'), ('reco_z', '<f4'), ('reco_zen', '<f4'), ('true_azi', '<f4'), ('true_energy', '<f4'), ('true_type', 'S16'), ('true_x', '<f4'), ('true_y', '<f4'), ('true_z', '<f4'), ('true_zen', '<f4'), ('weight', '<f4')]\n",
      "3.20333e-07\n",
      "nugen_1137415500_55336_0\n",
      "[('qtot', '<f4'), ('reco_azi', '<f4'), ('reco_energy', '<f4'), ('reco_x', '<f4'), ('reco_y', '<f4'), ('reco_z', '<f4'), ('reco_zen', '<f4'), ('true_azi', '<f4'), ('true_energy', '<f4'), ('true_type', 'S16'), ('true_x', '<f4'), ('true_y', '<f4'), ('true_z', '<f4'), ('true_zen', '<f4'), ('weight', '<f4')]\n",
      "1.42646e-07\n",
      "nugen_1137415500_60843_0\n",
      "[('qtot', '<f4'), ('reco_azi', '<f4'), ('reco_energy', '<f4'), ('reco_x', '<f4'), ('reco_y', '<f4'), ('reco_z', '<f4'), ('reco_zen', '<f4'), ('true_azi', '<f4'), ('true_energy', '<f4'), ('true_type', 'S16'), ('true_x', '<f4'), ('true_y', '<f4'), ('true_z', '<f4'), ('true_zen', '<f4'), ('weight', '<f4')]\n",
      "5.80995e-08\n"
     ]
    }
   ],
   "source": [
    "f1=sig_list[0]\n",
    "f2=bg_list[0]\n",
    "\n",
    "# Reading in one file\n",
    "file_name=f1\n",
    "hf= h5py.File(file_name, 'r')\n",
    "\n",
    "# List all groups\n",
    "group_names=list(hf.keys())\n",
    "print(\"Group names:\",group_names)\n",
    "\n",
    "# Get the data\n",
    "sub_keys = list(hf['events'])\n",
    "print(\"Events:\",sub_keys)\n",
    "\n",
    "for evt in sub_keys:\n",
    "    print(evt)\n",
    "    val=hf['events'][evt]\n",
    "    print(val.dtype)\n",
    "    weight=val['weight'][0]\n",
    "    print(weight)\n",
    "    if ((np.abs(val['true_x'][0])<500) and (np.abs(val['true_y'][0])<500) and (np.abs(val['true_z'][0])<500)) :\n",
    "        print(\"Hesse-cut\",filename)\n",
    "        print(val,val['true_x'][0],val['true_y'][0],val['true_z'][0])\n"
   ]
  },
  {
   "cell_type": "code",
   "execution_count": 40,
   "metadata": {},
   "outputs": [
    {
     "name": "stdout",
     "output_type": "stream",
     "text": [
      "Events: ['nugen_1137415500_49580_0', 'nugen_1137415500_55336_0', 'nugen_1137415500_60843_0']\n",
      "nugen_1137415500_49580_0\n",
      "[('qtot', '<f4'), ('reco_azi', '<f4'), ('reco_energy', '<f4'), ('reco_x', '<f4'), ('reco_y', '<f4'), ('reco_z', '<f4'), ('reco_zen', '<f4'), ('true_azi', '<f4'), ('true_energy', '<f4'), ('true_type', 'S16'), ('true_x', '<f4'), ('true_y', '<f4'), ('true_z', '<f4'), ('true_zen', '<f4'), ('weight', '<f4')]\n",
      "nugen_1137415500_55336_0\n",
      "[('qtot', '<f4'), ('reco_azi', '<f4'), ('reco_energy', '<f4'), ('reco_x', '<f4'), ('reco_y', '<f4'), ('reco_z', '<f4'), ('reco_zen', '<f4'), ('true_azi', '<f4'), ('true_energy', '<f4'), ('true_type', 'S16'), ('true_x', '<f4'), ('true_y', '<f4'), ('true_z', '<f4'), ('true_zen', '<f4'), ('weight', '<f4')]\n",
      "nugen_1137415500_60843_0\n",
      "[('qtot', '<f4'), ('reco_azi', '<f4'), ('reco_energy', '<f4'), ('reco_x', '<f4'), ('reco_y', '<f4'), ('reco_z', '<f4'), ('reco_zen', '<f4'), ('true_azi', '<f4'), ('true_energy', '<f4'), ('true_type', 'S16'), ('true_x', '<f4'), ('true_y', '<f4'), ('true_z', '<f4'), ('true_zen', '<f4'), ('weight', '<f4')]\n"
     ]
    }
   ],
   "source": [
    "# Get the data\n",
    "sub_keys = list(hf['pulses'])\n",
    "print(\"Events:\",sub_keys)\n",
    "\n",
    "for evt in sub_keys:\n",
    "    print(evt)\n",
    "    val=hf['events'][evt]\n",
    "    print(val.dtype)\n",
    "#     weight=val['weight'][0]\n",
    "#     print(weight)\n",
    "\n",
    "\n"
   ]
  },
  {
   "cell_type": "code",
   "execution_count": null,
   "metadata": {},
   "outputs": [],
   "source": []
  },
  {
   "cell_type": "code",
   "execution_count": null,
   "metadata": {},
   "outputs": [],
   "source": []
  }
 ],
 "metadata": {
  "kernelspec": {
   "display_name": "Python [default]",
   "language": "python",
   "name": "python3"
  },
  "language_info": {
   "codemirror_mode": {
    "name": "ipython",
    "version": 3
   },
   "file_extension": ".py",
   "mimetype": "text/x-python",
   "name": "python",
   "nbconvert_exporter": "python",
   "pygments_lexer": "ipython3",
   "version": "3.6.5"
  }
 },
 "nbformat": 4,
 "nbformat_minor": 2
}
