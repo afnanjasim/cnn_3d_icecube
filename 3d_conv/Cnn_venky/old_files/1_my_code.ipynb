{
 "cells": [
  {
   "cell_type": "markdown",
   "metadata": {},
   "source": [
    "# Code for Ice-Cube 3D CNN\n",
    "Using Wahid's tutorial keras code on ICE-Cube CNN data.\n",
    "- October 5, 2018: 2D CNN works.\n",
    "- October 6, 2018: got simple 3D CNN to work."
   ]
  },
  {
   "cell_type": "code",
   "execution_count": 1,
   "metadata": {
    "scrolled": false
   },
   "outputs": [
    {
     "name": "stdout",
     "output_type": "stream",
     "text": [
      "importing Jupyter notebook from load_data.ipynb\n",
      "importing Jupyter notebook from util.ipynb\n"
     ]
    },
    {
     "data": {
      "text/html": [
       "<style>.container { width:100% !important; }</style>"
      ],
      "text/plain": [
       "<IPython.core.display.HTML object>"
      ]
     },
     "metadata": {},
     "output_type": "display_data"
    }
   ],
   "source": [
    "from nbfinder import NotebookFinder\n",
    "import sys\n",
    "import os\n",
    "sys.meta_path.append(NotebookFinder())\n",
    "from load_data import get_data\n",
    "\n",
    "# import matplotlib\n",
    "# matplotlib.use('Agg')\n",
    "import matplotlib.pyplot as plt\n",
    "# %matplotlib inline\n",
    "# %matplotlib notebook\n",
    "%matplotlib widget\n",
    "\n",
    "import numpy as np\n",
    "import glob"
   ]
  },
  {
   "cell_type": "markdown",
   "metadata": {},
   "source": [
    "Useful blog for keras conv3D: http://learnandshare645.blogspot.com/2016/06/3d-cnn-in-keras-action-recognition.html"
   ]
  },
  {
   "cell_type": "code",
   "execution_count": 2,
   "metadata": {},
   "outputs": [
    {
     "name": "stdout",
     "output_type": "stream",
     "text": [
      "ROC_plot.py   load_data.ipynb  my_code.ipynb  nbfinder.pyc       rpv_weights.h5\n",
      "\u001b[0m\u001b[01;34m__pycache__\u001b[0m/  main.ipynb       nbfinder.py    resnet_util.ipynb  util.ipynb\n"
     ]
    }
   ],
   "source": [
    "ls"
   ]
  },
  {
   "cell_type": "code",
   "execution_count": 3,
   "metadata": {},
   "outputs": [
    {
     "name": "stderr",
     "output_type": "stream",
     "text": [
      "Using TensorFlow backend.\n"
     ]
    }
   ],
   "source": [
    "\n",
    "# keras modules\n",
    "import keras\n",
    "from keras import layers, models, optimizers, callbacks  # or tensorflow.keras as keras\n",
    "import tensorflow as tf\n",
    "\n",
    "# from keras.layers import *\n",
    "# from keras.models import Model,Sequential\n",
    "# from keras.optimizers import adam\n"
   ]
  },
  {
   "cell_type": "code",
   "execution_count": 5,
   "metadata": {},
   "outputs": [
    {
     "name": "stdout",
     "output_type": "stream",
     "text": [
      "importing Jupyter notebook from resnet_util.ipynb\n"
     ]
    }
   ],
   "source": [
    "# Import modules form other nbs\n",
    "from resnet_util import identity_block,conv_block"
   ]
  },
  {
   "cell_type": "code",
   "execution_count": 28,
   "metadata": {},
   "outputs": [],
   "source": [
    "# import sys; sys.executable\n",
    "# print(keras.__version__)"
   ]
  },
  {
   "cell_type": "markdown",
   "metadata": {},
   "source": [
    "### Extracting data"
   ]
  },
  {
   "cell_type": "code",
   "execution_count": 7,
   "metadata": {},
   "outputs": [],
   "source": [
    "sigpath = \"/project/projectdirs/dasrepo/icecube_data/hdf5_out/filtered/nugen/11374/clsim-base-4.0.3.0.99_eff/\"\n",
    "sig_list=glob.glob(sigpath+'*00.hdf5')\n",
    "bgpath = \"/project/projectdirs/dasrepo/icecube_data/hdf5_out/filtered/corsika/11057/\"\n",
    "bg_list=glob.glob(bgpath+'*00.hdf5')\n",
    "\n",
    "inx,iny = get_data(sig_list, bg_list)"
   ]
  },
  {
   "cell_type": "code",
   "execution_count": 8,
   "metadata": {},
   "outputs": [
    {
     "name": "stdout",
     "output_type": "stream",
     "text": [
      "(1388, 60, 10, 20)\n",
      "(1388,)\n",
      "(array([0., 0., 0., 0., 0., 0., 0., 0., 0., 0.]), 1.0)\n"
     ]
    }
   ],
   "source": [
    "print(inx.shape)\n",
    "print(iny.shape)\n",
    "print(inx[0,0,:,0],iny[5])"
   ]
  },
  {
   "cell_type": "code",
   "execution_count": 9,
   "metadata": {},
   "outputs": [
    {
     "data": {
      "image/png": "[encoded data removed]",
      "text/plain": [
       "<Figure size 432x288 with 1 Axes>"
      ]
     },
     "metadata": {
      "needs_background": "light"
     },
     "output_type": "display_data"
    }
   ],
   "source": [
    "plt.figure()\n",
    "plt.plot(iny[:])\n",
    "plt.show()"
   ]
  },
  {
   "cell_type": "code",
   "execution_count": 10,
   "metadata": {},
   "outputs": [
    {
     "name": "stdout",
     "output_type": "stream",
     "text": [
      "1388\n"
     ]
    }
   ],
   "source": [
    "print(inx.shape[0])"
   ]
  },
  {
   "cell_type": "markdown",
   "metadata": {},
   "source": [
    "### Create training and cross-validation inputs"
   ]
  },
  {
   "cell_type": "code",
   "execution_count": 11,
   "metadata": {},
   "outputs": [
    {
     "name": "stdout",
     "output_type": "stream",
     "text": [
      "((1388, 1, 60, 10, 20), (1388, 10, 20, 60, 1))\n",
      "((694, 10, 20, 60, 1), (694,))\n",
      "((694, 10, 20, 60, 1), (694,))\n"
     ]
    }
   ],
   "source": [
    "inx2=np.expand_dims(inx,axis=1)\n",
    "inx3=np.transpose(inx2,axes=[0,3,4,2,1])\n",
    "print(inx2.shape,inx3.shape)\n",
    "\n",
    "inpx=inx3.copy()\n",
    "inpy=iny.copy()\n",
    "\n",
    "num=(inpx.shape[0])\n",
    "cval_prop=0.5\n",
    "cv_index=int(cval_prop*num)\n",
    "train_x,train_y=inpx[:cv_index],inpy[:cv_index]\n",
    "cval_x,cval_y=inpx[cv_index:],inpy[cv_index:]\n",
    "\n",
    "print(train_x.shape,train_y.shape)\n",
    "print(cval_x.shape,cval_y.shape)"
   ]
  },
  {
   "cell_type": "markdown",
   "metadata": {},
   "source": [
    "### Testing Conv2D "
   ]
  },
  {
   "cell_type": "code",
   "execution_count": 12,
   "metadata": {},
   "outputs": [],
   "source": [
    "# # making a 2D conv array for testing purposes\n",
    "# inx4=inx3[:,[2,3,4]]\n",
    "# inx4=inx3[:,0,:,:,:]\n",
    "# print(inx4.shape)\n",
    "# iny.shape"
   ]
  },
  {
   "cell_type": "code",
   "execution_count": 13,
   "metadata": {},
   "outputs": [],
   "source": [
    "# inputs = layers.Input(shape=inx4.shape[1:])\n",
    "# h = inputs\n",
    "\n",
    "# # Convolutional layers\n",
    "# conv_sizes=[64, 128, 256]\n",
    "# conv_args = dict(kernel_size=(3, 3), activation='relu', padding='same')\n",
    "# for conv_size in conv_sizes:\n",
    "#     h = layers.Conv2D(conv_size, **conv_args)(h)\n",
    "#     h = layers.MaxPooling2D(pool_size=(2, 2))(h)\n",
    "# #h = layers.Dropout(0.5)(h)\n",
    "# h = layers.Flatten()(h)\n",
    "\n",
    "# # Fully connected  layers\n",
    "# h = layers.Dense(64, activation='relu')(h)\n",
    "# #    h = layers.Dropout(0.5)(h)\n",
    "\n",
    "# # Ouptut layer\n",
    "# outputs = layers.Dense(1, activation='sigmoid')(h)\n",
    "\n",
    "\n",
    "# model = models.Model(inputs, outputs)\n",
    "# model.compile(optimizer=optimizers.Adam(lr=0.001), loss='binary_crossentropy', metrics=['accuracy'])"
   ]
  },
  {
   "cell_type": "markdown",
   "metadata": {},
   "source": [
    "## Notes:\n",
    "- model.fit \n",
    "    - batch_size= sample of data used for training (subset of full training set). \n",
    "    - epoch= number of runs over training data\n",
    "    - callbacks=\n",
    "    \n",
    "- for layers.Input need size (x,y,z,1) in channels_last mode."
   ]
  },
  {
   "cell_type": "code",
   "execution_count": 14,
   "metadata": {},
   "outputs": [],
   "source": [
    "# model.fit(x=inx4, y=iny,\n",
    "#                       batch_size=128,\n",
    "#                       epochs=3,\n",
    "#                       verbose=1,\n",
    "#                       callbacks = [\n",
    "#                         callbacks.ModelCheckpoint('./rpv_weights.h5')\n",
    "#                       ],                      \n",
    "#                 )"
   ]
  },
  {
   "cell_type": "code",
   "execution_count": 15,
   "metadata": {},
   "outputs": [],
   "source": [
    "# model.summary()"
   ]
  },
  {
   "cell_type": "markdown",
   "metadata": {},
   "source": [
    "### Conv3D"
   ]
  },
  {
   "cell_type": "markdown",
   "metadata": {},
   "source": [
    "\n",
    "To figure out:\n",
    "- model.fit(callbacks= ...)\n",
    "- model.predict \n"
   ]
  },
  {
   "cell_type": "markdown",
   "metadata": {},
   "source": [
    "### Test 1"
   ]
  },
  {
   "cell_type": "code",
   "execution_count": 16,
   "metadata": {},
   "outputs": [],
   "source": [
    "inputs = layers.Input(shape=train_x.shape[1:])\n",
    "h = inputs\n",
    "\n",
    "# Convolutional layers\n",
    "conv_sizes=[64, 128, 256]\n",
    "conv_args = dict(kernel_size=(3, 3, 3), activation='relu', padding='same')\n",
    "for conv_size in conv_sizes:\n",
    "    h = layers.Conv3D(conv_size, **conv_args)(h)\n",
    "    h = layers.MaxPooling3D(pool_size=(2, 2, 2))(h)\n",
    "#h = layers.Dropout(0.5)(h)\n",
    "h = layers.Flatten()(h)\n",
    "\n",
    "# Fully connected  layers\n",
    "h = layers.Dense(64, activation='relu')(h)\n",
    "#    h = layers.Dropout(0.5)(h)\n",
    "\n",
    "# Ouptut layer\n",
    "outputs = layers.Dense(1, activation='sigmoid')(h)"
   ]
  },
  {
   "cell_type": "code",
   "execution_count": 17,
   "metadata": {},
   "outputs": [],
   "source": [
    "model = models.Model(inputs, outputs)\n",
    "model.compile(optimizer=optimizers.Adam(lr=0.001), loss='binary_crossentropy', metrics=['accuracy'])"
   ]
  },
  {
   "cell_type": "code",
   "execution_count": 18,
   "metadata": {},
   "outputs": [
    {
     "name": "stdout",
     "output_type": "stream",
     "text": [
      "Epoch 1/3\n",
      "694/694 [==============================] - 124s 178ms/step - loss: 5.7071 - acc: 0.6225\n",
      "Epoch 2/3\n",
      "694/694 [==============================] - 101s 146ms/step - loss: 5.8062 - acc: 0.6398\n",
      "Epoch 3/3\n",
      "694/694 [==============================] - 60s 87ms/step - loss: 5.8062 - acc: 0.6398\n"
     ]
    },
    {
     "data": {
      "text/plain": [
       "<keras.callbacks.History at 0x2b5685d6ef90>"
      ]
     },
     "execution_count": 18,
     "metadata": {},
     "output_type": "execute_result"
    }
   ],
   "source": [
    "model.fit(x=train_x, y=train_y,\n",
    "                      batch_size=32,\n",
    "                      epochs=3,\n",
    "                      verbose=1,\n",
    "                      callbacks = [\n",
    "                        callbacks.ModelCheckpoint('./rpv_weights.h5')\n",
    "                      ],                      \n",
    "                )"
   ]
  },
  {
   "cell_type": "code",
   "execution_count": 19,
   "metadata": {},
   "outputs": [
    {
     "name": "stdout",
     "output_type": "stream",
     "text": [
      "_________________________________________________________________\n",
      "Layer (type)                 Output Shape              Param #   \n",
      "=================================================================\n",
      "input_1 (InputLayer)         (None, 10, 20, 60, 1)     0         \n",
      "_________________________________________________________________\n",
      "conv3d_1 (Conv3D)            (None, 10, 20, 60, 64)    1792      \n",
      "_________________________________________________________________\n",
      "max_pooling3d_1 (MaxPooling3 (None, 5, 10, 30, 64)     0         \n",
      "_________________________________________________________________\n",
      "conv3d_2 (Conv3D)            (None, 5, 10, 30, 128)    221312    \n",
      "_________________________________________________________________\n",
      "max_pooling3d_2 (MaxPooling3 (None, 2, 5, 15, 128)     0         \n",
      "_________________________________________________________________\n",
      "conv3d_3 (Conv3D)            (None, 2, 5, 15, 256)     884992    \n",
      "_________________________________________________________________\n",
      "max_pooling3d_3 (MaxPooling3 (None, 1, 2, 7, 256)      0         \n",
      "_________________________________________________________________\n",
      "flatten_1 (Flatten)          (None, 3584)              0         \n",
      "_________________________________________________________________\n",
      "dense_1 (Dense)              (None, 64)                229440    \n",
      "_________________________________________________________________\n",
      "dense_2 (Dense)              (None, 1)                 65        \n",
      "=================================================================\n",
      "Total params: 1,337,601\n",
      "Trainable params: 1,337,601\n",
      "Non-trainable params: 0\n",
      "_________________________________________________________________\n"
     ]
    }
   ],
   "source": [
    "model.summary()"
   ]
  },
  {
   "cell_type": "code",
   "execution_count": 20,
   "metadata": {},
   "outputs": [
    {
     "name": "stdout",
     "output_type": "stream",
     "text": [
      "694/694 [==============================] - 55s 79ms/step\n",
      "Validation Accuracy: 1.0\n"
     ]
    }
   ],
   "source": [
    "score = model.evaluate(cval_x,  cval_y); print (\"Validation Accuracy: \" + str(score[1] ))"
   ]
  },
  {
   "cell_type": "code",
   "execution_count": 29,
   "metadata": {},
   "outputs": [
    {
     "name": "stdout",
     "output_type": "stream",
     "text": [
      "694/694 [==============================] - 29s 42ms/step\n",
      "Test Accuracy: 0.6397694524495677\n"
     ]
    }
   ],
   "source": [
    "score = model.evaluate(train_x,  train_y); print (\"Test Accuracy: \" + str(score[1] ))"
   ]
  },
  {
   "cell_type": "code",
   "execution_count": 22,
   "metadata": {},
   "outputs": [
    {
     "name": "stdout",
     "output_type": "stream",
     "text": [
      "[1.0000001515422036e-07, 1.0]\n",
      "694/694 [==============================] - 54s 78ms/step\n"
     ]
    }
   ],
   "source": [
    "print(score)\n",
    "prd=model.predict(cval_x,verbose=1)\n",
    "# print(prd)"
   ]
  },
  {
   "cell_type": "code",
   "execution_count": 23,
   "metadata": {},
   "outputs": [
    {
     "data": {
      "text/plain": [
       "(numpy.ndarray, (694, 1))"
      ]
     },
     "execution_count": 23,
     "metadata": {},
     "output_type": "execute_result"
    }
   ],
   "source": [
    "type(prd),prd.shape"
   ]
  },
  {
   "cell_type": "code",
   "execution_count": 24,
   "metadata": {},
   "outputs": [
    {
     "data": {
      "text/plain": [
       "((694, 1), (0,))"
      ]
     },
     "execution_count": 24,
     "metadata": {},
     "output_type": "execute_result"
    }
   ],
   "source": [
    "prd.shape,prd[prd>0.0].shape"
   ]
  },
  {
   "cell_type": "code",
   "execution_count": 25,
   "metadata": {},
   "outputs": [
    {
     "data": {
      "image/png": "[encoded data removed]",
      "text/plain": [
       "<Figure size 432x288 with 1 Axes>"
      ]
     },
     "metadata": {
      "needs_background": "light"
     },
     "output_type": "display_data"
    }
   ],
   "source": [
    "# Plotting cv results\n",
    "\n",
    "plt.figure()\n",
    "plt.plot(cval_y,color='r',marker='H')\n",
    "plt.plot(prd,color='b',linestyle='',marker='*')\n",
    "plt.show()"
   ]
  },
  {
   "cell_type": "markdown",
   "metadata": {},
   "source": [
    "### Test 2"
   ]
  },
  {
   "cell_type": "code",
   "execution_count": 26,
   "metadata": {},
   "outputs": [
    {
     "data": {
      "text/plain": [
       "['__call__',\n",
       " '__class__',\n",
       " '__delattr__',\n",
       " '__dict__',\n",
       " '__doc__',\n",
       " '__format__',\n",
       " '__getattribute__',\n",
       " '__getstate__',\n",
       " '__hash__',\n",
       " '__init__',\n",
       " '__module__',\n",
       " '__new__',\n",
       " '__reduce__',\n",
       " '__reduce_ex__',\n",
       " '__repr__',\n",
       " '__setattr__',\n",
       " '__setstate__',\n",
       " '__sizeof__',\n",
       " '__str__',\n",
       " '__subclasshook__',\n",
       " '__weakref__',\n",
       " '_add_inbound_node',\n",
       " '_base_init',\n",
       " '_built',\n",
       " '_check_trainable_weights_consistency',\n",
       " '_collected_trainable_weights',\n",
       " '_compute_previous_mask',\n",
       " '_expects_training_arg',\n",
       " '_feed_input_names',\n",
       " '_feed_input_shapes',\n",
       " '_feed_inputs',\n",
       " '_feed_loss_fns',\n",
       " '_feed_output_names',\n",
       " '_feed_output_shapes',\n",
       " '_feed_outputs',\n",
       " '_feed_sample_weight_modes',\n",
       " '_feed_sample_weights',\n",
       " '_feed_targets',\n",
       " '_function_kwargs',\n",
       " '_get_node_attribute_at_index',\n",
       " '_inbound_nodes',\n",
       " '_init_graph_network',\n",
       " '_init_subclassed_network',\n",
       " '_initial_weights',\n",
       " '_input_coordinates',\n",
       " '_input_layers',\n",
       " '_is_compiled',\n",
       " '_is_graph_network',\n",
       " '_layers',\n",
       " '_layers_by_depth',\n",
       " '_losses',\n",
       " '_make_predict_function',\n",
       " '_make_test_function',\n",
       " '_make_train_function',\n",
       " '_network_nodes',\n",
       " '_node_key',\n",
       " '_nodes_by_depth',\n",
       " '_outbound_nodes',\n",
       " '_output_coordinates',\n",
       " '_output_layers',\n",
       " '_output_mask_cache',\n",
       " '_output_shape_cache',\n",
       " '_output_tensor_cache',\n",
       " '_per_input_losses',\n",
       " '_per_input_updates',\n",
       " '_set_inputs',\n",
       " '_standardize_user_data',\n",
       " '_updated_config',\n",
       " '_updates',\n",
       " '_uses_dynamic_learning_phase',\n",
       " '_uses_inputs_arg',\n",
       " 'add_loss',\n",
       " 'add_update',\n",
       " 'add_weight',\n",
       " 'assert_input_compatibility',\n",
       " 'build',\n",
       " 'built',\n",
       " 'call',\n",
       " 'compile',\n",
       " 'compute_mask',\n",
       " 'compute_output_shape',\n",
       " 'count_params',\n",
       " 'evaluate',\n",
       " 'evaluate_generator',\n",
       " 'fit',\n",
       " 'fit_generator',\n",
       " 'from_config',\n",
       " 'get_config',\n",
       " 'get_input_at',\n",
       " 'get_input_mask_at',\n",
       " 'get_input_shape_at',\n",
       " 'get_layer',\n",
       " 'get_losses_for',\n",
       " 'get_output_at',\n",
       " 'get_output_mask_at',\n",
       " 'get_output_shape_at',\n",
       " 'get_updates_for',\n",
       " 'get_weights',\n",
       " 'history',\n",
       " 'input',\n",
       " 'input_mask',\n",
       " 'input_names',\n",
       " 'input_shape',\n",
       " 'input_spec',\n",
       " 'inputs',\n",
       " 'layers',\n",
       " 'load_weights',\n",
       " 'loss',\n",
       " 'loss_functions',\n",
       " 'loss_weights',\n",
       " 'losses',\n",
       " 'metrics',\n",
       " 'metrics_names',\n",
       " 'metrics_tensors',\n",
       " 'metrics_updates',\n",
       " 'name',\n",
       " 'non_trainable_weights',\n",
       " 'optimizer',\n",
       " 'output',\n",
       " 'output_mask',\n",
       " 'output_names',\n",
       " 'output_shape',\n",
       " 'outputs',\n",
       " 'predict',\n",
       " 'predict_function',\n",
       " 'predict_generator',\n",
       " 'predict_on_batch',\n",
       " 'reset_states',\n",
       " 'run_internal_graph',\n",
       " 'sample_weight_mode',\n",
       " 'sample_weight_modes',\n",
       " 'sample_weights',\n",
       " 'save',\n",
       " 'save_weights',\n",
       " 'set_weights',\n",
       " 'state_updates',\n",
       " 'stateful',\n",
       " 'stateful_metric_functions',\n",
       " 'stateful_metric_names',\n",
       " 'stop_training',\n",
       " 'summary',\n",
       " 'supports_masking',\n",
       " 'targets',\n",
       " 'test_function',\n",
       " 'test_on_batch',\n",
       " 'to_json',\n",
       " 'to_yaml',\n",
       " 'total_loss',\n",
       " 'train_function',\n",
       " 'train_on_batch',\n",
       " 'trainable',\n",
       " 'trainable_weights',\n",
       " 'updates',\n",
       " 'uses_learning_phase',\n",
       " 'weighted_metrics',\n",
       " 'weights']"
      ]
     },
     "execution_count": 26,
     "metadata": {},
     "output_type": "execute_result"
    }
   ],
   "source": [
    "dir(model)"
   ]
  },
  {
   "cell_type": "code",
   "execution_count": null,
   "metadata": {},
   "outputs": [],
   "source": []
  },
  {
   "cell_type": "code",
   "execution_count": null,
   "metadata": {},
   "outputs": [],
   "source": []
  },
  {
   "cell_type": "markdown",
   "metadata": {},
   "source": [
    "### Old code from Zahra"
   ]
  },
  {
   "cell_type": "code",
   "execution_count": 27,
   "metadata": {},
   "outputs": [],
   "source": [
    "# plt.figure()\n",
    "# plt.plot(history.history['loss'])\n",
    "# plt.title('model loss')\n",
    "# plt.ylabel('loss')\n",
    "# plt.xlabel('epoch')\n",
    "# plt.show()\n",
    "\n",
    "# # plt.savefig('lossresnetgpu3.png')"
   ]
  },
  {
   "cell_type": "markdown",
   "metadata": {},
   "source": [
    "#### notes:\n",
    "- shuffle data\n",
    "- weighted rock curve (curve in the plot).\n",
    "- Result on Monday!"
   ]
  },
  {
   "cell_type": "code",
   "execution_count": null,
   "metadata": {},
   "outputs": [],
   "source": []
  }
 ],
 "metadata": {
  "anaconda-cloud": {},
  "kernelspec": {
   "display_name": "v_python2",
   "language": "python",
   "name": "v_jpt_py2"
  },
  "language_info": {
   "codemirror_mode": {
    "name": "ipython",
    "version": 2
   },
   "file_extension": ".py",
   "mimetype": "text/x-python",
   "name": "python",
   "nbconvert_exporter": "python",
   "pygments_lexer": "ipython2",
   "version": "2.7.15"
  }
 },
 "nbformat": 4,
 "nbformat_minor": 2
}
