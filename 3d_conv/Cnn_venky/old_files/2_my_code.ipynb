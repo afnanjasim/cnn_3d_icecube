{
 "cells": [
  {
   "cell_type": "markdown",
   "metadata": {},
   "source": [
    "# Code for Ice-Cube 3D CNN\n",
    "Using Wahid's tutorial keras code on ICE-Cube CNN data.\n",
    "- October 5, 2018: 2D CNN works.\n",
    "- October 6, 2018: got simple 3D CNN to work.\n",
    "- Oct 10, 2018: Changes made: Added shuffling of data.\n",
    "    "
   ]
  },
  {
   "cell_type": "code",
   "execution_count": 1,
   "metadata": {
    "scrolled": false
   },
   "outputs": [
    {
     "name": "stdout",
     "output_type": "stream",
     "text": [
      "importing Jupyter notebook from load_data.ipynb\n"
     ]
    },
    {
     "data": {
      "text/html": [
       "<style>.container { width:100% !important; }</style>"
      ],
      "text/plain": [
       "<IPython.core.display.HTML object>"
      ]
     },
     "metadata": {},
     "output_type": "display_data"
    },
    {
     "name": "stdout",
     "output_type": "stream",
     "text": [
      "importing Jupyter notebook from util.ipynb\n"
     ]
    }
   ],
   "source": [
    "from nbfinder import NotebookFinder\n",
    "import sys\n",
    "import os\n",
    "sys.meta_path.append(NotebookFinder())\n",
    "from load_data import get_data\n",
    "\n",
    "# import matplotlib\n",
    "# matplotlib.use('Agg')\n",
    "import matplotlib.pyplot as plt\n",
    "# %matplotlib inline\n",
    "# %matplotlib notebook\n",
    "%matplotlib widget\n",
    "\n",
    "import numpy as np\n",
    "import glob"
   ]
  },
  {
   "cell_type": "markdown",
   "metadata": {},
   "source": [
    "Useful blog for keras conv3D: http://learnandshare645.blogspot.com/2016/06/3d-cnn-in-keras-action-recognition.html"
   ]
  },
  {
   "cell_type": "code",
   "execution_count": 2,
   "metadata": {},
   "outputs": [
    {
     "name": "stdout",
     "output_type": "stream",
     "text": [
      "1_my_code.ipynb  \u001b[0m\u001b[01;34m__pycache__\u001b[0m/     nbfinder.py        rpv_weights.h5\n",
      "2_my_code.ipynb  load_data.ipynb  nbfinder.pyc       util.ipynb\n",
      "ROC_plot.py      main.ipynb       resnet_util.ipynb\n"
     ]
    }
   ],
   "source": [
    "ls"
   ]
  },
  {
   "cell_type": "code",
   "execution_count": 3,
   "metadata": {},
   "outputs": [
    {
     "name": "stderr",
     "output_type": "stream",
     "text": [
      "Using TensorFlow backend.\n"
     ]
    }
   ],
   "source": [
    "\n",
    "# keras modules\n",
    "import keras\n",
    "from keras import layers, models, optimizers, callbacks  # or tensorflow.keras as keras\n",
    "import tensorflow as tf\n",
    "from sklearn.utils import shuffle\n",
    "# from keras.layers import *\n",
    "# from keras.models import Model,Sequential\n",
    "# from keras.optimizers import adam\n"
   ]
  },
  {
   "cell_type": "code",
   "execution_count": 4,
   "metadata": {},
   "outputs": [
    {
     "name": "stdout",
     "output_type": "stream",
     "text": [
      "importing Jupyter notebook from resnet_util.ipynb\n"
     ]
    }
   ],
   "source": [
    "# Import modules form other nbs\n",
    "from resnet_util import identity_block,conv_block"
   ]
  },
  {
   "cell_type": "code",
   "execution_count": 22,
   "metadata": {},
   "outputs": [],
   "source": [
    "# import sys; sys.executable\n",
    "# print(keras.__version__)\n",
    "seed=243\n",
    "np.random.seed(seed=seed)\n"
   ]
  },
  {
   "cell_type": "markdown",
   "metadata": {},
   "source": [
    "### Extracting data"
   ]
  },
  {
   "cell_type": "code",
   "execution_count": 31,
   "metadata": {},
   "outputs": [
    {
     "name": "stdout",
     "output_type": "stream",
     "text": [
      "((1388, 60, 10, 20), (1388,))\n"
     ]
    }
   ],
   "source": [
    "sigpath = \"/project/projectdirs/dasrepo/icecube_data/hdf5_out/filtered/nugen/11374/clsim-base-4.0.3.0.99_eff/\"\n",
    "sig_list=glob.glob(sigpath+'*00.hdf5')\n",
    "bgpath = \"/project/projectdirs/dasrepo/icecube_data/hdf5_out/filtered/corsika/11057/\"\n",
    "bg_list=glob.glob(bgpath+'*00.hdf5')\n",
    "\n",
    "inx_raw,iny_raw = get_data(sig_list, bg_list)\n",
    "print(inx_raw.shape,iny_raw.shape)\n"
   ]
  },
  {
   "cell_type": "code",
   "execution_count": 44,
   "metadata": {},
   "outputs": [
    {
     "data": {
      "image/png": "[encoded data removed]",
      "text/plain": [
       "<Figure size 432x288 with 1 Axes>"
      ]
     },
     "metadata": {
      "needs_background": "light"
     },
     "output_type": "display_data"
    },
    {
     "data": {
      "image/png": "[encoded data removed]",
      "text/plain": [
       "<Figure size 432x288 with 1 Axes>"
      ]
     },
     "metadata": {
      "needs_background": "light"
     },
     "output_type": "display_data"
    }
   ],
   "source": [
    "plt.figure()\n",
    "plt.plot(iny_raw[:])\n",
    "plt.show()\n",
    "\n",
    "## Get shuffled array of indices\n",
    "shuffle_arr=np.arange(inx.shape[0])\n",
    "np.random.shuffle(shuffle_arr)\n",
    "\n",
    "# print(shuffle_arr)\n",
    "\n",
    "iny_shuffle=iny_raw[shuffle_arr]\n",
    "inx_shuffle=inx_raw[shuffle_arr]\n",
    "\n",
    "\n",
    "plt.figure()\n",
    "plt.plot(iny_shuffle)\n",
    "plt.show()\n",
    "\n",
    "\n",
    "\n",
    "shuffle_flag=True\n",
    "if shuffle_flag:\n",
    "    inx=inx_shuffle.copy()\n",
    "    iny=iny_shuffle.copy()\n",
    "else :\n",
    "    inx=inx_raw.copy()\n",
    "    iny=iny_raw.copy()    "
   ]
  },
  {
   "cell_type": "markdown",
   "metadata": {},
   "source": [
    "### Create training and cross-validation inputs"
   ]
  },
  {
   "cell_type": "code",
   "execution_count": 45,
   "metadata": {},
   "outputs": [
    {
     "name": "stdout",
     "output_type": "stream",
     "text": [
      "((1388, 1, 60, 10, 20), (1388, 10, 20, 60, 1))\n",
      "((694, 10, 20, 60, 1), (694,))\n",
      "((694, 10, 20, 60, 1), (694,))\n"
     ]
    }
   ],
   "source": [
    "inx2=np.expand_dims(inx,axis=1)\n",
    "inx3=np.transpose(inx2,axes=[0,3,4,2,1])\n",
    "print(inx2.shape,inx3.shape)\n",
    "\n",
    "inpx=inx3.copy()\n",
    "inpy=iny.copy()\n",
    "\n",
    "num=(inpx.shape[0])\n",
    "cval_prop=0.5\n",
    "cv_index=int(cval_prop*num)\n",
    "train_x,train_y=inpx[:cv_index],inpy[:cv_index]\n",
    "cval_x,cval_y=inpx[cv_index:],inpy[cv_index:]\n",
    "\n",
    "print(train_x.shape,train_y.shape)\n",
    "print(cval_x.shape,cval_y.shape)\n",
    "\n",
    "\n"
   ]
  },
  {
   "cell_type": "markdown",
   "metadata": {},
   "source": [
    "## Notes:\n",
    "- model.fit \n",
    "    - batch_size= sample of data used for training (subset of full training set). \n",
    "    - epoch= number of runs over training data\n",
    "    - callbacks=\n",
    "    \n",
    "- for layers.Input need size (x,y,z,1) in channels_last mode."
   ]
  },
  {
   "cell_type": "markdown",
   "metadata": {},
   "source": [
    "## Conv3D"
   ]
  },
  {
   "cell_type": "markdown",
   "metadata": {},
   "source": [
    "### Test 1"
   ]
  },
  {
   "cell_type": "code",
   "execution_count": 46,
   "metadata": {},
   "outputs": [],
   "source": [
    "inputs = layers.Input(shape=train_x.shape[1:])\n",
    "h = inputs\n",
    "\n",
    "# Convolutional layers\n",
    "conv_sizes=[64, 128, 256]\n",
    "conv_args = dict(kernel_size=(3, 3, 3), activation='relu', padding='same')\n",
    "for conv_size in conv_sizes:\n",
    "    h = layers.Conv3D(conv_size, **conv_args)(h)\n",
    "    h = layers.MaxPooling3D(pool_size=(2, 2, 2))(h)\n",
    "#h = layers.Dropout(0.5)(h)\n",
    "h = layers.Flatten()(h)\n",
    "\n",
    "# Fully connected  layers\n",
    "h = layers.Dense(64, activation='relu')(h)\n",
    "#    h = layers.Dropout(0.5)(h)\n",
    "\n",
    "# Ouptut layer\n",
    "outputs = layers.Dense(1, activation='sigmoid')(h)"
   ]
  },
  {
   "cell_type": "code",
   "execution_count": 47,
   "metadata": {},
   "outputs": [],
   "source": [
    "model = models.Model(inputs, outputs)\n",
    "model.compile(optimizer=optimizers.Adam(lr=0.001), loss='binary_crossentropy', metrics=['accuracy'])"
   ]
  },
  {
   "cell_type": "code",
   "execution_count": 48,
   "metadata": {},
   "outputs": [
    {
     "name": "stdout",
     "output_type": "stream",
     "text": [
      "Epoch 1/3\n",
      "694/694 [==============================] - 28s 40ms/step - loss: 2.7628 - acc: 0.8098\n",
      "Epoch 2/3\n",
      "694/694 [==============================] - 26s 38ms/step - loss: 2.6709 - acc: 0.8343\n",
      "Epoch 3/3\n",
      "694/694 [==============================] - 26s 38ms/step - loss: 2.6709 - acc: 0.8343\n"
     ]
    },
    {
     "data": {
      "text/plain": [
       "<keras.callbacks.History at 0x2aef045008d0>"
      ]
     },
     "execution_count": 48,
     "metadata": {},
     "output_type": "execute_result"
    }
   ],
   "source": [
    "model.fit(x=train_x, y=train_y,\n",
    "                      batch_size=32,\n",
    "                      epochs=3,\n",
    "                      verbose=1,\n",
    "                      callbacks = [\n",
    "                        callbacks.ModelCheckpoint('./rpv_weights.h5')\n",
    "                      ],                      \n",
    "                )"
   ]
  },
  {
   "cell_type": "code",
   "execution_count": 49,
   "metadata": {},
   "outputs": [
    {
     "name": "stdout",
     "output_type": "stream",
     "text": [
      "_________________________________________________________________\n",
      "Layer (type)                 Output Shape              Param #   \n",
      "=================================================================\n",
      "input_1 (InputLayer)         (None, 10, 20, 60, 1)     0         \n",
      "_________________________________________________________________\n",
      "conv3d_1 (Conv3D)            (None, 10, 20, 60, 64)    1792      \n",
      "_________________________________________________________________\n",
      "max_pooling3d_1 (MaxPooling3 (None, 5, 10, 30, 64)     0         \n",
      "_________________________________________________________________\n",
      "conv3d_2 (Conv3D)            (None, 5, 10, 30, 128)    221312    \n",
      "_________________________________________________________________\n",
      "max_pooling3d_2 (MaxPooling3 (None, 2, 5, 15, 128)     0         \n",
      "_________________________________________________________________\n",
      "conv3d_3 (Conv3D)            (None, 2, 5, 15, 256)     884992    \n",
      "_________________________________________________________________\n",
      "max_pooling3d_3 (MaxPooling3 (None, 1, 2, 7, 256)      0         \n",
      "_________________________________________________________________\n",
      "flatten_1 (Flatten)          (None, 3584)              0         \n",
      "_________________________________________________________________\n",
      "dense_1 (Dense)              (None, 64)                229440    \n",
      "_________________________________________________________________\n",
      "dense_2 (Dense)              (None, 1)                 65        \n",
      "=================================================================\n",
      "Total params: 1,337,601\n",
      "Trainable params: 1,337,601\n",
      "Non-trainable params: 0\n",
      "_________________________________________________________________\n"
     ]
    }
   ],
   "source": [
    "model.summary()"
   ]
  },
  {
   "cell_type": "code",
   "execution_count": 50,
   "metadata": {},
   "outputs": [
    {
     "name": "stdout",
     "output_type": "stream",
     "text": [
      "694/694 [==============================] - 13s 19ms/step\n",
      "Validation Accuracy: 0.8054755034639101\n"
     ]
    }
   ],
   "source": [
    "score = model.evaluate(cval_x,  cval_y); print (\"Validation Accuracy: \" + str(score[1] ))"
   ]
  },
  {
   "cell_type": "code",
   "execution_count": 51,
   "metadata": {},
   "outputs": [
    {
     "name": "stdout",
     "output_type": "stream",
     "text": [
      "694/694 [==============================] - 13s 19ms/step\n",
      "Test Accuracy: 0.8342939479550299\n"
     ]
    }
   ],
   "source": [
    "score = model.evaluate(train_x,  train_y); print (\"Test Accuracy: \" + str(score[1] ))"
   ]
  },
  {
   "cell_type": "code",
   "execution_count": 52,
   "metadata": {},
   "outputs": [
    {
     "name": "stdout",
     "output_type": "stream",
     "text": [
      "[2.6708659500484853, 0.8342939479550299]\n",
      "694/694 [==============================] - 13s 19ms/step\n"
     ]
    }
   ],
   "source": [
    "print(score)\n",
    "prd=model.predict(cval_x,verbose=1)\n",
    "# print(prd)"
   ]
  },
  {
   "cell_type": "code",
   "execution_count": 53,
   "metadata": {},
   "outputs": [
    {
     "data": {
      "text/plain": [
       "(numpy.ndarray, (694, 1))"
      ]
     },
     "execution_count": 53,
     "metadata": {},
     "output_type": "execute_result"
    }
   ],
   "source": [
    "type(prd),prd.shape"
   ]
  },
  {
   "cell_type": "code",
   "execution_count": 54,
   "metadata": {},
   "outputs": [
    {
     "data": {
      "text/plain": [
       "((694, 1), (0,))"
      ]
     },
     "execution_count": 54,
     "metadata": {},
     "output_type": "execute_result"
    }
   ],
   "source": [
    "prd.shape,prd[prd>0.0].shape"
   ]
  },
  {
   "cell_type": "code",
   "execution_count": 55,
   "metadata": {},
   "outputs": [
    {
     "data": {
      "image/png": "[encoded data removed]",
      "text/plain": [
       "<Figure size 432x288 with 1 Axes>"
      ]
     },
     "metadata": {
      "needs_background": "light"
     },
     "output_type": "display_data"
    }
   ],
   "source": [
    "# Plotting cv results\n",
    "\n",
    "plt.figure()\n",
    "plt.plot(cval_y,color='r',marker='H')\n",
    "plt.plot(prd,color='b',linestyle='',marker='*')\n",
    "plt.show()"
   ]
  },
  {
   "cell_type": "markdown",
   "metadata": {},
   "source": [
    "### Test 2"
   ]
  },
  {
   "cell_type": "code",
   "execution_count": null,
   "metadata": {},
   "outputs": [],
   "source": []
  },
  {
   "cell_type": "code",
   "execution_count": null,
   "metadata": {},
   "outputs": [],
   "source": []
  },
  {
   "cell_type": "markdown",
   "metadata": {},
   "source": [
    "### Old code from Zahra"
   ]
  },
  {
   "cell_type": "code",
   "execution_count": 27,
   "metadata": {},
   "outputs": [],
   "source": [
    "# plt.figure()\n",
    "# plt.plot(history.history['loss'])\n",
    "# plt.title('model loss')\n",
    "# plt.ylabel('loss')\n",
    "# plt.xlabel('epoch')\n",
    "# plt.show()\n",
    "\n",
    "# # plt.savefig('lossresnetgpu3.png')"
   ]
  },
  {
   "cell_type": "markdown",
   "metadata": {},
   "source": [
    "#### notes:\n",
    "- shuffle data\n",
    "- weight data\n",
    "- Rock curve (curve in the plot).\n",
    "- Result on Monday!"
   ]
  },
  {
   "cell_type": "code",
   "execution_count": null,
   "metadata": {},
   "outputs": [],
   "source": []
  }
 ],
 "metadata": {
  "anaconda-cloud": {},
  "kernelspec": {
   "display_name": "v_python2",
   "language": "python",
   "name": "v_jpt_py2"
  },
  "language_info": {
   "codemirror_mode": {
    "name": "ipython",
    "version": 2
   },
   "file_extension": ".py",
   "mimetype": "text/x-python",
   "name": "python",
   "nbconvert_exporter": "python",
   "pygments_lexer": "ipython2",
   "version": "2.7.15"
  },
  "toc-autonumbering": false,
  "toc-showcode": false,
  "toc-showmarkdowntxt": false,
  "toc-showtags": true
 },
 "nbformat": 4,
 "nbformat_minor": 2
}
