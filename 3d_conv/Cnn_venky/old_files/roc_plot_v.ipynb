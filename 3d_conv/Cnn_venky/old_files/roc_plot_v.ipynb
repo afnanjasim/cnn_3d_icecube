{
 "cells": [
  {
   "cell_type": "code",
   "execution_count": 2,
   "metadata": {},
   "outputs": [
    {
     "ename": "ImportError",
     "evalue": "No module named load_data",
     "output_type": "error",
     "traceback": [
      "\u001b[0;31m\u001b[0m",
      "\u001b[0;31mImportError\u001b[0mTraceback (most recent call last)",
      "\u001b[0;32m<ipython-input-2-5476befa873f>\u001b[0m in \u001b[0;36m<module>\u001b[0;34m()\u001b[0m\n\u001b[1;32m     12\u001b[0m \u001b[0;32mimport\u001b[0m \u001b[0mnumpy\u001b[0m \u001b[0;32mas\u001b[0m \u001b[0mnp\u001b[0m\u001b[0;34m\u001b[0m\u001b[0m\n\u001b[1;32m     13\u001b[0m \u001b[0;32mimport\u001b[0m \u001b[0mh5py\u001b[0m\u001b[0;34m\u001b[0m\u001b[0m\n\u001b[0;32m---> 14\u001b[0;31m \u001b[0;32mfrom\u001b[0m \u001b[0mload_data\u001b[0m \u001b[0;32mimport\u001b[0m \u001b[0mget_data\u001b[0m\u001b[0;34m\u001b[0m\u001b[0m\n\u001b[0m\u001b[1;32m     15\u001b[0m \u001b[0;32mimport\u001b[0m \u001b[0mkeras\u001b[0m\u001b[0;34m\u001b[0m\u001b[0m\n\u001b[1;32m     16\u001b[0m \u001b[0;32mimport\u001b[0m \u001b[0mtensorflow\u001b[0m \u001b[0;32mas\u001b[0m \u001b[0mtf\u001b[0m\u001b[0;34m\u001b[0m\u001b[0m\n",
      "\u001b[0;31mImportError\u001b[0m: No module named load_data"
     ]
    }
   ],
   "source": [
    "\n",
    "import keras\n",
    "import sklearn\n",
    "from keras.models import load_model, Model\n",
    "from keras.layers import *\n",
    "# from sklearn import metrics\n",
    "import sys\n",
    "import time\n",
    "import os\n",
    "import numpy as np\n",
    "import h5py\n",
    "import keras\n",
    "import tensorflow as tf\n",
    "import matplotlib\n",
    "matplotlib.use('Agg')\n",
    "import matplotlib.pyplot as plt\n",
    "from sklearn.metrics import roc_curve, auc, roc_auc_score\n",
    "\n",
    "\n"
   ]
  },
  {
   "cell_type": "code",
   "execution_count": 3,
   "metadata": {},
   "outputs": [
    {
     "ename": "ImportError",
     "evalue": "No module named load_data",
     "output_type": "error",
     "traceback": [
      "\u001b[0;31m\u001b[0m",
      "\u001b[0;31mImportError\u001b[0mTraceback (most recent call last)",
      "\u001b[0;32m<ipython-input-3-10fbe7086b17>\u001b[0m in \u001b[0;36m<module>\u001b[0;34m()\u001b[0m\n\u001b[0;32m----> 1\u001b[0;31m \u001b[0;32mfrom\u001b[0m \u001b[0mload_data\u001b[0m \u001b[0;32mimport\u001b[0m \u001b[0mget_data\u001b[0m\u001b[0;34m\u001b[0m\u001b[0m\n\u001b[0m\u001b[1;32m      2\u001b[0m \u001b[0;34m\u001b[0m\u001b[0m\n",
      "\u001b[0;31mImportError\u001b[0m: No module named load_data"
     ]
    }
   ],
   "source": [
    "from load_data import get_data\n",
    "\n"
   ]
  },
  {
   "cell_type": "code",
   "execution_count": 4,
   "metadata": {},
   "outputs": [
    {
     "name": "stdout",
     "output_type": "stream",
     "text": [
      "1_my_code.ipynb  ROC_plot.py      nbfinder.pyc       rpv_weights.h5\n",
      "2_my_code.ipynb  load_data.ipynb  resnet_util.ipynb  util.ipynb\n",
      "3_my_code.ipynb  nbfinder.py      roc_plot_v.ipynb\n"
     ]
    }
   ],
   "source": []
  },
  {
   "cell_type": "code",
   "execution_count": null,
   "metadata": {},
   "outputs": [],
   "source": [
    "\n",
    "with h5py.File('inxreserv0.h5', 'r') as hf:\n",
    "    inx = hf['inx0hdf5'][:]\n",
    "with h5py.File('inyreserv0.h5', 'r') as hf:\n",
    "    iny = hf['iny0hdf5'][:]\n",
    "\n",
    "with h5py.File('weight0.h5', 'r') as hf:\n",
    "    ls2_array = hf['weighthdf5'][:]\n",
    "\n",
    "print (inx.shape)\n",
    "print (iny.shape)\n",
    "\n",
    "inx=np.expand_dims(inx,axis=1)\n",
    "\n",
    "inx = np.transpose(inx,axes=[0,3,4,2,1])\n",
    "\n",
    "\n",
    "inputs = Input(shape=inx.shape[1:])\n",
    "\n",
    "model = load_model('resnetgpu3dall.h5')\n",
    "\n",
    "y_pred = model.predict(inx)\n",
    "\n",
    "print (iny.shape)\n",
    "print (y_pred[y_pred[:,1] == iny].shape)\n",
    "print (roc_auc_score(iny, y_pred[:,1]), sample_weight = ls2_array)\n",
    "\n",
    "false_positive_rate, true_positive_rate, thresholds = roc_curve(iny, y_pred[:,1], sample_weight = ls2_array)\n",
    "\n",
    "# np.savetxt('truepredweight0.csv', np.transpose([iny[i],y_pred[:,1][i],ls2_array[i]]))\n",
    "\n"
   ]
  },
  {
   "cell_type": "code",
   "execution_count": null,
   "metadata": {},
   "outputs": [],
   "source": [
    "roc_auc = auc(false_positive_rate, true_positive_rate, reorder=True)\n",
    "print(auc(false_positive_rate, true_positive_rate))\n",
    "\n",
    "plt.title('Receiver Operating Characteristic')\n",
    "plt.plot(false_positive_rate, true_positive_rate, 'b', label='AUC = %0.2f'% roc_auc)\n",
    "plt.legend(loc='lower right')\n",
    "plt.xlim([0.0,1.0])\n",
    "plt.ylim([0.0,1.0])\n",
    "plt.ylabel('True Positive Rate')\n",
    "plt.xlabel('False Positive Rate')\n",
    "plt.grid(True)"
   ]
  }
 ],
 "metadata": {
  "kernelspec": {
   "display_name": "v_python2",
   "language": "python",
   "name": "v_jpt_py2"
  },
  "language_info": {
   "codemirror_mode": {
    "name": "ipython",
    "version": 2
   },
   "file_extension": ".py",
   "mimetype": "text/x-python",
   "name": "python",
   "nbconvert_exporter": "python",
   "pygments_lexer": "ipython2",
   "version": "2.7.15"
  }
 },
 "nbformat": 4,
 "nbformat_minor": 2
}
