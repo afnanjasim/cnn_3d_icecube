{
 "cells": [
  {
   "cell_type": "markdown",
   "metadata": {},
   "source": [
    "# Code for Ice-Cube 3D CNN\n",
    "\n",
    "- Oct 29, 2018: This code just makes plots for previously trained CNNs"
   ]
  },
  {
   "cell_type": "code",
   "execution_count": 1,
   "metadata": {
    "scrolled": false
   },
   "outputs": [],
   "source": [
    "import sys\n",
    "import os\n",
    "\n",
    "import matplotlib.pyplot as plt\n",
    "import numpy as np\n",
    "import glob\n",
    "import pickle\n",
    "import time"
   ]
  },
  {
   "cell_type": "code",
   "execution_count": 2,
   "metadata": {},
   "outputs": [],
   "source": [
    "%matplotlib widget\n",
    "# %matplotlib inline"
   ]
  },
  {
   "cell_type": "markdown",
   "metadata": {},
   "source": [
    "Useful blog for keras conv3D: http://learnandshare645.blogspot.com/2016/06/3d-cnn-in-keras-action-recognition.html"
   ]
  },
  {
   "cell_type": "code",
   "execution_count": 3,
   "metadata": {},
   "outputs": [
    {
     "name": "stderr",
     "output_type": "stream",
     "text": [
      "Using TensorFlow backend.\n"
     ]
    }
   ],
   "source": [
    "# keras modules\n",
    "import keras\n",
    "from keras import layers, models, optimizers, callbacks  # or tensorflow.keras as keras\n",
    "import tensorflow as tf\n",
    "from sklearn.utils import shuffle\n",
    "from sklearn.metrics import roc_curve, auc, roc_auc_score\n",
    "from keras.models import load_model\n",
    "\n"
   ]
  },
  {
   "cell_type": "markdown",
   "metadata": {},
   "source": [
    "## Modules"
   ]
  },
  {
   "cell_type": "code",
   "execution_count": 4,
   "metadata": {},
   "outputs": [],
   "source": [
    "def f_get_ydata_and_wts(data_dir,f1,f2):\n",
    "    ''' Load extracted data from files. Just extracting ydata and weights\n",
    "    returns : inpy,weights as arrays\n",
    "    '''\n",
    "\n",
    "    inpy=np.load(data_dir+f1+'.npy')\n",
    "    wts=np.load(data_dir+f2+'.npy')\n",
    "    \n",
    "    return(inpy,wts)\n",
    "    \n",
    "def f_shuffle_data(inpy,wts):\n",
    "    ## Shuffle data\n",
    "    \n",
    "    # Setting seed\n",
    "    seed=243\n",
    "    np.random.seed(seed=seed)\n",
    "\n",
    "    ## Get shuffled array of indices\n",
    "    shuffle_arr=np.arange(inpy.shape[0])\n",
    "    np.random.shuffle(shuffle_arr)\n",
    "    inpy=inpy[shuffle_arr]\n",
    "    wts=wts[shuffle_arr]\n",
    "\n",
    "    return inpy,wts\n",
    "\n",
    "    \n",
    "def f_plot_learning(history):\n",
    "    \n",
    "    fig=plt.figure()\n",
    "    # Plot training & validation accuracy values\n",
    "    fig.add_subplot(2,1,1)\n",
    "    plt.plot(history['acc'],label='Train')\n",
    "    plt.plot(history['val_acc'],label='Validation')\n",
    "#     plt.title('Model accuracy')\n",
    "    plt.ylabel('Accuracy')\n",
    "\n",
    "    # Plot loss values\n",
    "    fig.add_subplot(2,1,2)\n",
    "    plt.plot(history['loss'],label='Train')\n",
    "    plt.plot(history['val_loss'],label='Validation')\n",
    "#     plt.title('Model loss')\n",
    "    plt.ylabel('Loss')\n",
    "    plt.xlabel('Epoch')\n",
    "    plt.legend(loc='best')\n",
    "\n",
    "\n",
    "def f_plot_roc_curve(fpr,tpr):\n",
    "    '''\n",
    "    Module for roc plot and printing AUC\n",
    "    '''\n",
    "    plt.figure()\n",
    "    # plt.plot(fpr,tpr)\n",
    "    plt.scatter(fpr,tpr)\n",
    "    plt.semilogx(fpr, tpr)\n",
    "  # Zooms\n",
    "    plt.xlim([10**-7,1.0])\n",
    "    plt.ylim([0,1.0])\n",
    "#     plt.xscale('log')\n",
    "#     plt.xlim(1e-10,1e-5)\n",
    "    plt.show()\n",
    "\n",
    "    # AUC \n",
    "    auc_val = auc(fpr, tpr)\n",
    "    print(\"AUC: \",auc_val)\n",
    "\n",
    "\n",
    "def f_plot_fit(inpy,wts,model_dict):\n",
    "    '''\n",
    "    Plot fit results.\n",
    "    '''\n",
    "    \n",
    "#     model_save_dir='/global/project/projectdirs/dasrepo/vpa/ice_cube/data_for_cnn/saved_models/'\n",
    "    model_save_dir=model_loc\n",
    "    model_name=model_dict['name'] # string for the model\n",
    "    fname_model,fname_history='model_{0}.h5'.format(model_name),'history_{0}.pickle'.format(model_name)\n",
    "    \n",
    "        \n",
    "    ########################\n",
    "    ### Read model and history\n",
    "    \n",
    "    ### Check if files exist\n",
    "    assert os.path.exists(model_save_dir+fname_model),\"Model not saved\"\n",
    "    assert os.path.exists(model_save_dir+fname_history),\"History not saved\"\n",
    "    \n",
    "    model=load_model(model_save_dir+fname_model)\n",
    "    with open(model_save_dir+fname_history,'rb') as f:\n",
    "        history= pickle.load(f)\n",
    "    \n",
    "    ########################\n",
    "    model.summary()\n",
    "    # Plot tested model\n",
    "    f_plot_learning(history)\n",
    "    \n",
    "    ########################\n",
    "    # Get test predictions\n",
    "    \n",
    "    test_file_name=model_save_dir+'y-predict_model-'+str(model_name)+'.pred'\n",
    "    test_y_file_name=model_save_dir+'y-test_model-'+str(model_name)+'.test'\n",
    "    test_weights_file_name=model_save_dir+'wts-test_model-'+str(model_name)+'.test'    \n",
    "    print(\"Using test prediction from previous test\",test_file_name)\n",
    "\n",
    "    assert os.path.exists(test_file_name),\"y-predictions not saved\"\n",
    "    y_pred=np.loadtxt(test_file_name)\n",
    "    ydata=np.loadtxt(test_y_file_name)\n",
    "    wts=np.loadtxt(test_weights_file_name)\n",
    "    assert(test_y.shape==y_pred.shape),\"Data %s and prediction arrays %s are not of the same size\"%(test_y.shape,y_pred.shape)\n",
    "    \n",
    "    fpr,tpr,threshold=roc_curve(ydata,y_pred,sample_weight=wts)\n",
    "    print(fpr.shape,tpr.shape,threshold.shape)\n",
    "    f_plot_roc_curve(fpr,tpr)\n",
    "    \n",
    "    model_dict['model'],model_dict['history']=model,history\n",
    "    \n",
    "    return model_dict\n",
    "\n"
   ]
  },
  {
   "cell_type": "code",
   "execution_count": 5,
   "metadata": {},
   "outputs": [],
   "source": [
    "if __name__=='__main__':\n",
    "    ###Extract data : Only extract y-data and weights for tests.\n",
    "    data_dir='/global/project/projectdirs/dasrepo/vpa/ice_cube/data_for_cnn/extracted_data_v/data/temp_regular/'\n",
    "#     f1,f2='processed_input_regular_y','processed_input_regular_wts'\n",
    "#     inpy,wts=f_get_ydata_and_wts(data_dir,f1,f2)\n",
    "\n",
    "    f1,f2='processed_input_reserved_y','processed_input_reserved_wts'\n",
    "    inpy,wts=f_get_ydata_and_wts(data_dir,f1,f2)\n",
    "    test_y,test_wts=inpy[:],wts[:]   \n",
    "    \n",
    "    \n",
    "### Extract reserved data\n",
    "    f1,f2='shuffled_input_reserved_y','shuffled_input_reserved_wts'\n",
    "    inpy,wts=f_get_ydata_and_wts(data_dir,f1,f2)\n",
    "\n",
    "    # Using only part of test data\n",
    "    res_size=inpy.shape[0]\n",
    "    split_size=int(res_size/2)\n",
    "    \n",
    "    test_y,test_wts=inpy[:split_size],wts[:split_size]\n"
   ]
  },
  {
   "cell_type": "code",
   "execution_count": 6,
   "metadata": {},
   "outputs": [
    {
     "name": "stdout",
     "output_type": "stream",
     "text": [
      "(752604,) (752604,) (376302,) (376302,)\n"
     ]
    }
   ],
   "source": [
    "print(inpy.shape,wts.shape,test_y.shape,test_wts.shape)"
   ]
  },
  {
   "cell_type": "code",
   "execution_count": 7,
   "metadata": {},
   "outputs": [
    {
     "name": "stdout",
     "output_type": "stream",
     "text": [
      "6 {'name': '6', 'description': None, 'model': None, 'history': None}\n",
      "_________________________________________________________________\n",
      "Layer (type)                 Output Shape              Param #   \n",
      "=================================================================\n",
      "input_1 (InputLayer)         (None, 10, 20, 60, 1)     0         \n",
      "_________________________________________________________________\n",
      "conv3d_1 (Conv3D)            (None, 10, 20, 60, 20)    180       \n",
      "_________________________________________________________________\n",
      "max_pooling3d_1 (MaxPooling3 (None, 10, 20, 30, 20)    0         \n",
      "_________________________________________________________________\n",
      "dropout_1 (Dropout)          (None, 10, 20, 30, 20)    0         \n",
      "_________________________________________________________________\n",
      "conv3d_2 (Conv3D)            (None, 10, 20, 30, 20)    3220      \n",
      "_________________________________________________________________\n",
      "max_pooling3d_2 (MaxPooling3 (None, 10, 20, 15, 20)    0         \n",
      "_________________________________________________________________\n",
      "dropout_2 (Dropout)          (None, 10, 20, 15, 20)    0         \n",
      "_________________________________________________________________\n",
      "conv3d_3 (Conv3D)            (None, 10, 20, 15, 20)    3220      \n",
      "_________________________________________________________________\n",
      "max_pooling3d_3 (MaxPooling3 (None, 10, 20, 7, 20)     0         \n",
      "_________________________________________________________________\n",
      "dropout_3 (Dropout)          (None, 10, 20, 7, 20)     0         \n",
      "_________________________________________________________________\n",
      "conv3d_4 (Conv3D)            (None, 10, 20, 7, 20)     3220      \n",
      "_________________________________________________________________\n",
      "max_pooling3d_4 (MaxPooling3 (None, 10, 20, 3, 20)     0         \n",
      "_________________________________________________________________\n",
      "dropout_4 (Dropout)          (None, 10, 20, 3, 20)     0         \n",
      "_________________________________________________________________\n",
      "flatten_1 (Flatten)          (None, 12000)             0         \n",
      "_________________________________________________________________\n",
      "dense_1 (Dense)              (None, 120)               1440120   \n",
      "_________________________________________________________________\n",
      "dropout_5 (Dropout)          (None, 120)               0         \n",
      "_________________________________________________________________\n",
      "dense_2 (Dense)              (None, 1)                 121       \n",
      "=================================================================\n",
      "Total params: 1,450,081\n",
      "Trainable params: 1,450,081\n",
      "Non-trainable params: 0\n",
      "_________________________________________________________________\n"
     ]
    },
    {
     "data": {
      "application/vnd.jupyter.widget-view+json": {
       "model_id": "53abce04789d4afeb6e6f7914606deb6",
       "version_major": 2,
       "version_minor": 0
      },
      "text/plain": [
       "FigureCanvasNbAgg()"
      ]
     },
     "metadata": {},
     "output_type": "display_data"
    },
    {
     "name": "stdout",
     "output_type": "stream",
     "text": [
      "Using test prediction from previous test /global/project/projectdirs/dasrepo/vpa/ice_cube/data_for_cnn/Dec13_models6-11_regular_data/y-predict_model-6.pred\n",
      "(363078,) (363078,) (363078,)\n"
     ]
    },
    {
     "data": {
      "application/vnd.jupyter.widget-view+json": {
       "model_id": "e3eb9af450ea499eb3dea8893054ba7e",
       "version_major": 2,
       "version_minor": 0
      },
      "text/plain": [
       "FigureCanvasNbAgg()"
      ]
     },
     "metadata": {},
     "output_type": "display_data"
    },
    {
     "name": "stdout",
     "output_type": "stream",
     "text": [
      "AUC:  0.7906505611060716\n",
      "7 {'name': '7', 'description': None, 'model': None, 'history': None}\n",
      "_________________________________________________________________\n",
      "Layer (type)                 Output Shape              Param #   \n",
      "=================================================================\n",
      "input_2 (InputLayer)         (None, 10, 20, 60, 1)     0         \n",
      "_________________________________________________________________\n",
      "conv3d_5 (Conv3D)            (None, 10, 20, 60, 20)    180       \n",
      "_________________________________________________________________\n",
      "max_pooling3d_5 (MaxPooling3 (None, 10, 10, 30, 20)    0         \n",
      "_________________________________________________________________\n",
      "dropout_6 (Dropout)          (None, 10, 10, 30, 20)    0         \n",
      "_________________________________________________________________\n",
      "conv3d_6 (Conv3D)            (None, 10, 10, 30, 20)    3220      \n",
      "_________________________________________________________________\n",
      "max_pooling3d_6 (MaxPooling3 (None, 10, 5, 15, 20)     0         \n",
      "_________________________________________________________________\n",
      "dropout_7 (Dropout)          (None, 10, 5, 15, 20)     0         \n",
      "_________________________________________________________________\n",
      "conv3d_7 (Conv3D)            (None, 10, 5, 15, 20)     3220      \n",
      "_________________________________________________________________\n",
      "max_pooling3d_7 (MaxPooling3 (None, 10, 2, 7, 20)      0         \n",
      "_________________________________________________________________\n",
      "dropout_8 (Dropout)          (None, 10, 2, 7, 20)      0         \n",
      "_________________________________________________________________\n",
      "conv3d_8 (Conv3D)            (None, 10, 2, 7, 20)      3220      \n",
      "_________________________________________________________________\n",
      "max_pooling3d_8 (MaxPooling3 (None, 10, 1, 3, 20)      0         \n",
      "_________________________________________________________________\n",
      "dropout_9 (Dropout)          (None, 10, 1, 3, 20)      0         \n",
      "_________________________________________________________________\n",
      "flatten_2 (Flatten)          (None, 600)               0         \n",
      "_________________________________________________________________\n",
      "dense_3 (Dense)              (None, 120)               72120     \n",
      "_________________________________________________________________\n",
      "dropout_10 (Dropout)         (None, 120)               0         \n",
      "_________________________________________________________________\n",
      "dense_4 (Dense)              (None, 1)                 121       \n",
      "=================================================================\n",
      "Total params: 82,081\n",
      "Trainable params: 82,081\n",
      "Non-trainable params: 0\n",
      "_________________________________________________________________\n"
     ]
    },
    {
     "data": {
      "application/vnd.jupyter.widget-view+json": {
       "model_id": "f18e44ca41bf4dbaa8341f05eca8592e",
       "version_major": 2,
       "version_minor": 0
      },
      "text/plain": [
       "FigureCanvasNbAgg()"
      ]
     },
     "metadata": {},
     "output_type": "display_data"
    },
    {
     "name": "stdout",
     "output_type": "stream",
     "text": [
      "Using test prediction from previous test /global/project/projectdirs/dasrepo/vpa/ice_cube/data_for_cnn/Dec13_models6-11_regular_data/y-predict_model-7.pred\n",
      "(369036,) (369036,) (369036,)\n"
     ]
    },
    {
     "data": {
      "application/vnd.jupyter.widget-view+json": {
       "model_id": "5f313355470d4c46a7da9841809239a2",
       "version_major": 2,
       "version_minor": 0
      },
      "text/plain": [
       "FigureCanvasNbAgg()"
      ]
     },
     "metadata": {},
     "output_type": "display_data"
    },
    {
     "name": "stdout",
     "output_type": "stream",
     "text": [
      "AUC:  0.9035556852388944\n",
      "8 {'name': '8', 'description': None, 'model': None, 'history': None}\n",
      "_________________________________________________________________\n",
      "Layer (type)                 Output Shape              Param #   \n",
      "=================================================================\n",
      "input_3 (InputLayer)         (None, 10, 20, 60, 1)     0         \n",
      "_________________________________________________________________\n",
      "conv3d_9 (Conv3D)            (None, 10, 20, 60, 20)    560       \n",
      "_________________________________________________________________\n",
      "max_pooling3d_9 (MaxPooling3 (None, 10, 10, 20, 20)    0         \n",
      "_________________________________________________________________\n",
      "dropout_11 (Dropout)         (None, 10, 10, 20, 20)    0         \n",
      "_________________________________________________________________\n",
      "conv3d_10 (Conv3D)           (None, 10, 10, 20, 20)    10820     \n",
      "_________________________________________________________________\n",
      "max_pooling3d_10 (MaxPooling (None, 10, 5, 6, 20)      0         \n",
      "_________________________________________________________________\n",
      "dropout_12 (Dropout)         (None, 10, 5, 6, 20)      0         \n",
      "_________________________________________________________________\n",
      "conv3d_11 (Conv3D)           (None, 10, 5, 6, 20)      10820     \n",
      "_________________________________________________________________\n",
      "max_pooling3d_11 (MaxPooling (None, 10, 2, 2, 20)      0         \n",
      "_________________________________________________________________\n",
      "dropout_13 (Dropout)         (None, 10, 2, 2, 20)      0         \n",
      "_________________________________________________________________\n",
      "flatten_3 (Flatten)          (None, 800)               0         \n",
      "_________________________________________________________________\n",
      "dense_5 (Dense)              (None, 120)               96120     \n",
      "_________________________________________________________________\n",
      "dropout_14 (Dropout)         (None, 120)               0         \n",
      "_________________________________________________________________\n",
      "dense_6 (Dense)              (None, 1)                 121       \n",
      "=================================================================\n",
      "Total params: 118,441\n",
      "Trainable params: 118,441\n",
      "Non-trainable params: 0\n",
      "_________________________________________________________________\n"
     ]
    },
    {
     "data": {
      "application/vnd.jupyter.widget-view+json": {
       "model_id": "8900801f716943cdac328548366972eb",
       "version_major": 2,
       "version_minor": 0
      },
      "text/plain": [
       "FigureCanvasNbAgg()"
      ]
     },
     "metadata": {},
     "output_type": "display_data"
    },
    {
     "name": "stdout",
     "output_type": "stream",
     "text": [
      "Using test prediction from previous test /global/project/projectdirs/dasrepo/vpa/ice_cube/data_for_cnn/Dec13_models6-11_regular_data/y-predict_model-8.pred\n",
      "(366554,) (366554,) (366554,)\n"
     ]
    },
    {
     "data": {
      "application/vnd.jupyter.widget-view+json": {
       "model_id": "08b855d75ad04b5588ae372d9a0d48e2",
       "version_major": 2,
       "version_minor": 0
      },
      "text/plain": [
       "FigureCanvasNbAgg()"
      ]
     },
     "metadata": {},
     "output_type": "display_data"
    },
    {
     "name": "stdout",
     "output_type": "stream",
     "text": [
      "AUC:  0.930641590963932\n",
      "9 {'name': '9', 'description': None, 'model': None, 'history': None}\n",
      "_________________________________________________________________\n",
      "Layer (type)                 Output Shape              Param #   \n",
      "=================================================================\n",
      "input_4 (InputLayer)         (None, 10, 20, 60, 1)     0         \n",
      "_________________________________________________________________\n",
      "conv3d_12 (Conv3D)           (None, 10, 20, 60, 20)    180       \n",
      "_________________________________________________________________\n",
      "max_pooling3d_12 (MaxPooling (None, 10, 10, 20, 20)    0         \n",
      "_________________________________________________________________\n",
      "dropout_15 (Dropout)         (None, 10, 10, 20, 20)    0         \n",
      "_________________________________________________________________\n",
      "conv3d_13 (Conv3D)           (None, 10, 10, 20, 20)    3220      \n",
      "_________________________________________________________________\n",
      "max_pooling3d_13 (MaxPooling (None, 10, 5, 6, 20)      0         \n",
      "_________________________________________________________________\n",
      "dropout_16 (Dropout)         (None, 10, 5, 6, 20)      0         \n",
      "_________________________________________________________________\n",
      "conv3d_14 (Conv3D)           (None, 10, 5, 6, 20)      3220      \n",
      "_________________________________________________________________\n",
      "max_pooling3d_14 (MaxPooling (None, 10, 2, 2, 20)      0         \n",
      "_________________________________________________________________\n",
      "dropout_17 (Dropout)         (None, 10, 2, 2, 20)      0         \n",
      "_________________________________________________________________\n",
      "flatten_4 (Flatten)          (None, 800)               0         \n",
      "_________________________________________________________________\n",
      "dense_7 (Dense)              (None, 120)               96120     \n",
      "_________________________________________________________________\n",
      "dropout_18 (Dropout)         (None, 120)               0         \n",
      "_________________________________________________________________\n",
      "dense_8 (Dense)              (None, 1)                 121       \n",
      "=================================================================\n",
      "Total params: 102,861\n",
      "Trainable params: 102,861\n",
      "Non-trainable params: 0\n",
      "_________________________________________________________________\n"
     ]
    },
    {
     "data": {
      "application/vnd.jupyter.widget-view+json": {
       "model_id": "8bb0aa8d351a48d291533f328423fa6a",
       "version_major": 2,
       "version_minor": 0
      },
      "text/plain": [
       "FigureCanvasNbAgg()"
      ]
     },
     "metadata": {},
     "output_type": "display_data"
    },
    {
     "name": "stdout",
     "output_type": "stream",
     "text": [
      "Using test prediction from previous test /global/project/projectdirs/dasrepo/vpa/ice_cube/data_for_cnn/Dec13_models6-11_regular_data/y-predict_model-9.pred\n",
      "(365650,) (365650,) (365650,)\n"
     ]
    },
    {
     "data": {
      "application/vnd.jupyter.widget-view+json": {
       "model_id": "bfa4a57cc798414fa94d04d5d327343e",
       "version_major": 2,
       "version_minor": 0
      },
      "text/plain": [
       "FigureCanvasNbAgg()"
      ]
     },
     "metadata": {},
     "output_type": "display_data"
    },
    {
     "name": "stdout",
     "output_type": "stream",
     "text": [
      "AUC:  0.9036559673207771\n"
     ]
    }
   ],
   "source": [
    "model_loc='/global/project/projectdirs/dasrepo/vpa/ice_cube/data_for_cnn/Dec13_models6-11_regular_data/'\n",
    "dict_list=[]\n",
    "for i in range(6,10):\n",
    "# for i in range(1,2):\n",
    "    model_dict={'name':str(i),'description':None,'model':None,'history':None}\n",
    "    print(i,model_dict)\n",
    "    model_dict=f_plot_fit(test_y,test_wts,model_dict)\n",
    "    dict_list.append(model_dict)"
   ]
  },
  {
   "cell_type": "markdown",
   "metadata": {},
   "source": [
    "### Comparing models"
   ]
  },
  {
   "cell_type": "code",
   "execution_count": 8,
   "metadata": {},
   "outputs": [],
   "source": [
    "# dict_list[0]"
   ]
  },
  {
   "cell_type": "code",
   "execution_count": 9,
   "metadata": {},
   "outputs": [
    {
     "name": "stdout",
     "output_type": "stream",
     "text": [
      "Model 6\n",
      "val_loss [0.49376632286670674, 0.4870737029058589, 0.4719441630058068, 0.4397232806418161, 0.44130770969160427, 0.4299931087399277, 0.4222112431976876, 0.40742081180988116, 0.46477478119234356, 0.38862092032431916, 0.3999721862166333, 0.5122199993686609, 0.36662361592095516, 0.3975147041046435, 0.4105892988771146, 0.38475389234032387, 0.34909778401839014, 0.35275192479185474, 0.48929287352852285, 0.3357288394002021]\n",
      "val_acc [0.8050866331094559, 0.8054875061217939, 0.8077813905812835, 0.8177586744439177, 0.831789229875747, 0.8389604026520153, 0.8352634626546526, 0.8367333303665585, 0.8156652264959069, 0.8442385639864418, 0.8368446839784419, 0.7494543672887622, 0.8597389871248673, 0.8416551601238428, 0.8289608480691283, 0.8489822279604649, 0.864282214598031, 0.8697162709928112, 0.7710569685091978, 0.8765979243712799]\n",
      "loss [1.13698193268623, 0.4794418393472399, 0.4604291402254301, 0.43678875018989505, 0.4274969156683577, 0.4166888326182873, 0.40437675625521274, 0.3947437009895718, 0.3924026709372109, 0.38264318884038856, 0.37616970535196265, 0.3693050501989003, 0.3645056435995013, 0.36271402343756526, 0.35710565342228817, 0.3540397139829152, 0.3498254391291975, 0.3479148068482333, 0.35101626294607297, 0.3462550059411395]\n",
      "acc [0.8058553815102453, 0.8107037865902686, 0.8178667017734724, 0.8288578824922466, 0.8349677504199546, 0.8377978149347907, 0.8443354832995827, 0.8489206265709628, 0.8479992102119431, 0.8514106445605201, 0.8556338028116709, 0.8576302049002146, 0.8605589925900228, 0.8596485454758631, 0.8635206879882583, 0.8644969505480407, 0.8658132596226408, 0.8658790750761092, 0.8654293361388441, 0.868281339132939]\n",
      "Model 7\n",
      "val_loss [0.48888088212603265, 0.47926052563079274, 0.39678328129837526, 0.3903817357578807, 0.3517726916182806, 0.3591249135900014, 0.32181667527039115, 0.337140136397255, 0.34809671589475577, 0.34372157343357507, 0.34692448205838705, 0.32146984879625207, 0.3287729425030155, 0.3563020160073857, 0.3406811994491539, 0.34559083979175775, 0.30228110785091605, 0.3447100033913151, 0.34437960345656626, 0.33444870077330763]\n",
      "val_acc [0.8050866331094559, 0.8075586833522068, 0.8194067079390849, 0.8236158745686337, 0.8476682553115674, 0.8368001425326266, 0.862545098213888, 0.8561979421825484, 0.844305376149855, 0.8460647632622155, 0.8492717473609194, 0.8600730479711372, 0.8657966237584072, 0.8373346398797558, 0.8477127967573828, 0.8461093047080308, 0.8727450893082538, 0.8464879069974611, 0.8465547191635293, 0.8527459801345152]\n",
      "loss [0.7769986142080615, 0.4597509441291102, 0.4104278155299184, 0.38087191042614077, 0.36696283300435223, 0.3565427935270945, 0.34971571238720056, 0.3500132255331692, 0.34635026523229884, 0.3458464818785427, 0.34424251739821143, 0.3409388401897379, 0.3430701513962216, 0.34111798339324, 0.3421764504425167, 0.3395987972711953, 0.3380221793141446, 0.33934653455354014, 0.33997958433418335, 0.3384987638011947]\n",
      "acc [0.8021039006703881, 0.8173292089060952, 0.8351322890588564, 0.8462331622131544, 0.854756263439937, 0.8584309595971574, 0.8622263174033783, 0.8624676407379933, 0.8630819183010837, 0.8640910885797546, 0.862961256631161, 0.8669979377798427, 0.8651770435645997, 0.8658132596278713, 0.8658351981097455, 0.8672392611092271, 0.86755736913694, 0.8660107059778156, 0.8658790750813398, 0.8664494756780665]\n",
      "Model 8\n",
      "val_loss [0.44574997843195935, 0.35897143722419445, 0.3408357935248385, 0.3552950583310399, 0.3079285363403175, 0.3108860595120836, 0.35067348444304125, 0.3318314532913252, 0.3247709672377532, 0.3280599283779667, 0.32443758058290983, 0.30161936089783425, 0.30942173682418384, 0.32251167471124986, 0.3294519740676812, 0.31080170469365614, 0.31906560883851875, 0.33096962257231444, 0.3236013341773555, 0.29081393166706826]\n",
      "val_acc [0.8078482027500065, 0.837045120481956, 0.8400071266286756, 0.8283595385479665, 0.8610084183332591, 0.8640372366487016, 0.8426350719317801, 0.8492494766353568, 0.8609861476130063, 0.8690481493002715, 0.8615651864032958, 0.8729900672602381, 0.8707852656870694, 0.8630127833922941, 0.8707629949641618, 0.8723887577364213, 0.8680905082152419, 0.8531913945900136, 0.8615206449574805, 0.8751503273769718]\n",
      "loss [1.4362055443349964, 0.41734752729669133, 0.38186202141417525, 0.358742177026132, 0.35048620501081773, 0.3409349392872508, 0.3381332357587206, 0.3327557423807196, 0.3339538003527356, 0.33196437001740925, 0.32811171720520743, 0.32356505451308676, 0.3267639396294313, 0.32286272657105347, 0.31900895366960147, 0.3237784454337251, 0.3194550646125007, 0.3201196800320288, 0.31423288380418163, 0.3124825568279394]\n",
      "acc [0.8043416260726245, 0.8272234654082405, 0.8441051292098278, 0.8539555087586859, 0.8580031591443817, 0.8629722258707905, 0.8654951516001583, 0.8689504628941769, 0.8682374621587295, 0.8696195866841827, 0.8716269580071254, 0.8732394366275641, 0.8729871440454738, 0.8745557456838573, 0.876080470366338, 0.8739743758422704, 0.8757184853644155, 0.876563117017261, 0.8783949804695182, 0.8784169189670841]\n",
      "Model 9\n",
      "val_loss [0.5176187155493744, 0.49279527749459223, 0.4829778086196117, 0.4658930667096812, 0.40664825791994247, 0.3892365246898352, 0.4114478887691195, 0.38073791582957867, 0.392951862711741, 0.3854939830958416, 0.3558235418904858, 0.3737549720458382, 0.35124367877590773, 0.3534282240645773, 0.3307147933857398, 0.35070770749413493, 0.38353260837070213, 0.3456999193156017, 0.3263135435936855, 0.3662972582894005]\n",
      "val_acc [0.8050866331094559, 0.8051311745552713, 0.8056211304592399, 0.8095853191368044, 0.8210770121571598, 0.8337713242145293, 0.8252416373408933, 0.8357534185533114, 0.8296512404766111, 0.8278250411981825, 0.843637254462625, 0.8308761302365327, 0.8501403055516634, 0.850496637118186, 0.8616319985720189, 0.851899692661369, 0.8296735111995187, 0.8561088592909178, 0.8597612578477749, 0.8359538550594804]\n",
      "loss [2.751803800087978, 0.5010935414392393, 0.47587298528082433, 0.4507667377566942, 0.42363537280416536, 0.4010659557424816, 0.38783408489125193, 0.3810513907583625, 0.37803041274480315, 0.3757317704933376, 0.3746695166975057, 0.37036473660788954, 0.36906107111266107, 0.366008638184913, 0.36847916502149375, 0.3634325151034767, 0.3636667961902404, 0.36434380954456674, 0.35889701886073705, 0.361328947260864]\n",
      "acc [0.8043855030546799, 0.8085099381282432, 0.8123272344372605, 0.8186564872020178, 0.8278925891877853, 0.8369751217559737, 0.8425694353060245, 0.8462002544864201, 0.8481418103663554, 0.8484489491439777, 0.8485147646026767, 0.8516080909209255, 0.8518274757527441, 0.8531108770953794, 0.8528805230082397, 0.8547233557079722, 0.8546136632855248, 0.8540213242016932, 0.8564235882611384, 0.8557983414479573]\n"
     ]
    }
   ],
   "source": [
    "## Comparing different models:\n",
    "\n",
    "for md in dict_list:\n",
    "#     print(md)\n",
    "    hist=md['history']\n",
    "#     print(hist)\n",
    "#     print(md)\n",
    "    print('Model %s'%(md['name']))\n",
    "    for key in hist.keys():\n",
    "        print(key,hist[key])\n",
    "#     print(md[''])\n",
    "        "
   ]
  },
  {
   "cell_type": "markdown",
   "metadata": {},
   "source": [
    "## -----------------------------------------------"
   ]
  },
  {
   "cell_type": "markdown",
   "metadata": {},
   "source": [
    "#### Notes:\n",
    "- model.fit \n",
    "    - batch_size= sample of data used for training (subset of full training set). \n",
    "    - epoch= number of runs over training data\n",
    "    - callbacks=\n",
    "    \n",
    "- for layers.Input need size (x,y,z,1) in channels_last mode."
   ]
  },
  {
   "cell_type": "markdown",
   "metadata": {},
   "source": [
    "#### Roc curve notes:\n",
    "- We know y-value depending on signal or background (0 or 1).\n",
    "- The 3D-Cnn gives us a prediction for y, as a float between 0 or 1.\n",
    "- We must use a cut (threshold) to determine what constitues 0 / 1. Eg. 0.5\n",
    "- This gives us a false +ve rate a, true +ve .(fpr and tpr)\n",
    "- Roc curve plots this when varying the threshold\n",
    "- AUC gives area under this curve."
   ]
  },
  {
   "cell_type": "markdown",
   "metadata": {},
   "source": [
    "## View created figures"
   ]
  },
  {
   "cell_type": "code",
   "execution_count": null,
   "metadata": {},
   "outputs": [],
   "source": [
    "# from IPython.display import IFrame\n",
    "\n",
    "\n",
    "# model_loc='/global/project/projectdirs/dasrepo/vpa/ice_cube/data_for_cnn/Nov5_saved_models/'\n",
    "# fle='learning_model1.'\n",
    "# fname=model_loc+\"%s.pdf\"%(fle)\n",
    "# fname='/global/project/projectdirs/dasrepo/vpa/ice_cube/data_for_cnn/Nov5_saved_models/learning_model1.eps'\n",
    "# print(fname)\n",
    "# print(os.path.exists(fname))\n",
    "# IFrame(fname, width=600, height=300)"
   ]
  },
  {
   "cell_type": "code",
   "execution_count": null,
   "metadata": {},
   "outputs": [],
   "source": [
    "# from IPython.display import Image\n",
    "# Image(fname)"
   ]
  },
  {
   "cell_type": "markdown",
   "metadata": {},
   "source": [
    "## To do\n",
    "- pick the best model\n",
    "- test on reserve data set\n",
    "- running with multiple cores on a batch node.\n",
    "- using multiple nodes\n",
    "- using GPU nodes\n",
    "- Test a host of models using ipyparallel\n",
    "- make changes to incorporate regular data in training and reserved data in testing\n",
    "- way to store tested values for easy plotting"
   ]
  },
  {
   "cell_type": "code",
   "execution_count": null,
   "metadata": {},
   "outputs": [],
   "source": []
  },
  {
   "cell_type": "code",
   "execution_count": null,
   "metadata": {},
   "outputs": [],
   "source": []
  }
 ],
 "metadata": {
  "anaconda-cloud": {},
  "kernelspec": {
   "display_name": "v_py3",
   "language": "python",
   "name": "v_jpt_py3"
  },
  "language_info": {
   "codemirror_mode": {
    "name": "ipython",
    "version": 3
   },
   "file_extension": ".py",
   "mimetype": "text/x-python",
   "name": "python",
   "nbconvert_exporter": "python",
   "pygments_lexer": "ipython3",
   "version": "3.6.6"
  },
  "toc-autonumbering": false,
  "toc-showcode": false,
  "toc-showmarkdowntxt": false,
  "toc-showtags": true
 },
 "nbformat": 4,
 "nbformat_minor": 2
}
