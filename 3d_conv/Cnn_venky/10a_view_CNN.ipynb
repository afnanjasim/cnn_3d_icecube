{
 "cells": [
  {
   "cell_type": "markdown",
   "metadata": {},
   "source": [
    "# Code for Ice-Cube 3D CNN\n",
    "\n",
    "- Oct 29, 2018: This code just makes plots for previously trained CNNs"
   ]
  },
  {
   "cell_type": "code",
   "execution_count": 2,
   "metadata": {
    "scrolled": false
   },
   "outputs": [],
   "source": [
    "import sys\n",
    "import os\n",
    "\n",
    "import matplotlib.pyplot as plt\n",
    "import numpy as np\n",
    "import glob\n",
    "import pickle\n",
    "import time"
   ]
  },
  {
   "cell_type": "code",
   "execution_count": 2,
   "metadata": {},
   "outputs": [],
   "source": [
    "%matplotlib widget\n",
    "# %matplotlib inline"
   ]
  },
  {
   "cell_type": "markdown",
   "metadata": {},
   "source": [
    "Useful blog for keras conv3D: http://learnandshare645.blogspot.com/2016/06/3d-cnn-in-keras-action-recognition.html"
   ]
  },
  {
   "cell_type": "code",
   "execution_count": 3,
   "metadata": {},
   "outputs": [
    {
     "name": "stderr",
     "output_type": "stream",
     "text": [
      "Using TensorFlow backend.\n"
     ]
    }
   ],
   "source": [
    "# keras modules\n",
    "import keras\n",
    "from keras import layers, models, optimizers, callbacks  # or tensorflow.keras as keras\n",
    "import tensorflow as tf\n",
    "from sklearn.utils import shuffle\n",
    "from sklearn.metrics import roc_curve, auc, roc_auc_score\n",
    "from keras.models import load_model\n",
    "\n"
   ]
  },
  {
   "cell_type": "markdown",
   "metadata": {},
   "source": [
    "## Modules"
   ]
  },
  {
   "cell_type": "code",
   "execution_count": 4,
   "metadata": {},
   "outputs": [],
   "source": [
    "def f_get_ydata_and_wts(data_dir,f1,f2):\n",
    "    ''' Load extracted data from files. Just extracting ydata and weights\n",
    "    returns : inpy,weights as arrays\n",
    "    '''\n",
    "\n",
    "    inpy=np.loadtxt(data_dir+f1)\n",
    "    wts=np.loadtxt(data_dir+f2)\n",
    "    \n",
    "    return inpy,wts\n",
    "    \n",
    "    \n",
    "def f_plot_learning(history):\n",
    "    \n",
    "    fig=plt.figure()\n",
    "    # Plot training & validation accuracy values\n",
    "    fig.add_subplot(2,1,1)\n",
    "    plt.plot(history['acc'],label='Train')\n",
    "    plt.plot(history['val_acc'],label='Validation')\n",
    "#     plt.title('Model accuracy')\n",
    "    plt.ylabel('Accuracy')\n",
    "\n",
    "    # Plot loss values\n",
    "    fig.add_subplot(2,1,2)\n",
    "    plt.plot(history['loss'],label='Train')\n",
    "    plt.plot(history['val_loss'],label='Validation')\n",
    "#     plt.title('Model loss')\n",
    "    plt.ylabel('Loss')\n",
    "    plt.xlabel('Epoch')\n",
    "    plt.legend(loc='best')\n",
    "\n",
    "\n",
    "def f_plot_roc_curve(fpr,tpr):\n",
    "    '''\n",
    "    Module for roc plot and printing AUC\n",
    "    '''\n",
    "    plt.figure()\n",
    "    # plt.plot(fpr,tpr)\n",
    "    plt.scatter(fpr,tpr)\n",
    "    plt.semilogx(fpr, tpr)\n",
    "  # Zooms\n",
    "    plt.xlim([10**-7,1.0])\n",
    "    plt.ylim([0,1.0])\n",
    "#     plt.xscale('log')\n",
    "#     plt.xlim(1e-10,1e-5)\n",
    "    plt.show()\n",
    "\n",
    "    # AUC \n",
    "    auc_val = auc(fpr, tpr)\n",
    "    print(\"AUC: \",auc_val)\n",
    "\n",
    "\n",
    "def f_plot_fit(inpy,wts,model_dict,model_loc):\n",
    "    '''\n",
    "    Plot fit results.\n",
    "    '''\n",
    "    \n",
    "    model_save_dir=model_loc\n",
    "    model_name=model_dict['name'] # string for the model\n",
    "    fname_model,fname_history='model_{0}.h5'.format(model_name),'history_{0}.pickle'.format(model_name)\n",
    "    \n",
    "        \n",
    "    ########################\n",
    "    ### Read model and history\n",
    "    \n",
    "    ### Check if files exist\n",
    "    assert os.path.exists(model_save_dir+fname_model),\"Model not saved\"\n",
    "    assert os.path.exists(model_save_dir+fname_history),\"History not saved\"\n",
    "    \n",
    "    model=load_model(model_save_dir+fname_model)\n",
    "    with open(model_save_dir+fname_history,'rb') as f:\n",
    "        history= pickle.load(f)\n",
    "    \n",
    "    ########################\n",
    "    model.summary()\n",
    "    # Plot tested model\n",
    "    f_plot_learning(history)\n",
    "    \n",
    "    ########################\n",
    "    # Get test predictions\n",
    "    \n",
    "    test_file_name=model_save_dir+'y-predict_model-'+str(model_name)+'.pred'\n",
    "    test_y_file_name=model_save_dir+'y-test_model-'+str(model_name)+'.test'\n",
    "    test_weights_file_name=model_save_dir+'wts-test_model-'+str(model_name)+'.test'    \n",
    "    print(\"Using test prediction from previous test\",test_file_name)\n",
    "\n",
    "    assert os.path.exists(test_file_name),\"y-predictions not saved\"\n",
    "    y_pred=np.loadtxt(test_file_name)\n",
    "    ydata=np.loadtxt(test_y_file_name)\n",
    "    wts=np.loadtxt(test_weights_file_name)\n",
    "    assert(test_y.shape==y_pred.shape),\"Data %s and prediction arrays %s are not of the same size\"%(test_y.shape,y_pred.shape)\n",
    "    \n",
    "    fpr,tpr,threshold=roc_curve(ydata,y_pred,sample_weight=wts)\n",
    "    print(fpr.shape,tpr.shape,threshold.shape)\n",
    "    f_plot_roc_curve(fpr,tpr)\n",
    "    \n",
    "    model_dict['model'],model_dict['history']=model,history\n",
    "    \n",
    "    return model_dict\n",
    "\n"
   ]
  },
  {
   "cell_type": "markdown",
   "metadata": {},
   "source": [
    "## Read part of test data"
   ]
  },
  {
   "cell_type": "code",
   "execution_count": 5,
   "metadata": {},
   "outputs": [],
   "source": [
    "if __name__=='__main__':\n",
    "    \n",
    "    model_loc='/global/project/projectdirs/dasrepo/vpa/ice_cube/data_for_cnn/Dec2_no-cut_saved_models/'\n",
    "\n",
    "    ###Extract data : Only extract y-data and weights for tests, which has been saved already along with the model.\n",
    "    ### Note!: the test file data is the same for all models, so just pick the first one. ###\n",
    "    f1,f2='y-test_model-1.test','wts-test_model-1.test'\n",
    "    inpy,wts=f_get_ydata_and_wts(model_loc,f1,f2)\n",
    "    test_y,test_wts=inpy[:],wts[:]   \n",
    "    \n",
    "\n"
   ]
  },
  {
   "cell_type": "code",
   "execution_count": 6,
   "metadata": {},
   "outputs": [
    {
     "name": "stdout",
     "output_type": "stream",
     "text": [
      "(752604,) (752604,) (752604,) (752604,)\n"
     ]
    }
   ],
   "source": [
    "print(inpy.shape,wts.shape,test_y.shape,test_wts.shape)"
   ]
  },
  {
   "cell_type": "code",
   "execution_count": 7,
   "metadata": {},
   "outputs": [
    {
     "data": {
      "application/vnd.jupyter.widget-view+json": {
       "model_id": "a8a390f87c22411f949576ec5d8f6470",
       "version_major": 2,
       "version_minor": 0
      },
      "text/plain": [
       "FigureCanvasNbAgg()"
      ]
     },
     "metadata": {},
     "output_type": "display_data"
    },
    {
     "data": {
      "application/vnd.jupyter.widget-view+json": {
       "model_id": "d38369a73de4428a80a4c3e0fb16761a",
       "version_major": 2,
       "version_minor": 0
      },
      "text/plain": [
       "FigureCanvasNbAgg()"
      ]
     },
     "metadata": {},
     "output_type": "display_data"
    }
   ],
   "source": [
    "### Plot test data\n",
    "\n",
    "# Plot y\n",
    "plt.figure()\n",
    "plt.plot(test_y)\n",
    "plt.title(\"test data weights\")\n",
    "plt.show()\n",
    "\n",
    "# Plot wts\n",
    "plt.figure()\n",
    "plt.plot(test_wts)\n",
    "plt.title(\"test data weights\")\n",
    "plt.show()\n"
   ]
  },
  {
   "cell_type": "markdown",
   "metadata": {},
   "source": [
    "## Plot fits"
   ]
  },
  {
   "cell_type": "code",
   "execution_count": 8,
   "metadata": {},
   "outputs": [
    {
     "name": "stdout",
     "output_type": "stream",
     "text": [
      "1 {'name': '1', 'description': None, 'model': None, 'history': None}\n",
      "_________________________________________________________________\n",
      "Layer (type)                 Output Shape              Param #   \n",
      "=================================================================\n",
      "input_1 (InputLayer)         (None, 10, 20, 60, 1)     0         \n",
      "_________________________________________________________________\n",
      "conv3d_1 (Conv3D)            (None, 10, 20, 60, 10)    280       \n",
      "_________________________________________________________________\n",
      "max_pooling3d_1 (MaxPooling3 (None, 5, 10, 30, 10)     0         \n",
      "_________________________________________________________________\n",
      "conv3d_2 (Conv3D)            (None, 5, 10, 30, 10)     2710      \n",
      "_________________________________________________________________\n",
      "max_pooling3d_2 (MaxPooling3 (None, 2, 5, 15, 10)      0         \n",
      "_________________________________________________________________\n",
      "conv3d_3 (Conv3D)            (None, 2, 5, 15, 10)      2710      \n",
      "_________________________________________________________________\n",
      "max_pooling3d_3 (MaxPooling3 (None, 1, 2, 7, 10)       0         \n",
      "_________________________________________________________________\n",
      "flatten_1 (Flatten)          (None, 140)               0         \n",
      "_________________________________________________________________\n",
      "dense_1 (Dense)              (None, 10)                1410      \n",
      "_________________________________________________________________\n",
      "dense_2 (Dense)              (None, 1)                 11        \n",
      "=================================================================\n",
      "Total params: 7,121\n",
      "Trainable params: 7,121\n",
      "Non-trainable params: 0\n",
      "_________________________________________________________________\n"
     ]
    },
    {
     "data": {
      "application/vnd.jupyter.widget-view+json": {
       "model_id": "dbc4c39eac27496ca838a687b1034b9b",
       "version_major": 2,
       "version_minor": 0
      },
      "text/plain": [
       "FigureCanvasNbAgg()"
      ]
     },
     "metadata": {},
     "output_type": "display_data"
    },
    {
     "name": "stdout",
     "output_type": "stream",
     "text": [
      "Using test prediction from previous test /global/project/projectdirs/dasrepo/vpa/ice_cube/data_for_cnn/Dec2_no-cut_saved_models/y-predict_model-1.pred\n",
      "(720880,) (720880,) (720880,)\n"
     ]
    },
    {
     "data": {
      "application/vnd.jupyter.widget-view+json": {
       "model_id": "06639c06bf184e908d43b4ef06cc46ce",
       "version_major": 2,
       "version_minor": 0
      },
      "text/plain": [
       "FigureCanvasNbAgg()"
      ]
     },
     "metadata": {},
     "output_type": "display_data"
    },
    {
     "name": "stdout",
     "output_type": "stream",
     "text": [
      "AUC:  0.9450023200792073\n",
      "2 {'name': '2', 'description': None, 'model': None, 'history': None}\n",
      "_________________________________________________________________\n",
      "Layer (type)                 Output Shape              Param #   \n",
      "=================================================================\n",
      "input_2 (InputLayer)         (None, 10, 20, 60, 1)     0         \n",
      "_________________________________________________________________\n",
      "conv3d_4 (Conv3D)            (None, 10, 20, 60, 10)    280       \n",
      "_________________________________________________________________\n",
      "max_pooling3d_4 (MaxPooling3 (None, 5, 10, 30, 10)     0         \n",
      "_________________________________________________________________\n",
      "dropout_1 (Dropout)          (None, 5, 10, 30, 10)     0         \n",
      "_________________________________________________________________\n",
      "conv3d_5 (Conv3D)            (None, 5, 10, 30, 10)     2710      \n",
      "_________________________________________________________________\n",
      "max_pooling3d_5 (MaxPooling3 (None, 2, 5, 15, 10)      0         \n",
      "_________________________________________________________________\n",
      "dropout_2 (Dropout)          (None, 2, 5, 15, 10)      0         \n",
      "_________________________________________________________________\n",
      "conv3d_6 (Conv3D)            (None, 2, 5, 15, 10)      2710      \n",
      "_________________________________________________________________\n",
      "max_pooling3d_6 (MaxPooling3 (None, 1, 2, 7, 10)       0         \n",
      "_________________________________________________________________\n",
      "dropout_3 (Dropout)          (None, 1, 2, 7, 10)       0         \n",
      "_________________________________________________________________\n",
      "flatten_2 (Flatten)          (None, 140)               0         \n",
      "_________________________________________________________________\n",
      "dense_3 (Dense)              (None, 64)                9024      \n",
      "_________________________________________________________________\n",
      "dropout_4 (Dropout)          (None, 64)                0         \n",
      "_________________________________________________________________\n",
      "dense_4 (Dense)              (None, 1)                 65        \n",
      "=================================================================\n",
      "Total params: 14,789\n",
      "Trainable params: 14,789\n",
      "Non-trainable params: 0\n",
      "_________________________________________________________________\n"
     ]
    },
    {
     "data": {
      "application/vnd.jupyter.widget-view+json": {
       "model_id": "ac0958390b704964b1ad607384749771",
       "version_major": 2,
       "version_minor": 0
      },
      "text/plain": [
       "FigureCanvasNbAgg()"
      ]
     },
     "metadata": {},
     "output_type": "display_data"
    },
    {
     "name": "stdout",
     "output_type": "stream",
     "text": [
      "Using test prediction from previous test /global/project/projectdirs/dasrepo/vpa/ice_cube/data_for_cnn/Dec2_no-cut_saved_models/y-predict_model-2.pred\n",
      "(716798,) (716798,) (716798,)\n"
     ]
    },
    {
     "data": {
      "application/vnd.jupyter.widget-view+json": {
       "model_id": "a5392d185dd74321b6fe6e03cadc210c",
       "version_major": 2,
       "version_minor": 0
      },
      "text/plain": [
       "FigureCanvasNbAgg()"
      ]
     },
     "metadata": {},
     "output_type": "display_data"
    },
    {
     "name": "stdout",
     "output_type": "stream",
     "text": [
      "AUC:  0.9293040136246258\n",
      "3 {'name': '3', 'description': None, 'model': None, 'history': None}\n",
      "_________________________________________________________________\n",
      "Layer (type)                 Output Shape              Param #   \n",
      "=================================================================\n",
      "input_3 (InputLayer)         (None, 10, 20, 60, 1)     0         \n",
      "_________________________________________________________________\n",
      "conv3d_7 (Conv3D)            (None, 10, 20, 60, 6)     168       \n",
      "_________________________________________________________________\n",
      "max_pooling3d_7 (MaxPooling3 (None, 5, 10, 30, 6)      0         \n",
      "_________________________________________________________________\n",
      "dropout_5 (Dropout)          (None, 5, 10, 30, 6)      0         \n",
      "_________________________________________________________________\n",
      "conv3d_8 (Conv3D)            (None, 5, 10, 30, 6)      978       \n",
      "_________________________________________________________________\n",
      "max_pooling3d_8 (MaxPooling3 (None, 2, 5, 15, 6)       0         \n",
      "_________________________________________________________________\n",
      "dropout_6 (Dropout)          (None, 2, 5, 15, 6)       0         \n",
      "_________________________________________________________________\n",
      "conv3d_9 (Conv3D)            (None, 2, 5, 15, 6)       978       \n",
      "_________________________________________________________________\n",
      "max_pooling3d_9 (MaxPooling3 (None, 1, 2, 7, 6)        0         \n",
      "_________________________________________________________________\n",
      "dropout_7 (Dropout)          (None, 1, 2, 7, 6)        0         \n",
      "_________________________________________________________________\n",
      "flatten_3 (Flatten)          (None, 84)                0         \n",
      "_________________________________________________________________\n",
      "dense_5 (Dense)              (None, 64)                5440      \n",
      "_________________________________________________________________\n",
      "dropout_8 (Dropout)          (None, 64)                0         \n",
      "_________________________________________________________________\n",
      "dense_6 (Dense)              (None, 1)                 65        \n",
      "=================================================================\n",
      "Total params: 7,629\n",
      "Trainable params: 7,629\n",
      "Non-trainable params: 0\n",
      "_________________________________________________________________\n"
     ]
    },
    {
     "data": {
      "application/vnd.jupyter.widget-view+json": {
       "model_id": "a23b21be513d4c7184fbc430505ce4a0",
       "version_major": 2,
       "version_minor": 0
      },
      "text/plain": [
       "FigureCanvasNbAgg()"
      ]
     },
     "metadata": {},
     "output_type": "display_data"
    },
    {
     "name": "stdout",
     "output_type": "stream",
     "text": [
      "Using test prediction from previous test /global/project/projectdirs/dasrepo/vpa/ice_cube/data_for_cnn/Dec2_no-cut_saved_models/y-predict_model-3.pred\n",
      "(700371,) (700371,) (700371,)\n"
     ]
    },
    {
     "data": {
      "application/vnd.jupyter.widget-view+json": {
       "model_id": "24d38d6f5e9e4e3cb5e2d379bd8aa8f6",
       "version_major": 2,
       "version_minor": 0
      },
      "text/plain": [
       "FigureCanvasNbAgg()"
      ]
     },
     "metadata": {},
     "output_type": "display_data"
    },
    {
     "name": "stdout",
     "output_type": "stream",
     "text": [
      "AUC:  0.9074157527957809\n",
      "4 {'name': '4', 'description': None, 'model': None, 'history': None}\n",
      "_________________________________________________________________\n",
      "Layer (type)                 Output Shape              Param #   \n",
      "=================================================================\n",
      "input_4 (InputLayer)         (None, 10, 20, 60, 1)     0         \n",
      "_________________________________________________________________\n",
      "conv3d_10 (Conv3D)           (None, 10, 20, 60, 6)     168       \n",
      "_________________________________________________________________\n",
      "max_pooling3d_10 (MaxPooling (None, 5, 10, 30, 6)      0         \n",
      "_________________________________________________________________\n",
      "dropout_9 (Dropout)          (None, 5, 10, 30, 6)      0         \n",
      "_________________________________________________________________\n",
      "conv3d_11 (Conv3D)           (None, 5, 10, 30, 6)      978       \n",
      "_________________________________________________________________\n",
      "max_pooling3d_11 (MaxPooling (None, 2, 5, 15, 6)       0         \n",
      "_________________________________________________________________\n",
      "dropout_10 (Dropout)         (None, 2, 5, 15, 6)       0         \n",
      "_________________________________________________________________\n",
      "conv3d_12 (Conv3D)           (None, 2, 5, 15, 6)       978       \n",
      "_________________________________________________________________\n",
      "max_pooling3d_12 (MaxPooling (None, 1, 2, 7, 6)        0         \n",
      "_________________________________________________________________\n",
      "dropout_11 (Dropout)         (None, 1, 2, 7, 6)        0         \n",
      "_________________________________________________________________\n",
      "flatten_4 (Flatten)          (None, 84)                0         \n",
      "_________________________________________________________________\n",
      "dense_7 (Dense)              (None, 120)               10200     \n",
      "_________________________________________________________________\n",
      "dropout_12 (Dropout)         (None, 120)               0         \n",
      "_________________________________________________________________\n",
      "dense_8 (Dense)              (None, 1)                 121       \n",
      "=================================================================\n",
      "Total params: 12,445\n",
      "Trainable params: 12,445\n",
      "Non-trainable params: 0\n",
      "_________________________________________________________________\n"
     ]
    },
    {
     "data": {
      "application/vnd.jupyter.widget-view+json": {
       "model_id": "2b26a4afa6ad4fa299c50dd3e17944cf",
       "version_major": 2,
       "version_minor": 0
      },
      "text/plain": [
       "FigureCanvasNbAgg()"
      ]
     },
     "metadata": {},
     "output_type": "display_data"
    },
    {
     "name": "stdout",
     "output_type": "stream",
     "text": [
      "Using test prediction from previous test /global/project/projectdirs/dasrepo/vpa/ice_cube/data_for_cnn/Dec2_no-cut_saved_models/y-predict_model-4.pred\n",
      "(698928,) (698928,) (698928,)\n"
     ]
    },
    {
     "data": {
      "application/vnd.jupyter.widget-view+json": {
       "model_id": "41403f0bc2f34a07837f0e292c86eb26",
       "version_major": 2,
       "version_minor": 0
      },
      "text/plain": [
       "FigureCanvasNbAgg()"
      ]
     },
     "metadata": {},
     "output_type": "display_data"
    },
    {
     "name": "stdout",
     "output_type": "stream",
     "text": [
      "AUC:  0.9082798107316151\n",
      "5 {'name': '5', 'description': None, 'model': None, 'history': None}\n",
      "_________________________________________________________________\n",
      "Layer (type)                 Output Shape              Param #   \n",
      "=================================================================\n",
      "input_5 (InputLayer)         (None, 10, 20, 60, 1)     0         \n",
      "_________________________________________________________________\n",
      "conv3d_13 (Conv3D)           (None, 10, 20, 60, 6)     726       \n",
      "_________________________________________________________________\n",
      "max_pooling3d_13 (MaxPooling (None, 3, 6, 20, 6)       0         \n",
      "_________________________________________________________________\n",
      "dropout_13 (Dropout)         (None, 3, 6, 20, 6)       0         \n",
      "_________________________________________________________________\n",
      "conv3d_14 (Conv3D)           (None, 3, 6, 20, 6)       4326      \n",
      "_________________________________________________________________\n",
      "max_pooling3d_14 (MaxPooling (None, 1, 2, 6, 6)        0         \n",
      "_________________________________________________________________\n",
      "dropout_14 (Dropout)         (None, 1, 2, 6, 6)        0         \n",
      "_________________________________________________________________\n",
      "flatten_5 (Flatten)          (None, 72)                0         \n",
      "_________________________________________________________________\n",
      "dense_9 (Dense)              (None, 120)               8760      \n",
      "_________________________________________________________________\n",
      "dropout_15 (Dropout)         (None, 120)               0         \n",
      "_________________________________________________________________\n",
      "dense_10 (Dense)             (None, 1)                 121       \n",
      "=================================================================\n",
      "Total params: 13,933\n",
      "Trainable params: 13,933\n",
      "Non-trainable params: 0\n",
      "_________________________________________________________________\n"
     ]
    },
    {
     "data": {
      "application/vnd.jupyter.widget-view+json": {
       "model_id": "e9d49072d54549fca1483fbf1384905b",
       "version_major": 2,
       "version_minor": 0
      },
      "text/plain": [
       "FigureCanvasNbAgg()"
      ]
     },
     "metadata": {},
     "output_type": "display_data"
    },
    {
     "name": "stdout",
     "output_type": "stream",
     "text": [
      "Using test prediction from previous test /global/project/projectdirs/dasrepo/vpa/ice_cube/data_for_cnn/Dec2_no-cut_saved_models/y-predict_model-5.pred\n",
      "(2,) (2,) (2,)\n"
     ]
    },
    {
     "data": {
      "application/vnd.jupyter.widget-view+json": {
       "model_id": "b13e94ba5963473d94018f062f5b748d",
       "version_major": 2,
       "version_minor": 0
      },
      "text/plain": [
       "FigureCanvasNbAgg()"
      ]
     },
     "metadata": {},
     "output_type": "display_data"
    },
    {
     "name": "stdout",
     "output_type": "stream",
     "text": [
      "AUC:  0.5\n"
     ]
    }
   ],
   "source": [
    "dict_list=[]\n",
    "for i in range(1,6):\n",
    "# for i in range(1,2):\n",
    "    model_dict={'name':str(i),'description':None,'model':None,'history':None}\n",
    "    print(i,model_dict)\n",
    "    model_dict=f_plot_fit(test_y,test_wts,model_dict,model_loc)\n",
    "    dict_list.append(model_dict)"
   ]
  },
  {
   "cell_type": "markdown",
   "metadata": {},
   "source": [
    "### Comparing models"
   ]
  },
  {
   "cell_type": "code",
   "execution_count": 9,
   "metadata": {},
   "outputs": [],
   "source": [
    "# dict_list[0]"
   ]
  },
  {
   "cell_type": "code",
   "execution_count": 10,
   "metadata": {},
   "outputs": [
    {
     "name": "stdout",
     "output_type": "stream",
     "text": [
      "Model 1\n",
      "val_loss [0.3182131493045388, 0.28443256651377935, 0.24086589907892064, 0.21594179985525985, 0.21354722345885782, 0.20398141269038492, 0.20050183623733142, 0.20205124440033778, 0.20962622090042485, 0.19240169106923702, 0.20524825179164305, 0.18539710079321145, 0.1883549608755131, 0.19149937261760297, 0.19653342411696612, 0.19596384648549084, 0.18685260002111084, 0.1951380814973838, 0.19027778037361331, 0.18527841486090207]\n",
      "val_acc [0.889180882811456, 0.889982628836132, 0.9130328270455659, 0.9225646964473919, 0.9228542158451916, 0.9251926417504964, 0.9267961337998484, 0.9298917642840139, 0.9200481047588257, 0.9283996258492003, 0.9228542158451916, 0.9314507148875505, 0.9308048639232281, 0.9307380517545052, 0.9315175270589283, 0.9282660015117543, 0.932942853322364, 0.9314284441646428, 0.9326533339245644, 0.9325197095871184]\n",
      "loss [0.42471213855000045, 0.29682878761742165, 0.2591850371571779, 0.226465350202881, 0.21716913239568894, 0.2079125521610977, 0.2009007216224308, 0.19387131597617746, 0.19108714778153624, 0.187140659281411, 0.18206351950223948, 0.18013170398884545, 0.17673970970032712, 0.17585585684762392, 0.17348701945859057, 0.1722059618856729, 0.16826349720479805, 0.16790698099474247, 0.16628292560587854, 0.16370088615801298]\n",
      "acc [0.8533741389066379, 0.8960335220121458, 0.909547628452442, 0.9180378219524904, 0.9199135623711114, 0.9235224430748633, 0.9248935983554565, 0.9276578474011324, 0.9293361414619633, 0.9302136808441582, 0.9323417138317931, 0.9322100829274713, 0.9344478083427842, 0.9344149006238958, 0.9356215172708179, 0.9361370716432446, 0.9367184414822161, 0.9368281339177399, 0.9377605194954669, 0.9386490281225218]\n",
      "Model 2\n",
      "val_loss [0.48843747102748597, 0.4907702605146421, 0.41721484381251706, 0.44325305284606786, 0.4020073634575355, 0.335900027956826, 0.3381942839185717, 0.32181701443491734, 0.33424457613781805, 0.33752645583154045, 0.3202974616925035, 0.3031535521438353, 0.3462409715289597, 0.3261248295252522, 0.3536482975613667, 0.3304550439394119, 0.30433197853071514, 0.3002303154634413, 0.32569014346444003, 0.3147159494782528]\n",
      "val_acc [0.8051534452781789, 0.8056211304592399, 0.8147521268513828, 0.8141953587786912, 0.8201861832408532, 0.8508752394076163, 0.8482472941045118, 0.8622555788134335, 0.8572223954363011, 0.8663756625513517, 0.8649280655623534, 0.8806511959351653, 0.8541267649521356, 0.8686027348421181, 0.8630573248407644, 0.8530800409754753, 0.881207964007857, 0.8766424658117855, 0.8598057992935902, 0.8562424836283637]\n",
      "loss [1.385093885149409, 0.4640834009036442, 0.42788117535114495, 0.3976447163879947, 0.379121230249684, 0.3647511538576941, 0.35503111949617033, 0.34768692721558364, 0.34509457156848666, 0.3400494978953138, 0.3374575102744036, 0.3345201165405907, 0.3349043396036976, 0.331134387323392, 0.3309715132078121, 0.3304709020161408, 0.3296384366713737, 0.32683470427694433, 0.3297555521251518, 0.3294420650121877]\n",
      "acc [0.7984950199692514, 0.815223114395104, 0.8279254968988279, 0.8399039094457819, 0.8483831336957397, 0.8539335702768116, 0.8589355447325698, 0.8621605019525251, 0.8643104734351106, 0.8678754771698834, 0.869378263352183, 0.8690382168373654, 0.870848141812979, 0.8724606204177261, 0.8706177877206088, 0.8730639287464177, 0.8730639287359566, 0.8736672370724939, 0.8729871440507044, 0.8723728664902292]\n",
      "Model 3\n",
      "val_loss [0.4910621630442466, 0.434901060491122, 0.36411119770841244, 0.35191677894301737, 0.3399703523562186, 0.34906706152756195, 0.33890967600239735, 0.3226525035885616, 0.3348109790248322, 0.33275998567378384, 0.3208354583886104, 0.3318894418925253, 0.3212064515442037, 0.3169523653493024, 0.3061810779556135, 0.33874306577063634, 0.3116730265702645, 0.32296864267332953, 0.3412917178952345, 0.32745670839400126]\n",
      "val_acc [0.8051089038323636, 0.8098302970887887, 0.8320787492735466, 0.8281813727647052, 0.838648612531308, 0.8316110640924856, 0.8433477350648254, 0.851766068323923, 0.8487372500084804, 0.850162576274571, 0.8580686829067924, 0.8439267738604247, 0.8536145383252592, 0.8461538461511913, 0.8676005523112732, 0.8407866019304439, 0.864415838935477, 0.8519887755529997, 0.839049485543646, 0.8476905260318202]\n",
      "loss [1.4519761470241364, 0.4630363097255088, 0.4053795352034841, 0.37614155695058754, 0.3621809911871222, 0.35206769547693234, 0.34868643135139676, 0.34649265565013754, 0.34389968785567604, 0.33872087068699175, 0.343367851614497, 0.3387178608891126, 0.33631923340735326, 0.3352653526309437, 0.33435668955930503, 0.3361761693312994, 0.333662626692685, 0.33212261419163197, 0.33165081698784343, 0.33338754172569085]\n",
      "acc [0.7977052345197839, 0.8140603747040845, 0.8328397174375504, 0.8443683910289322, 0.8517287525777719, 0.8566868500750122, 0.8587271291220739, 0.8604273616857011, 0.861140362426379, 0.8647163353981662, 0.861941117105015, 0.8655829055355011, 0.8659010135632139, 0.867052783996297, 0.8675354306498353, 0.8660545829520251, 0.8686762318511346, 0.8690272475925054, 0.8688078627606869, 0.8683471545733312]\n",
      "Model 4\n",
      "val_loss [0.49295554222240145, 0.48553399436272393, 0.39322958961159055, 0.33943234398595357, 0.3405758655566128, 0.3511160799699936, 0.32249477066301746, 0.3306602266940724, 0.33990646432085475, 0.32999083031010223, 0.32281979384252285, 0.3008766871792432, 0.32359099649229717, 0.302703175652102, 0.3106931355247933, 0.31009585810280565, 0.30910655255201086, 0.3422507408105856, 0.3053676550416, 0.3150127791722821]\n",
      "val_acc [0.8051089038323636, 0.8054429646759786, 0.8193844372161773, 0.8396062536163376, 0.8368001425299717, 0.8337267827687139, 0.8589372411001913, 0.8482918355503272, 0.8344839873475746, 0.8418333259071041, 0.8550398645913498, 0.8765311121972471, 0.8539485991688742, 0.8691595029174647, 0.8634359271301947, 0.8616988107433967, 0.8629682419464788, 0.8449957685599927, 0.8671328671328671, 0.8644603803812924]\n",
      "loss [1.5266701815690975, 0.47768306151849066, 0.42942364732445343, 0.37596345607059417, 0.3573474274897323, 0.3506160111306168, 0.3430086807162518, 0.3387164934566705, 0.3389370662296416, 0.3359437000599287, 0.3355503455657653, 0.33104491902942806, 0.3301422610819447, 0.33011748176439926, 0.33087848394495895, 0.32935266333310287, 0.32849104828463377, 0.331237242640511, 0.32585146258234177, 0.3282717704226358]\n",
      "acc [0.799482251766048, 0.8106708788504581, 0.8258303716405425, 0.8445438988996177, 0.8531986310359526, 0.8583651441410737, 0.8614475012144625, 0.8641020578376909, 0.8647931200834182, 0.8659668290140672, 0.8662959062840248, 0.8694550480426657, 0.8704532490817071, 0.8703984028809444, 0.8694111710736868, 0.87076038786456, 0.8716269580018948, 0.8686872010803031, 0.8736123908534243, 0.8711223728743281]\n",
      "Model 5\n",
      "val_loss [3.005399259536313, 3.1419912191922323, 3.1419912205515295, 3.1419912191922323, 3.1419912191922323, 3.1262044575757124, 3.120647565079765, 3.1419912191922323, 3.1419912191922323, 3.1419912191922323, 3.1419912191922323, 3.1419912191922323, 3.1419912191922323, 3.1419912191922323, 3.1419912191922323, 3.1419912191922323, 3.1419912191922323, 3.1419912191922323, 3.1419912191922323, 3.1419912191922323]\n",
      "val_acc [0.8098525678116963, 0.8050643623865483, 0.8050643623865483, 0.8050643623865483, 0.8050643623865483, 0.8060220034715779, 0.8063560643151929, 0.8050643623865483, 0.8050643623865483, 0.8050643623865483, 0.8050643623865483, 0.8050643623865483, 0.8050643623865483, 0.8050643623865483, 0.8050643623865483, 0.8050643623865483, 0.8050643623865483, 0.8050643623865483, 0.8050643623865483, 0.8050643623865483]\n",
      "loss [3.0800288166747167, 3.082159449972229, 3.089778209634112, 3.0852629121131105, 3.0896036900983406, 3.082242734560578, 3.0843119821789817, 3.085916796781996, 3.087838686406784, 3.086912888258127, 3.087127647462478, 3.084819535807772, 3.0897289717090284, 3.091051985266595, 3.091401735237652, 3.091050058359453, 3.0910500564757637, 3.0912287886260237, 3.0912287892334613, 3.0912287868236934]\n",
      "acc [0.8055482427195466, 0.8084002457110263, 0.8082466763169845, 0.808334430260173, 0.8082466763195998, 0.8086964152464039, 0.8085209073783337, 0.8085209073783337, 0.808422184198131, 0.8084770304093548, 0.8084660611618795, 0.8086086613162917, 0.8083015225255931, 0.8082247378429561, 0.8082027993558514, 0.8082247378377256, 0.8082247378351104, 0.8082137685954809, 0.8082137685850198, 0.8082137685850198]\n"
     ]
    }
   ],
   "source": [
    "## Comparing different models:\n",
    "\n",
    "for md in dict_list:\n",
    "#     print(md)\n",
    "    hist=md['history']\n",
    "#     print(hist)\n",
    "#     print(md)\n",
    "    print('Model %s'%(md['name']))\n",
    "    for key in hist.keys():\n",
    "        print(key,hist[key])\n",
    "#     print(md[''])\n",
    "        "
   ]
  },
  {
   "cell_type": "markdown",
   "metadata": {},
   "source": [
    "## -----------------------------------------------"
   ]
  },
  {
   "cell_type": "markdown",
   "metadata": {},
   "source": [
    "### Questions:\n"
   ]
  },
  {
   "cell_type": "markdown",
   "metadata": {},
   "source": [
    "#### Notes:\n",
    "- model.fit \n",
    "    - batch_size= sample of data used for training (subset of full training set). \n",
    "    - epoch= number of runs over training data\n",
    "    - callbacks=\n",
    "    \n",
    "- for layers.Input need size (x,y,z,1) in channels_last mode."
   ]
  },
  {
   "cell_type": "markdown",
   "metadata": {},
   "source": [
    "#### Roc curve notes:\n",
    "- We know y-value depending on signal or background (0 or 1).\n",
    "- The 3D-Cnn gives us a prediction for y, as a float between 0 or 1.\n",
    "- We must use a cut (threshold) to determine what constitues 0 / 1. Eg. 0.5\n",
    "- This gives us a false +ve rate a, true +ve .(fpr and tpr)\n",
    "- Roc curve plots this when varying the threshold\n",
    "- AUC gives area under this curve."
   ]
  },
  {
   "cell_type": "code",
   "execution_count": 11,
   "metadata": {},
   "outputs": [
    {
     "data": {
      "application/vnd.jupyter.widget-view+json": {
       "model_id": "64db355868cd42b7b79e79f31055a818",
       "version_major": 2,
       "version_minor": 0
      },
      "text/plain": [
       "FigureCanvasNbAgg()"
      ]
     },
     "metadata": {},
     "output_type": "display_data"
    }
   ],
   "source": [
    "# Plotting weights\n",
    "# print(train_wts.shape,test_wts.shape)\n",
    "\n",
    "# # Train data \n",
    "# plt.figure()\n",
    "# plt.plot(train_wts)\n",
    "# plt.title(\"train + cv data weigts \")\n",
    "# plt.show()\n",
    "\n",
    "plt.figure()\n",
    "plt.plot(test_wts)\n",
    "plt.title(\"test data weights\")\n",
    "plt.show()\n",
    "\n"
   ]
  },
  {
   "cell_type": "markdown",
   "metadata": {},
   "source": [
    "## View created figures"
   ]
  },
  {
   "cell_type": "code",
   "execution_count": 12,
   "metadata": {},
   "outputs": [],
   "source": [
    "# from IPython.display import IFrame\n",
    "\n",
    "\n",
    "# model_loc='/global/project/projectdirs/dasrepo/vpa/ice_cube/data_for_cnn/Nov5_saved_models/'\n",
    "# fle='learning_model1.'\n",
    "# fname=model_loc+\"%s.pdf\"%(fle)\n",
    "# fname='/global/project/projectdirs/dasrepo/vpa/ice_cube/data_for_cnn/Nov5_saved_models/learning_model1.eps'\n",
    "# print(fname)\n",
    "# print(os.path.exists(fname))\n",
    "# IFrame(fname, width=600, height=300)"
   ]
  },
  {
   "cell_type": "code",
   "execution_count": 13,
   "metadata": {},
   "outputs": [],
   "source": [
    "# from IPython.display import Image\n",
    "# Image(fname)"
   ]
  },
  {
   "cell_type": "markdown",
   "metadata": {},
   "source": [
    "## To do\n",
    "- pick the best model\n",
    "- test on reserve data set\n",
    "- running with multiple cores on a batch node.\n",
    "- using multiple nodes\n",
    "- using GPU nodes\n",
    "- Test a host of models using ipyparallel\n",
    "- make changes to incorporate regular data in training and reserved data in testing\n",
    "- way to store tested values for easy plotting\n",
    "\n",
    "\n",
    "Nov 21, 2018\n",
    "- Increase complications in model\n",
    "- Try to reproduce Zahra' resnet-18 plot\n",
    "- Get threshold from roc-curve to get the events that give 10^-7\n",
    "- Get results for hesse-cut data"
   ]
  },
  {
   "cell_type": "code",
   "execution_count": null,
   "metadata": {},
   "outputs": [],
   "source": []
  },
  {
   "cell_type": "code",
   "execution_count": 8,
   "metadata": {},
   "outputs": [
    {
     "name": "stdout",
     "output_type": "stream",
     "text": [
      "[0 1 2 3 4 5 6 7 8 9]\n",
      "[6 9 2 2 3 8 9 8 2 8]\n"
     ]
    }
   ],
   "source": [
    "a=np.arange(10)\n",
    "print(a)\n",
    "shuffle_idx=np.random.randint(0,10,size=10)\n",
    "print(shuffle_idx)"
   ]
  },
  {
   "cell_type": "code",
   "execution_count": 9,
   "metadata": {},
   "outputs": [
    {
     "data": {
      "text/plain": [
       "\u001b[0;31mDocstring:\u001b[0m\n",
       "random_sample(size=None)\n",
       "\n",
       "Return random floats in the half-open interval [0.0, 1.0).\n",
       "\n",
       "Results are from the \"continuous uniform\" distribution over the\n",
       "stated interval.  To sample :math:`Unif[a, b), b > a` multiply\n",
       "the output of `random_sample` by `(b-a)` and add `a`::\n",
       "\n",
       "  (b - a) * random_sample() + a\n",
       "\n",
       "Parameters\n",
       "----------\n",
       "size : int or tuple of ints, optional\n",
       "    Output shape.  If the given shape is, e.g., ``(m, n, k)``, then\n",
       "    ``m * n * k`` samples are drawn.  Default is None, in which case a\n",
       "    single value is returned.\n",
       "\n",
       "Returns\n",
       "-------\n",
       "out : float or ndarray of floats\n",
       "    Array of random floats of shape `size` (unless ``size=None``, in which\n",
       "    case a single float is returned).\n",
       "\n",
       "Examples\n",
       "--------\n",
       ">>> np.random.random_sample()\n",
       "0.47108547995356098\n",
       ">>> type(np.random.random_sample())\n",
       "<type 'float'>\n",
       ">>> np.random.random_sample((5,))\n",
       "array([ 0.30220482,  0.86820401,  0.1654503 ,  0.11659149,  0.54323428])\n",
       "\n",
       "Three-by-two array of random numbers from [-5, 0):\n",
       "\n",
       ">>> 5 * np.random.random_sample((3, 2)) - 5\n",
       "array([[-3.99149989, -0.52338984],\n",
       "       [-2.99091858, -0.79479508],\n",
       "       [-1.23204345, -1.75224494]])\n",
       "\u001b[0;31mType:\u001b[0m      builtin_function_or_method\n"
      ]
     },
     "metadata": {},
     "output_type": "display_data"
    }
   ],
   "source": [
    "? np.random."
   ]
  },
  {
   "cell_type": "code",
   "execution_count": null,
   "metadata": {},
   "outputs": [],
   "source": []
  },
  {
   "cell_type": "code",
   "execution_count": 14,
   "metadata": {},
   "outputs": [
    {
     "data": {
      "text/plain": [
       "5.897435897435898"
      ]
     },
     "execution_count": 14,
     "metadata": {},
     "output_type": "execute_result"
    }
   ],
   "source": [
    "(52/230 * 24/32.0)**(-1)"
   ]
  },
  {
   "cell_type": "code",
   "execution_count": null,
   "metadata": {},
   "outputs": [],
   "source": []
  }
 ],
 "metadata": {
  "anaconda-cloud": {},
  "kernelspec": {
   "display_name": "v_py3",
   "language": "python",
   "name": "v_jpt_py3"
  },
  "language_info": {
   "codemirror_mode": {
    "name": "ipython",
    "version": 3
   },
   "file_extension": ".py",
   "mimetype": "text/x-python",
   "name": "python",
   "nbconvert_exporter": "python",
   "pygments_lexer": "ipython3",
   "version": "3.6.6"
  },
  "toc-autonumbering": false,
  "toc-showcode": false,
  "toc-showmarkdowntxt": false,
  "toc-showtags": true
 },
 "nbformat": 4,
 "nbformat_minor": 2
}
