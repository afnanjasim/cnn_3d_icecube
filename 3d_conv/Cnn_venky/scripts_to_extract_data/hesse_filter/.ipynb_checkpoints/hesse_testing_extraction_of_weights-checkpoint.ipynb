{
 "cells": [
  {
   "cell_type": "markdown",
   "metadata": {},
   "source": [
    "# Read in the weights from hdf5 files "
   ]
  },
  {
   "cell_type": "code",
   "execution_count": 1,
   "metadata": {},
   "outputs": [],
   "source": [
    "import h5py\n",
    "import numpy as np\n",
    "import glob"
   ]
  },
  {
   "cell_type": "markdown",
   "metadata": {},
   "source": [
    "### General description of data:\n",
    "- There are two major keys : 'events' and 'pulses'.\n",
    "- The x-input is obtained from 'pulses'. The y-input and weights come from 'events'."
   ]
  },
  {
   "cell_type": "code",
   "execution_count": 4,
   "metadata": {},
   "outputs": [],
   "source": [
    "sigpath = \"/project/projectdirs/dasrepo/icecube_data/hdf5_out/filtered/nugen/11374/clsim-base-4.0.3.0.99_eff/\"\n",
    "sig_list=glob.glob(sigpath+'*00.hdf5')\n",
    "bgpath = \"/project/projectdirs/dasrepo/icecube_data/hdf5_out/filtered/corsika/11057/\"\n",
    "bg_list=glob.glob(bgpath+'*00.hdf5')"
   ]
  },
  {
   "cell_type": "code",
   "execution_count": 5,
   "metadata": {},
   "outputs": [
    {
     "name": "stdout",
     "output_type": "stream",
     "text": [
      "['events', 'pulses']\n",
      "corsika_0_1562_0\n",
      "[ ( 7600.25,  2.45570326,  186202.484375, -166.07914734,  307.48046875,  30.35827255,  0.40085119,  2.47283101,  58997104., b'PPlus', -37591.40234375,  29884.51953125,  111744.28125,  0.40353543,  0.00012987)] [('qtot', '<f4'), ('reco_azi', '<f4'), ('reco_energy', '<f4'), ('reco_x', '<f4'), ('reco_y', '<f4'), ('reco_z', '<f4'), ('reco_zen', '<f4'), ('true_azi', '<f4'), ('true_energy', '<f4'), ('true_type', 'S16'), ('true_x', '<f4'), ('true_y', '<f4'), ('true_z', '<f4'), ('true_zen', '<f4'), ('weight', '<f4')]\n",
      "[ 0.00012987]\n"
     ]
    }
   ],
   "source": [
    "f1= bg_list[0]\n",
    "f2=sig_list[0]\n",
    "\n",
    "file_name=f1\n",
    "h5_dta= h5py.File(file_name, 'r')\n",
    "\n",
    "# List all groups\n",
    "group_names=list(h5_dta.keys())\n",
    "print(group_names)\n",
    "key1=group_names[0]\n",
    "\n",
    "# Get the data\n",
    "sub_keys = list(h5_dta[key1])\n",
    "# print(data)\n",
    "sub_group1=sub_keys[0]\n",
    "print(sub_group1)\n",
    "\n",
    "data=h5_dta[key1][sub_group1].value\n",
    "print(data,data.dtype)\n",
    "weight=data['weight']\n",
    "print(weight[:])\n",
    "# weight,desc=data[0][-1],data.dtype[-1]\n",
    "# print(weight,desc)"
   ]
  },
  {
   "cell_type": "code",
   "execution_count": null,
   "metadata": {},
   "outputs": [],
   "source": [
    "np.mod(h5_dta[key1][sub_group1]['true_x'][0])"
   ]
  },
  {
   "cell_type": "code",
   "execution_count": 6,
   "metadata": {},
   "outputs": [
    {
     "name": "stdout",
     "output_type": "stream",
     "text": [
      "corsika_0_1562_0 \t 0.000129869\n",
      "corsika_0_248_0 \t 0.000246883\n",
      "corsika_0_2821_0 \t 0.000178055\n",
      "corsika_0_3041_0 \t 0.000437049\n",
      "corsika_0_3065_0 \t 0.000200282\n",
      "corsika_0_3108_0 \t 0.000865443\n",
      "corsika_0_3289_0 \t 0.000502207\n",
      "corsika_0_3670_0 \t 0.000132283\n",
      "corsika_0_3824_0 \t 0.00495917\n",
      "corsika_0_408_0 \t 0.000250454\n",
      "corsika_0_4096_0 \t 0.00238669\n",
      "corsika_0_4281_0 \t 0.000688802\n",
      "corsika_0_4603_0 \t 0.0158218\n",
      "corsika_0_4635_0 \t 0.000529659\n",
      "corsika_0_547_0 \t 8.48625e-05\n",
      "corsika_0_607_0 \t 5.32091e-05\n",
      "corsika_0_633_0 \t 7.48721e-05\n"
     ]
    }
   ],
   "source": [
    "name_lst=list(h5_dta['events'])\n",
    "for i in name_lst:\n",
    "    weight=h5_dta['events'][i]['weight'][0]\n",
    "    print(i,'\\t',weight)"
   ]
  },
  {
   "cell_type": "code",
   "execution_count": 15,
   "metadata": {},
   "outputs": [],
   "source": [
    "# import pandas as pd\n",
    "\n",
    "# bg = pd.HDFStore('/project/projectdirs/dasrepo/icecube_data/hdf5_out/filtered/corsika/11057/tfilter.Level2_IC86.2012_corsika.011057.000800.hdf5')\n",
    "# print(bg.keys())\n",
    "# # bg['/events/corsika_0_1249_0'].keys()"
   ]
  }
 ],
 "metadata": {
  "kernelspec": {
   "display_name": "Python [default]",
   "language": "python",
   "name": "python3"
  },
  "language_info": {
   "codemirror_mode": {
    "name": "ipython",
    "version": 3
   },
   "file_extension": ".py",
   "mimetype": "text/x-python",
   "name": "python",
   "nbconvert_exporter": "python",
   "pygments_lexer": "ipython3",
   "version": "3.6.5"
  }
 },
 "nbformat": 4,
 "nbformat_minor": 2
}
