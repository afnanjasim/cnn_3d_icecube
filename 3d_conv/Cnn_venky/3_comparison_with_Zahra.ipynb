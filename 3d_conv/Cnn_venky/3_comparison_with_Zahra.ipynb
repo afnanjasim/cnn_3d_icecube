{
 "cells": [
  {
   "cell_type": "markdown",
   "metadata": {},
   "source": [
    "# Plotting roc curve for Zahra's model\n",
    "### March 11, 2019"
   ]
  },
  {
   "cell_type": "code",
   "execution_count": 3,
   "metadata": {},
   "outputs": [],
   "source": [
    "import sys\n",
    "import os\n",
    "\n",
    "import matplotlib.pyplot as plt\n",
    "import numpy as np\n",
    "import glob\n",
    "import pickle\n",
    "import time\n",
    "\n",
    "import pandas as pd"
   ]
  },
  {
   "cell_type": "code",
   "execution_count": 4,
   "metadata": {},
   "outputs": [],
   "source": [
    "from sklearn.metrics import roc_curve, auc, roc_auc_score"
   ]
  },
  {
   "cell_type": "code",
   "execution_count": 5,
   "metadata": {},
   "outputs": [],
   "source": [
    "%matplotlib widget"
   ]
  },
  {
   "cell_type": "code",
   "execution_count": 23,
   "metadata": {},
   "outputs": [],
   "source": [
    "# Make numpy array of actual data and predictions\n",
    "def f_extract_zahra_data():\n",
    "    '''\n",
    "    Extract data from Zahra's predictions to plot the roc curve\n",
    "    '''\n",
    "    \n",
    "    fname='zahra_cnn_3d_preds.csv'\n",
    "    df1=pd.read_csv(fname)\n",
    "    \n",
    "    ### Get ydata values from dataframe: nugen -> signal (y=1), corsika -> background (y=0)\n",
    "    length=df1.shape[0]\n",
    "    ydata=np.zeros(length,dtype=np.float64)\n",
    "    for count,ii in enumerate(df1.event_id.values):\n",
    "        if ii=='nugen': ydata[count]=1\n",
    "\n",
    "    ### Get predictions and weights from dataframe\n",
    "    y_pred,wts=df1.pred.values,df1.weight.values\n",
    "\n",
    "    return ydata,y_pred,wts\n",
    "\n",
    "\n",
    "def f_plot_roc_curve(fpr,tpr,label=''):\n",
    "    '''\n",
    "    Module for roc plot and printing AUC\n",
    "    '''\n",
    "    \n",
    "    plt.plot(fpr,tpr,label=label)\n",
    "    plt.xscale('log')\n",
    "    plt.xlim([10**-7,1.0])\n",
    "    plt.ylim([0,1.0])\n",
    "    # y=x line for comparison\n",
    "#     x=np.linspace(0,1,num=500)\n",
    "#     plt.plot(x,x)\n",
    "#     plt.xscale('log')\n",
    "#     plt.xlim(1e-10,1e-5)\n",
    "    plt.show()\n",
    "\n",
    "    # AUC \n",
    "    auc_val = auc(fpr, tpr)\n",
    "    print(\"AUC: \",auc_val)\n"
   ]
  },
  {
   "cell_type": "code",
   "execution_count": null,
   "metadata": {},
   "outputs": [],
   "source": []
  },
  {
   "cell_type": "code",
   "execution_count": 25,
   "metadata": {},
   "outputs": [],
   "source": [
    "# param_arr=[14789,14789,503401,2116881,3499441,]\n",
    "# tpr_arr=[]"
   ]
  },
  {
   "cell_type": "markdown",
   "metadata": {},
   "source": [
    "## Plot my models after testing on full data"
   ]
  },
  {
   "cell_type": "code",
   "execution_count": 26,
   "metadata": {},
   "outputs": [],
   "source": [
    "model_save_dir='/global/project/projectdirs/dasrepo/vpa/ice_cube/data_for_cnn/results_data/final_2models_test_on_full_dataset/'\n",
    "\n",
    "model_name='4'"
   ]
  },
  {
   "cell_type": "code",
   "execution_count": 29,
   "metadata": {},
   "outputs": [],
   "source": [
    "def f_model_plot(model_name,label):\n",
    "    test_file_name=model_save_dir+'y-predict_model-'+str(model_name)+'.pred'\n",
    "    test_y_file_name=model_save_dir+'y-test_model-'+str(model_name)+'.test'\n",
    "    test_weights_file_name=model_save_dir+'wts-test_model-'+str(model_name)+'.test'    \n",
    "\n",
    "    assert os.path.exists(test_file_name),\"y-predictions not saved\"\n",
    "    y_pred=np.loadtxt(test_file_name)\n",
    "    ydata=np.loadtxt(test_y_file_name)\n",
    "    wts=np.loadtxt(test_weights_file_name)\n",
    "    # assert(test_y.shape[0]==y_pred.shape[0]),\"Data %s and prediction arrays %s are not of the same size\"%(test_y.shape,y_pred.shape)\n",
    "\n",
    "    # Condition for the case when the prediction is a 2column array \n",
    "    if len(y_pred.shape)==2: y_pred=y_pred[:,1]\n",
    "    \n",
    "#     print(y_pred.shape,ydata.shape)\n",
    "    fpr,tpr,threshold=roc_curve(ydata,y_pred,sample_weight=wts)\n",
    "    f_plot_roc_curve(fpr,tpr,label)\n",
    "    \n",
    "    \n"
   ]
  },
  {
   "cell_type": "code",
   "execution_count": 34,
   "metadata": {},
   "outputs": [
    {
     "data": {
      "application/vnd.jupyter.widget-view+json": {
       "model_id": "94013d57c1be4c68a57bf2b569187b28",
       "version_major": 2,
       "version_minor": 0
      },
      "text/plain": [
       "FigureCanvasNbAgg()"
      ]
     },
     "metadata": {},
     "output_type": "display_data"
    },
    {
     "name": "stdout",
     "output_type": "stream",
     "text": [
      "AUC:  0.954750151921803\n",
      "(737715,) (737715,)\n",
      "AUC:  0.9601436584457085\n",
      "(737715,) (737715,)\n",
      "AUC:  0.9349805347726424\n"
     ]
    }
   ],
   "source": [
    "plt.figure()\n",
    "label_dict={'old_paper':'resnet_paper','4':'layered CNN','7':'resnet 18'}\n",
    "\n",
    "## Plotting Zahra's old curve\n",
    "ydata,y_pred,wts=f_extract_zahra_data()\n",
    "fpr,tpr,threshold=roc_curve(ydata,y_pred,sample_weight=wts)\n",
    "f_plot_roc_curve(fpr,tpr,label='resnet_paper')\n",
    "\n",
    "\n",
    "for model_name in ['4','7']:\n",
    "    f_model_plot(model_name,label=label_dict[model_name])\n",
    "    \n",
    "\n",
    "plt.legend(loc='best')\n",
    "\n",
    "plt.savefig('full_test_data_roc_curve_comparison.pdf')"
   ]
  },
  {
   "cell_type": "code",
   "execution_count": null,
   "metadata": {},
   "outputs": [],
   "source": []
  },
  {
   "cell_type": "code",
   "execution_count": null,
   "metadata": {},
   "outputs": [],
   "source": []
  }
 ],
 "metadata": {
  "kernelspec": {
   "display_name": "v_py3",
   "language": "python",
   "name": "v_jpt_py3"
  },
  "language_info": {
   "codemirror_mode": {
    "name": "ipython",
    "version": 3
   },
   "file_extension": ".py",
   "mimetype": "text/x-python",
   "name": "python",
   "nbconvert_exporter": "python",
   "pygments_lexer": "ipython3",
   "version": "3.6.8"
  }
 },
 "nbformat": 4,
 "nbformat_minor": 2
}
